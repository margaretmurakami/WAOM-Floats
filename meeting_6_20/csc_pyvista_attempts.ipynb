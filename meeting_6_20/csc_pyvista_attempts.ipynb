{
 "cells": [
  {
   "cell_type": "code",
   "execution_count": 12,
   "id": "b108adae",
   "metadata": {},
   "outputs": [],
   "source": [
    "import matplotlib.pyplot as plt\n",
    "import matplotlib.path as mpath\n",
    "import matplotlib\n",
    "from matplotlib.axes import Axes\n",
    "%matplotlib inline\n",
    "import numpy as np\n",
    "import pyvista as pv\n",
    "from pyvista import examples\n",
    "import pandas as pd\n",
    "import xarray as xr\n",
    "import time\n",
    "import cartopy.crs as ccrs\n",
    "\n",
    "pv.global_theme.jupyter_backend = 'pythreejs'"
   ]
  },
  {
   "cell_type": "code",
   "execution_count": 13,
   "id": "617781f8",
   "metadata": {},
   "outputs": [],
   "source": [
    "ds = xr.open_dataset('/scratch/project_2000789/muramarg/run_5_31/output_WAOM_check/ocean_flt.nc')\n",
    "dt = xr.open_dataset('/scratch/project_2000789/muramarg/run_5_31/output_WAOM_check/ocean_avg_0001.nc')\n",
    "#dd = xr.open_dataset('/scratch/project_2000789/muramarg/run_5_31/output_WAOM_check/ocean_avg_0001.nc')\n",
    "dg = xr.open_dataset('/scratch/project_2000789/boeiradi/waom10_frc/waom10extend_grd.nc')"
   ]
  },
  {
   "cell_type": "code",
   "execution_count": 14,
   "id": "a3deb8c2",
   "metadata": {},
   "outputs": [],
   "source": [
    "x = (ds.variables['Xgrid'].values)\n",
    "y = (ds.variables['Ygrid'].values)\n",
    "z = (ds.variables['Zgrid'].values)"
   ]
  },
  {
   "cell_type": "code",
   "execution_count": 15,
   "id": "be2ffc72",
   "metadata": {},
   "outputs": [
    {
     "name": "stdout",
     "output_type": "stream",
     "text": [
      "(23521, 3675)\n"
     ]
    }
   ],
   "source": [
    "print(x.shape)"
   ]
  },
  {
   "cell_type": "code",
   "execution_count": 16,
   "id": "fe5f00a7",
   "metadata": {},
   "outputs": [],
   "source": [
    "def make_points(i):\n",
    "    \"\"\"Helper to make XYZ points\"\"\"\n",
    "    z1 = list(z[:,i])\n",
    "    x1 = list(x[:,i])\n",
    "    y1 = list(y[:,i])\n",
    "    return np.column_stack((x1, y1, z1))"
   ]
  },
  {
   "cell_type": "code",
   "execution_count": 17,
   "id": "434e7b02",
   "metadata": {},
   "outputs": [],
   "source": [
    "def lines_from_points(points):\n",
    "    \"\"\"Given an array of points, make a line set\"\"\"\n",
    "    poly = pv.PolyData()\n",
    "    poly.points = points\n",
    "    cells = np.full((len(points) - 1, 3), 2, dtype=np.int_)\n",
    "    cells[:, 1] = np.arange(0, len(points) - 1, dtype=np.int_)\n",
    "    cells[:, 2] = np.arange(1, len(points), dtype=np.int_)\n",
    "    poly.lines = cells\n",
    "    return poly\n",
    "\n",
    "\n",
    "#line = lines_from_points(points)\n",
    "#line"
   ]
  },
  {
   "cell_type": "code",
   "execution_count": 18,
   "id": "9b8b9e17",
   "metadata": {},
   "outputs": [],
   "source": [
    "# dt.variables['zice'].values"
   ]
  },
  {
   "cell_type": "markdown",
   "id": "54dfb817",
   "metadata": {},
   "source": [
    "## Attempts without looping"
   ]
  },
  {
   "cell_type": "code",
   "execution_count": 19,
   "id": "90cbbc3c",
   "metadata": {},
   "outputs": [],
   "source": [
    "mask_rho = dt.variables['mask_rho']\n",
    "zice = dt.variables['zice']\n",
    "my_xarr = zice*mask_rho\n",
    "zpts = my_xarr.to_numpy()\n",
    "#poly = pv.PolyData(zpts)\n",
    "#grid = pv.create_grid(zpts)\n",
    "#grid\n",
    "#zpts.texture_map_to_plane(use_bounds=True, inplace=True)"
   ]
  },
  {
   "cell_type": "code",
   "execution_count": 20,
   "id": "f5399ff3",
   "metadata": {},
   "outputs": [],
   "source": [
    " # zice points\n",
    "def get_zice_points(zice):\n",
    "    value = zice.to_numpy()\n",
    "    x = np.arange(value.shape[0])\n",
    "    y = np.arange(value.shape[1])\n",
    "    xx, yy = np.meshgrid(x, y, sparse=False)\n",
    "    xx = xx.reshape(-1, 1)\n",
    "    xx = xx.flatten()\n",
    "    yy = yy.reshape(-1, 1)\n",
    "    yy = yy.flatten()\n",
    "    value = value.reshape(-1, 1)\n",
    "    value = value.flatten()\n",
    "    value = (value)\n",
    "    \n",
    "    return (xx,yy,value)\n",
    "# test = dt.variables['zice'].values\n",
    "mask_rho = dt.variables['mask_rho']\n",
    "zice = dt.variables['zice']\n",
    "a = zice*mask_rho\n",
    "xz,yz,zz = get_zice_points(a)"
   ]
  },
  {
   "cell_type": "code",
   "execution_count": 21,
   "id": "e3c03a8c",
   "metadata": {},
   "outputs": [],
   "source": [
    "zz = zz/1000/10"
   ]
  },
  {
   "cell_type": "code",
   "execution_count": 22,
   "id": "37aae0c6",
   "metadata": {},
   "outputs": [
    {
     "name": "stdout",
     "output_type": "stream",
     "text": [
      "(352800, 3)\n"
     ]
    }
   ],
   "source": [
    "# print(xz,yz,zz)\n",
    "z_mesh = np.array([xz,yz,zz]).T\n",
    "print(z_mesh.shape)"
   ]
  },
  {
   "cell_type": "code",
   "execution_count": 23,
   "id": "beab348e",
   "metadata": {},
   "outputs": [
    {
     "data": {
      "text/plain": [
       "(19084, 3)"
      ]
     },
     "execution_count": 23,
     "metadata": {},
     "output_type": "execute_result"
    }
   ],
   "source": [
    "z_nonzero = [i for i in z_mesh if i[2] != 0]\n",
    "z_nonzero = np.array(z_nonzero)\n",
    "z_nonzero.shape"
   ]
  },
  {
   "cell_type": "code",
   "execution_count": 24,
   "id": "51acd980",
   "metadata": {},
   "outputs": [
    {
     "data": {
      "text/html": [
       "\n",
       "<table>\n",
       "<tr><th>PolyData</th><th>Information</th></tr>\n",
       "<tr><td>N Cells</td><td>352800</td></tr>\n",
       "<tr><td>N Points</td><td>352800</td></tr>\n",
       "<tr><td>X Bounds</td><td>0.000e+00, 5.590e+02</td></tr>\n",
       "<tr><td>Y Bounds</td><td>0.000e+00, 6.290e+02</td></tr>\n",
       "<tr><td>Z Bounds</td><td>-2.134e-01, 0.000e+00</td></tr>\n",
       "<tr><td>N Arrays</td><td>0</td></tr>\n",
       "</table>\n",
       "\n"
      ],
      "text/plain": [
       "PolyData (0x7fcf85305e20)\n",
       "  N Cells:\t352800\n",
       "  N Points:\t352800\n",
       "  X Bounds:\t0.000e+00, 5.590e+02\n",
       "  Y Bounds:\t0.000e+00, 6.290e+02\n",
       "  Z Bounds:\t-2.134e-01, 0.000e+00\n",
       "  N Arrays:\t0"
      ]
     },
     "execution_count": 24,
     "metadata": {},
     "output_type": "execute_result"
    }
   ],
   "source": [
    "myz = pv.PolyData(z_mesh)\n",
    "myz"
   ]
  },
  {
   "cell_type": "code",
   "execution_count": 25,
   "id": "5abc1693",
   "metadata": {},
   "outputs": [
    {
     "name": "stderr",
     "output_type": "stream",
     "text": [
      "/users/muramarg/.local/lib/python3.9/site-packages/pyvista/jupyter/pv_pythreejs.py:436: UserWarning: Empty or unsupported dataset attached to actor\n",
      "  warnings.warn('Empty or unsupported dataset attached to actor')\n"
     ]
    },
    {
     "data": {
      "application/vnd.jupyter.widget-view+json": {
       "model_id": "38494accb3874ab087c942201c089ec9",
       "version_major": 2,
       "version_minor": 0
      },
      "text/plain": [
       "Renderer(camera=PerspectiveCamera(aspect=1.3333333333333333, children=(DirectionalLight(intensity=0.25, positi…"
      ]
     },
     "metadata": {},
     "output_type": "display_data"
    }
   ],
   "source": [
    "myz.plot()"
   ]
  },
  {
   "cell_type": "code",
   "execution_count": 26,
   "id": "0a3ed1b2",
   "metadata": {},
   "outputs": [],
   "source": [
    "dfx = z_nonzero[:,0]\n",
    "dfy = z_nonzero[:,1]\n",
    "dfz = z_nonzero[:,2]\n",
    "\n",
    "data = {'X': z_mesh[:,0],\n",
    "        'Y': z_mesh[:,1],\n",
    "        'Z': z_mesh[:,2]}\n",
    " \n",
    "# # Create DataFrame\n",
    "df = pd.DataFrame(data)\n",
    "coords = df[['X', 'Y', 'Z']].values"
   ]
  },
  {
   "cell_type": "code",
   "execution_count": 27,
   "id": "81315773",
   "metadata": {},
   "outputs": [
    {
     "data": {
      "text/html": [
       "<div>\n",
       "<style scoped>\n",
       "    .dataframe tbody tr th:only-of-type {\n",
       "        vertical-align: middle;\n",
       "    }\n",
       "\n",
       "    .dataframe tbody tr th {\n",
       "        vertical-align: top;\n",
       "    }\n",
       "\n",
       "    .dataframe thead th {\n",
       "        text-align: right;\n",
       "    }\n",
       "</style>\n",
       "<table border=\"1\" class=\"dataframe\">\n",
       "  <thead>\n",
       "    <tr style=\"text-align: right;\">\n",
       "      <th></th>\n",
       "      <th>X</th>\n",
       "      <th>Y</th>\n",
       "      <th>Z</th>\n",
       "    </tr>\n",
       "  </thead>\n",
       "  <tbody>\n",
       "    <tr>\n",
       "      <th>0</th>\n",
       "      <td>0.0</td>\n",
       "      <td>0.0</td>\n",
       "      <td>0.0</td>\n",
       "    </tr>\n",
       "    <tr>\n",
       "      <th>1</th>\n",
       "      <td>1.0</td>\n",
       "      <td>0.0</td>\n",
       "      <td>0.0</td>\n",
       "    </tr>\n",
       "    <tr>\n",
       "      <th>2</th>\n",
       "      <td>2.0</td>\n",
       "      <td>0.0</td>\n",
       "      <td>0.0</td>\n",
       "    </tr>\n",
       "    <tr>\n",
       "      <th>3</th>\n",
       "      <td>3.0</td>\n",
       "      <td>0.0</td>\n",
       "      <td>0.0</td>\n",
       "    </tr>\n",
       "    <tr>\n",
       "      <th>4</th>\n",
       "      <td>4.0</td>\n",
       "      <td>0.0</td>\n",
       "      <td>0.0</td>\n",
       "    </tr>\n",
       "    <tr>\n",
       "      <th>...</th>\n",
       "      <td>...</td>\n",
       "      <td>...</td>\n",
       "      <td>...</td>\n",
       "    </tr>\n",
       "    <tr>\n",
       "      <th>352795</th>\n",
       "      <td>555.0</td>\n",
       "      <td>629.0</td>\n",
       "      <td>0.0</td>\n",
       "    </tr>\n",
       "    <tr>\n",
       "      <th>352796</th>\n",
       "      <td>556.0</td>\n",
       "      <td>629.0</td>\n",
       "      <td>0.0</td>\n",
       "    </tr>\n",
       "    <tr>\n",
       "      <th>352797</th>\n",
       "      <td>557.0</td>\n",
       "      <td>629.0</td>\n",
       "      <td>0.0</td>\n",
       "    </tr>\n",
       "    <tr>\n",
       "      <th>352798</th>\n",
       "      <td>558.0</td>\n",
       "      <td>629.0</td>\n",
       "      <td>0.0</td>\n",
       "    </tr>\n",
       "    <tr>\n",
       "      <th>352799</th>\n",
       "      <td>559.0</td>\n",
       "      <td>629.0</td>\n",
       "      <td>0.0</td>\n",
       "    </tr>\n",
       "  </tbody>\n",
       "</table>\n",
       "<p>352800 rows × 3 columns</p>\n",
       "</div>"
      ],
      "text/plain": [
       "            X      Y    Z\n",
       "0         0.0    0.0  0.0\n",
       "1         1.0    0.0  0.0\n",
       "2         2.0    0.0  0.0\n",
       "3         3.0    0.0  0.0\n",
       "4         4.0    0.0  0.0\n",
       "...       ...    ...  ...\n",
       "352795  555.0  629.0  0.0\n",
       "352796  556.0  629.0  0.0\n",
       "352797  557.0  629.0  0.0\n",
       "352798  558.0  629.0  0.0\n",
       "352799  559.0  629.0  0.0\n",
       "\n",
       "[352800 rows x 3 columns]"
      ]
     },
     "execution_count": 27,
     "metadata": {},
     "output_type": "execute_result"
    }
   ],
   "source": [
    "df"
   ]
  },
  {
   "cell_type": "code",
   "execution_count": 28,
   "id": "decfcc9c",
   "metadata": {},
   "outputs": [
    {
     "data": {
      "application/vnd.jupyter.widget-view+json": {
       "model_id": "1a6a9ce2cf6d4eb2a9549160ca0183fe",
       "version_major": 2,
       "version_minor": 0
      },
      "text/plain": [
       "Renderer(camera=PerspectiveCamera(aspect=1.3333333333333333, children=(DirectionalLight(intensity=0.25, positi…"
      ]
     },
     "metadata": {},
     "output_type": "display_data"
    }
   ],
   "source": [
    "structured = pv.StructuredGrid()\n",
    "# Set coordinates\n",
    "structured.points = coords\n",
    "# Set the dimensions of the structured grid\n",
    "structured.dimensions = [560, 630, 1]\n",
    "\n",
    "# Apply an Elevation filter\n",
    "# elevation = structured.elevation()\n",
    "# elevation.plot()\n",
    "structured.plot()"
   ]
  },
  {
   "cell_type": "code",
   "execution_count": 29,
   "id": "6231f042",
   "metadata": {},
   "outputs": [
    {
     "name": "stderr",
     "output_type": "stream",
     "text": [
      "/users/muramarg/.local/lib/python3.9/site-packages/pyvista/jupyter/pv_pythreejs.py:436: UserWarning: Empty or unsupported dataset attached to actor\n",
      "  warnings.warn('Empty or unsupported dataset attached to actor')\n"
     ]
    },
    {
     "data": {
      "application/vnd.jupyter.widget-view+json": {
       "model_id": "45d98dd2077645e982e24997c68c3ce1",
       "version_major": 2,
       "version_minor": 0
      },
      "text/plain": [
       "Renderer(camera=PerspectiveCamera(aspect=1.3333333333333333, children=(DirectionalLight(intensity=0.25, positi…"
      ]
     },
     "metadata": {},
     "output_type": "display_data"
    }
   ],
   "source": [
    "p = pv.Plotter()\n",
    "p.add_mesh(myz)\n",
    "p.show()\n",
    "#myz.plot()"
   ]
  },
  {
   "cell_type": "markdown",
   "id": "63d90b15",
   "metadata": {},
   "source": [
    "## Plotting by looping"
   ]
  },
  {
   "cell_type": "code",
   "execution_count": 30,
   "id": "cc9db254",
   "metadata": {},
   "outputs": [],
   "source": [
    "# zice points\n",
    "def get_zice_points(zice):\n",
    "    x = np.array([])\n",
    "    y = np.array([])\n",
    "    z = np.array([])\n",
    "    for i in range(len(zice)):\n",
    "        for j in range(len(zice[i])):\n",
    "            if zice[i][j] != 0:\n",
    "                x = np.append(x,j)\n",
    "                y = np.append(y,i)\n",
    "                z = np.append(z,zice[i][j]/1000/10)\n",
    "                \n",
    "    return x,y,z\n",
    "test = dt.variables['zice'].values\n",
    "xz,yz,zz = get_zice_points(test)"
   ]
  },
  {
   "cell_type": "code",
   "execution_count": 31,
   "id": "1293552f",
   "metadata": {},
   "outputs": [],
   "source": [
    "zz = zz/1000/10"
   ]
  },
  {
   "cell_type": "code",
   "execution_count": 32,
   "id": "c3dee14c",
   "metadata": {},
   "outputs": [],
   "source": [
    "zpts = np.array([xz,yz,zz]).T\n",
    "#print(zpts)"
   ]
  },
  {
   "cell_type": "code",
   "execution_count": 33,
   "id": "e4009007",
   "metadata": {},
   "outputs": [
    {
     "data": {
      "text/html": [
       "\n",
       "<table>\n",
       "<tr><th>PolyData</th><th>Information</th></tr>\n",
       "<tr><td>N Cells</td><td>119793</td></tr>\n",
       "<tr><td>N Points</td><td>119793</td></tr>\n",
       "<tr><td>X Bounds</td><td>4.600e+01, 5.740e+02</td></tr>\n",
       "<tr><td>Y Bounds</td><td>8.500e+01, 5.230e+02</td></tr>\n",
       "<tr><td>Z Bounds</td><td>-2.534e-05, -3.069e-14</td></tr>\n",
       "<tr><td>N Arrays</td><td>0</td></tr>\n",
       "</table>\n",
       "\n"
      ],
      "text/plain": [
       "PolyData (0x7fcf851ae820)\n",
       "  N Cells:\t119793\n",
       "  N Points:\t119793\n",
       "  X Bounds:\t4.600e+01, 5.740e+02\n",
       "  Y Bounds:\t8.500e+01, 5.230e+02\n",
       "  Z Bounds:\t-2.534e-05, -3.069e-14\n",
       "  N Arrays:\t0"
      ]
     },
     "execution_count": 33,
     "metadata": {},
     "output_type": "execute_result"
    }
   ],
   "source": [
    "point_cloud = pv.PolyData(zpts)\n",
    "point_cloud"
   ]
  },
  {
   "cell_type": "code",
   "execution_count": 34,
   "id": "2049c271",
   "metadata": {},
   "outputs": [
    {
     "data": {
      "application/vnd.jupyter.widget-view+json": {
       "model_id": "af4ba8f65670422b8586176285e0c500",
       "version_major": 2,
       "version_minor": 0
      },
      "text/plain": [
       "Renderer(camera=PerspectiveCamera(aspect=1.3333333333333333, children=(DirectionalLight(intensity=0.25, positi…"
      ]
     },
     "metadata": {},
     "output_type": "display_data"
    }
   ],
   "source": [
    "pv.global_theme.jupyter_backend = 'pythreejs'\n",
    "point_cloud.plot()"
   ]
  },
  {
   "cell_type": "markdown",
   "id": "42573f8b",
   "metadata": {},
   "source": [
    "## Plotting with ccrs normally"
   ]
  },
  {
   "cell_type": "code",
   "execution_count": null,
   "id": "47737584",
   "metadata": {},
   "outputs": [],
   "source": [
    "# plt.figure(figsize=(10, 10))\n",
    "# plt.scatter(zpts[:, 0], zpts[:, 1], c=zpts[:, 2])\n",
    "# plt.axis(\"image\")\n",
    "# plt.xlabel(\"X Coordinate\")\n",
    "# plt.ylabel(\"Y Coordinate\")\n",
    "# plt.colorbar()\n",
    "# plt.show()"
   ]
  },
  {
   "cell_type": "code",
   "execution_count": 35,
   "id": "42c26723",
   "metadata": {},
   "outputs": [
    {
     "name": "stderr",
     "output_type": "stream",
     "text": [
      "/CSC_CONTAINER/miniconda/envs/env1/lib/python3.9/site-packages/cartopy/mpl/geoaxes.py:1797: UserWarning: The input coordinates to pcolormesh are interpreted as cell centers, but are not monotonically increasing or decreasing. This may lead to incorrectly calculated cell edges, in which case, please supply explicit cell edges to pcolormesh.\n",
      "  result = matplotlib.axes.Axes.pcolormesh(self, *args, **kwargs)\n"
     ]
    },
    {
     "data": {
      "image/png": "[encoded data removed]",
      "text/plain": [
       "<Figure size 1440x720 with 2 Axes>"
      ]
     },
     "metadata": {
      "needs_background": "light"
     },
     "output_type": "display_data"
    }
   ],
   "source": [
    "#plt.figure(figsize=(10, 10))\n",
    "# masking land points\n",
    "mask_rho = dt.variables['mask_rho']\n",
    "zice = dt.variables['zice']\n",
    "\n",
    "proj = ccrs.SouthPolarStereo(central_longitude=0.0, true_scale_latitude=None, globe=None)\n",
    "fig = plt.figure(figsize=(20,10))\n",
    "ax = fig.add_subplot(1, 1, 1, projection=proj)\n",
    "#plt.scatter(zpts[:, 0], zpts[:, 1], c=zpts[:, 2])\n",
    "# another way\n",
    "plt.pcolormesh(dg.lon_rho,dg.lat_rho, zice*mask_rho,transform=ccrs.PlateCarree(), vmin=-500, vmax=0)\n",
    "plt.axis(\"image\")\n",
    "plt.xlabel(\"X Coordinate\")\n",
    "plt.ylabel(\"Y Coordinate\")\n",
    "plt.colorbar()\n",
    "plt.show()"
   ]
  },
  {
   "cell_type": "code",
   "execution_count": 36,
   "id": "9295d665",
   "metadata": {},
   "outputs": [
    {
     "data": {
      "text/html": [
       "\n",
       "<table>\n",
       "<tr><th>PolyData</th><th>Information</th></tr>\n",
       "<tr><td>N Cells</td><td>119793</td></tr>\n",
       "<tr><td>N Points</td><td>119793</td></tr>\n",
       "<tr><td>X Bounds</td><td>4.600e+01, 5.740e+02</td></tr>\n",
       "<tr><td>Y Bounds</td><td>8.500e+01, 5.230e+02</td></tr>\n",
       "<tr><td>Z Bounds</td><td>-2.534e-05, -3.069e-14</td></tr>\n",
       "<tr><td>N Arrays</td><td>0</td></tr>\n",
       "</table>\n",
       "\n"
      ],
      "text/plain": [
       "PolyData (0x7fcf851ae5e0)\n",
       "  N Cells:\t119793\n",
       "  N Points:\t119793\n",
       "  X Bounds:\t4.600e+01, 5.740e+02\n",
       "  Y Bounds:\t8.500e+01, 5.230e+02\n",
       "  Z Bounds:\t-2.534e-05, -3.069e-14\n",
       "  N Arrays:\t0"
      ]
     },
     "execution_count": 36,
     "metadata": {},
     "output_type": "execute_result"
    }
   ],
   "source": [
    "# point_cloud = pv.PolyData(zpts)\n",
    "point_cloud = pv.PolyData(zpts)\n",
    "point_cloud"
   ]
  },
  {
   "cell_type": "code",
   "execution_count": null,
   "id": "5a744206",
   "metadata": {},
   "outputs": [],
   "source": []
  },
  {
   "cell_type": "code",
   "execution_count": 37,
   "id": "7657915b",
   "metadata": {},
   "outputs": [],
   "source": [
    "# pv.global_theme.jupyter_backend = 'pythreejs'\n",
    "pv.global_theme.jupyter_backend = 'pythreejs'"
   ]
  },
  {
   "cell_type": "markdown",
   "id": "db2c3251",
   "metadata": {},
   "source": [
    "## plotting splines without addition of zice"
   ]
  },
  {
   "cell_type": "code",
   "execution_count": 38,
   "id": "a2e3f00c",
   "metadata": {},
   "outputs": [
    {
     "name": "stdout",
     "output_type": "stream",
     "text": [
      "0 / 105 in 0.00039312044779459633\n",
      "5 / 105 in 0.01955617666244507\n",
      "ok\n",
      "plotting\n"
     ]
    },
    {
     "data": {
      "application/vnd.jupyter.widget-view+json": {
       "model_id": "1111476d1cee4032aee35b2f47b38b01",
       "version_major": 2,
       "version_minor": 0
      },
      "text/plain": [
       "Renderer(camera=PerspectiveCamera(aspect=1.3333333333333333, children=(DirectionalLight(intensity=0.25, positi…"
      ]
     },
     "metadata": {},
     "output_type": "display_data"
    },
    {
     "name": "stdout",
     "output_type": "stream",
     "text": [
      "total time: 0.17574191490809124 min\n"
     ]
    }
   ],
   "source": [
    "def cast_all_points():\n",
    "    #pv.start_xvfb()\n",
    "    start_time = time.time()\n",
    "    network = pv.MultiBlock()\n",
    "    network.add_field_data(np.arange(x.shape[0]/900),\"time\")\n",
    "    \n",
    "    # add backend\n",
    "    \n",
    "    for i in range(0,10):\n",
    "        if (i%5 ==0):\n",
    "            print(i,'/ 105','in',(time.time()-start_time)/60)\n",
    "        points = make_points(i)\n",
    "        line = lines_from_points(points)\n",
    "        line[\"days since start\"] = np.arange(line.n_points)\n",
    "        tube = line.tube(radius=0.1)\n",
    "        network.append(tube)\n",
    "        #line['time'] = np.arange(x.shape[0])\n",
    "        \n",
    "        #tube.plot(smooth_shading=True)\n",
    "        \n",
    "    # create the scalar bars and plot\n",
    "    print('ok')\n",
    "    \n",
    "    p = pv.Plotter()\n",
    "    sargs = dict(\n",
    "        n_labels=0,\n",
    "        label_font_size = 14\n",
    "    )\n",
    "    annotations = {\n",
    "        0:'0',2820: '30', 5640: '60', 8460:'90',11280: '120', 14100:'150', 16920:'180',\n",
    "        19740:'210', 22560:'240',   \n",
    "    }\n",
    "    #_ = p.add_mesh(network, smooth_shading=True,annotations=annotations, scalar_bar_args=sargs)\n",
    "    _ = p.add_mesh(network, smooth_shading=True,show_scalar_bar=True,annotations=annotations,scalar_bar_args=sargs)\n",
    "    #network.plot(show_scalar_bar=True)\n",
    "    #_ = p.add_scalar_bar(n_labels=0,label_font_size=14,above_label=annotations)\n",
    "    \n",
    "    # add the zice shape\n",
    "    print('plotting')\n",
    "    # add the plot axes\n",
    "    _ = p.add_axes(line_width=5, xlabel='x',ylabel='y',zlabel='z',viewport=(0,0,200,200))\n",
    "    p.show(auto_close=False)\n",
    "    #p.save_graphic(\"testing.svg\") \n",
    "    print('total time:',(time.time()-start_time)/60,'min')\n",
    "cast_all_points()"
   ]
  },
  {
   "cell_type": "markdown",
   "id": "50253e5b",
   "metadata": {},
   "source": [
    "## plotting with attempted addition of zice"
   ]
  },
  {
   "cell_type": "code",
   "execution_count": 40,
   "id": "290c981c",
   "metadata": {},
   "outputs": [
    {
     "name": "stdout",
     "output_type": "stream",
     "text": [
      "0 / 105 in 4.1604042053222655e-06\n",
      "5 / 105 in 0.01761853297551473\n"
     ]
    },
    {
     "name": "stderr",
     "output_type": "stream",
     "text": [
      "/users/muramarg/.local/lib/python3.9/site-packages/pyvista/jupyter/pv_pythreejs.py:436: UserWarning: Empty or unsupported dataset attached to actor\n",
      "  warnings.warn('Empty or unsupported dataset attached to actor')\n"
     ]
    },
    {
     "data": {
      "application/vnd.jupyter.widget-view+json": {
       "model_id": "c181495896364591906e632f33c82425",
       "version_major": 2,
       "version_minor": 0
      },
      "text/plain": [
       "Renderer(camera=PerspectiveCamera(aspect=1.3333333333333333, children=(DirectionalLight(intensity=0.25, positi…"
      ]
     },
     "metadata": {},
     "output_type": "display_data"
    },
    {
     "name": "stdout",
     "output_type": "stream",
     "text": [
      "total time: 0.17025843461354573 min\n"
     ]
    }
   ],
   "source": [
    "def cast_all_points(zpts):\n",
    "    start_time = time.time()\n",
    "    network = pv.MultiBlock()\n",
    "    network.add_field_data(np.arange(x.shape[0]/900),\"time\")\n",
    "    #print(network)\n",
    "    for i in range(0,10):\n",
    "        if (i%5 ==0):\n",
    "            print(i,'/ 105','in',(time.time()-start_time)/60)\n",
    "        points = make_points(i)\n",
    "        line = lines_from_points(points)\n",
    "        line[\"days since start\"] = np.arange(line.n_points)\n",
    "        tube = line.tube(radius=0.1)\n",
    "        network.append(tube)\n",
    "        #line['time'] = np.arange(x.shape[0])\n",
    "        \n",
    "        #tube.plot(smooth_shading=True)\n",
    "        \n",
    "    # create the scalar bars and plot\n",
    "    p = pv.Plotter()\n",
    "    sargs = dict(\n",
    "        n_labels=0,\n",
    "        label_font_size = 14\n",
    "    )\n",
    "    annotations = {\n",
    "        0:'0',2820: '30', 5640: '60', 8460:'90',11280: '120', 14100:'150', 16920:'180',\n",
    "        19740:'210', 22560:'240',   \n",
    "    }\n",
    "    p.add_mesh(network, smooth_shading=True,annotations=annotations, scalar_bar_args=sargs)\n",
    "    \n",
    "    # add the zice shape\n",
    "    point_cloud = pv.PolyData(zpts)\n",
    "    p.add_mesh(point_cloud,smooth_shading=True,color='#a8a8a8')\n",
    "    \n",
    "    \n",
    "    # add the plot axes\n",
    "    _ = p.add_axes(line_width=5, labels_off=False)\n",
    "    #_ = p.enable_eye_dome_lighting()\n",
    "    p.show()\n",
    "    print('total time:',(time.time()-start_time)/60,'min')\n",
    "cast_all_points(zpts)"
   ]
  },
  {
   "cell_type": "code",
   "execution_count": null,
   "id": "1bb38374",
   "metadata": {},
   "outputs": [],
   "source": [
    "# def make_points(i):\n",
    "#     \"\"\"Helper to make XYZ points\"\"\"\n",
    "#     z1 = list(z[:,i])\n",
    "#     x1 = list(x[:,i])\n",
    "#     y1 = list(y[:,i])\n",
    "#     return np.column_stack((x1, y1, z1))\n",
    "# points = make_points(1)\n",
    "# line = lines_from_points(points)"
   ]
  },
  {
   "cell_type": "code",
   "execution_count": null,
   "id": "a3c9d798",
   "metadata": {},
   "outputs": [],
   "source": [
    "# line[\"scalars\"] = np.arange(line.n_points)\n",
    "# tube = line.tube(radius=0.1)\n",
    "# tube.plot(smooth_shading=True)"
   ]
  },
  {
   "cell_type": "code",
   "execution_count": null,
   "id": "bb080598",
   "metadata": {},
   "outputs": [],
   "source": [
    "# p = pv.Plotter()\n",
    "# p.add_mesh(stream.tube(radius=0.0015))\n",
    "# p.view_xy()\n",
    "# p.show(cpos=cpos)"
   ]
  },
  {
   "cell_type": "code",
   "execution_count": null,
   "id": "9b512ecb",
   "metadata": {},
   "outputs": [],
   "source": []
  }
 ],
 "metadata": {
  "kernelspec": {
   "display_name": "Python 3 (ipykernel)",
   "language": "python",
   "name": "python3"
  },
  "language_info": {
   "codemirror_mode": {
    "name": "ipython",
    "version": 3
   },
   "file_extension": ".py",
   "mimetype": "text/x-python",
   "name": "python",
   "nbconvert_exporter": "python",
   "pygments_lexer": "ipython3",
   "version": "3.9.13"
  }
 },
 "nbformat": 4,
 "nbformat_minor": 5
}
