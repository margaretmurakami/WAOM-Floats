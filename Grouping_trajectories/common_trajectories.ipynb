{
 "cells": [
  {
   "cell_type": "code",
   "execution_count": 1,
   "id": "58f90435",
   "metadata": {},
   "outputs": [],
   "source": [
    "import numpy as np\n",
    "\n",
    "#\n",
    "import cartopy.crs as ccrs\n",
    "import cartopy.feature as cfeature\n",
    "import matplotlib.pyplot as plt\n",
    "import matplotlib.path as mpath\n",
    "from matplotlib import colors\n",
    "from matplotlib import cm\n",
    "from matplotlib.axes import Axes\n",
    "from cartopy.mpl.geoaxes import GeoAxes\n",
    "GeoAxes._pcolormesh_patched = Axes.pcolormesh\n",
    "import matplotlib\n",
    "matplotlib.rcParams['agg.path.chunksize'] = 10000\n",
    "\n",
    "from scipy.interpolate import interpn\n",
    "import math\n",
    "import warnings\n",
    "%matplotlib inline\n",
    "import xarray as xr\n",
    "#import bisect\n",
    "\n",
    "# import DBSCAN\n",
    "from sklearn.cluster import DBSCAN\n",
    "from sklearn.preprocessing import StandardScaler\n",
    "\n",
    "warnings.filterwarnings('ignore')\n",
    "\n",
    "# on the header:\n",
    "import matplotlib as mpl"
   ]
  },
  {
   "cell_type": "code",
   "execution_count": 2,
   "id": "6a631ed0",
   "metadata": {},
   "outputs": [],
   "source": [
    "import gsw"
   ]
  },
  {
   "cell_type": "code",
   "execution_count": 3,
   "id": "590bbee2",
   "metadata": {},
   "outputs": [],
   "source": [
    "ds = xr.open_dataset('/scratch/project_2000789/muramarg/waom_yearly_floats/output_WAOM_check/ocean_flt.nc')\n",
    "ds1 = xr.open_dataset('/scratch/project_2000789/muramarg/waom_yearly_floats/output_WAOM_check/ocean_avg_0001.nc')\n",
    "dg = xr.open_dataset('/scratch/project_2000789/boeiradi/waom10_frc/waom10extend_grd.nc')"
   ]
  },
  {
   "cell_type": "code",
   "execution_count": 4,
   "id": "2e640eb1",
   "metadata": {},
   "outputs": [],
   "source": [
    "salt = ds.variables['salt'].values\n",
    "temp = ds.variables['temp'].values\n",
    "depth = ds.variables['depth'].values"
   ]
  },
  {
   "cell_type": "code",
   "execution_count": 5,
   "id": "acb05cc5",
   "metadata": {},
   "outputs": [
    {
     "data": {
      "text/plain": [
       "(65717, 5460)"
      ]
     },
     "execution_count": 5,
     "metadata": {},
     "output_type": "execute_result"
    }
   ],
   "source": [
    "salt.shape"
   ]
  },
  {
   "cell_type": "code",
   "execution_count": 6,
   "id": "bacb378f",
   "metadata": {},
   "outputs": [],
   "source": [
    "salt_flat = salt.flatten()\n",
    "temp_flat = temp.flatten()\n",
    "depth_flat = depth.flatten()\n",
    "depth_flat = np.nan_to_num(depth_flat)"
   ]
  },
  {
   "cell_type": "code",
   "execution_count": 7,
   "id": "d325d2b7",
   "metadata": {},
   "outputs": [],
   "source": [
    "#x = x[~numpy.isnan(x)]\n",
    "#salt_flat = salt_flat[~np.isnan(salt_flat)]\n",
    "#depth_flat = depth_flat[~np.isnan(depth_flat)]\n",
    "#depth_flat = depth_flat[~np.isnan(depth_flat)]"
   ]
  },
  {
   "cell_type": "code",
   "execution_count": 8,
   "id": "43c1acb5",
   "metadata": {},
   "outputs": [],
   "source": [
    "salt_flat = salt_flat[salt_flat != 0]\n",
    "temp_flat = temp_flat[temp_flat != 0]"
   ]
  },
  {
   "cell_type": "code",
   "execution_count": 9,
   "id": "48e04414",
   "metadata": {},
   "outputs": [
    {
     "name": "stdout",
     "output_type": "stream",
     "text": [
      "tmin, tmax, smin, smax sizes=, -3.3 3.63 30.69 35.35\n"
     ]
    }
   ],
   "source": [
    "# # make grid for density contours\n",
    "# ax.set_xlim([34,34.7])\n",
    "# # ax.set_ylim([-2.7,-1])\n",
    "\n",
    "smin = 31 - (0.01 * 31)    #salt_ctrl_subregR.min - (0.01 * salt_ctrl_subregR.min)\n",
    "smax = 35. + (0.01 * 35.)    #salt_ctrl_subregR.max + (0.01 * salt_ctrl_subregR.max)\n",
    "tmin = -3 + (0.1 * -3)       #temp_ctrl_subregR.min - (0.1 * temp_ctrl_subregR.max)\n",
    "tmax = 3.3 + (0.1 * 3.3)       #temp_ctrl_subregR.max + (0.1 * temp_ctrl_subregR.max)\n",
    "print('tmin, tmax, smin, smax sizes=,', tmin, tmax, smin, smax)\n",
    "# Calculate how many gridcells we need in the x and y dimensions\n",
    "xdim = 20\n",
    "ydim = 20\n",
    "# Create empty grid of zeros\n",
    "dens = np.zeros((ydim,xdim))\n",
    "# Create temp and salt vectors of appropiate dimensions\n",
    "ti = np.linspace(-3,3.3,ydim)\n",
    "si = np.linspace(31,35,xdim)\n",
    "\n",
    "Si, Ti = np.meshgrid(si, ti, sparse=False, indexing='ij')\n",
    "# Loop to fill in grid with densities\n",
    "for j in range(0,int(ydim)):\n",
    "    for i in range(0, int(xdim)):\n",
    "        #print(si[i],ti[j])\n",
    "        dens[j,i]=gsw.rho(si[i],ti[j],0)\n",
    "        # Substract 1000 to convert to sigma-0\n",
    "dens = dens - 1000\n",
    "#print(np.max(dens),np.min(dens))"
   ]
  },
  {
   "cell_type": "markdown",
   "id": "12e94622",
   "metadata": {},
   "source": [
    "### create the arrays for neutral density"
   ]
  },
  {
   "cell_type": "code",
   "execution_count": 10,
   "id": "ac5eca38",
   "metadata": {},
   "outputs": [],
   "source": [
    "# dens_neut = np.array([[ 24.71689606,  24.91883278,  25.12090874,  25.32289696,  25.52485657,\n",
    "#    25.72688103 , 25.92889404 , 26.13092232 , 26.33299828 , 26.53503227,\n",
    "#    26.73715973 , 26.93921471  ,27.14241028  ,27.34601402  ,27.54989433,\n",
    "#    27.75070953  ,27.94353294 , 28.63241196,  28.98308754, 28.98308754    ],\n",
    "# [ 24.71689606,  24.91883278,  25.12090874,  25.32289696,  25.52485657,\n",
    "#    25.72688103 , 25.92889404 , 26.13092232 , 26.33299828 , 26.53503227,\n",
    "#    26.73715973 , 26.93921471  ,27.14241028  ,27.34601402  ,27.54989433,\n",
    "#    27.75070953  ,27.94353294 , 28.63241196,  28.98308754,  28.98308754      ],\n",
    "#  [ 24.71689606,  24.91883278,  25.12090874,  25.32289696,  25.52485657,\n",
    "#    25.72688103 , 25.92889404 , 26.13092232 , 26.33299828 , 26.53503227,\n",
    "#    26.73715973 , 26.93921471  ,27.14241028  ,27.34601402  ,27.54989433,\n",
    "#    27.75070953  ,27.94353294 , 28.63241196,  28.98308754,28.98308754  ],\n",
    "#  [ 24.71313286 , 24.91477394 , 25.11647034 , 25.31818581  ,25.51997185,\n",
    "#    25.72172546 , 25.92341423 , 26.12518883,  26.32695389 , 26.52869797,\n",
    "#    26.73050308 , 26.93229294 , 27.13504791 , 27.33821678 , 27.54164696,\n",
    "#    27.7422142  , 27.93387222 , 28.5552597  , 28.91858482 ,28.91858482],\n",
    "#  [ 24.70738411 , 24.90876579 , 25.11021423 , 25.31170082 , 25.51305199,\n",
    "#    25.71452713 , 25.91602516 , 26.11743355 , 26.31898117 , 26.52041817,\n",
    "#    26.72193336 , 26.92341232 , 27.12577629 , 27.32852173 , 27.53152275,\n",
    "#    27.73191071 , 27.92254639,  28.4789753  , 28.8517704  , 29.14905739],\n",
    "#  [ 24.69975662 , 24.90088463 , 25.10199547 , 25.30318642 , 25.50432968,\n",
    "#    25.70547485,  25.90666008 , 26.10786438 , 26.30905342 , 26.51026917,\n",
    "#    26.71149445,  26.9126873  , 27.1146183  , 27.3169632 ,  27.51953316,\n",
    "#    27.71981621 , 27.90965462  ,28.40401077 , 28.77214432  ,29.0795536 ],\n",
    "#  [ 24.69028091 , 24.89105415,  25.09194946 , 25.2928524  , 25.49374962,\n",
    "#    25.6946125 ,  25.89553261 , 26.09637833 , 26.29730034 , 26.49825478,\n",
    "#    26.69918442 , 26.90014458 , 27.10159683 , 27.30356216 , 27.50571442,\n",
    "#    27.70590782 , 27.89554596 , 28.31707764 , 28.69371796 , 29.00740814],\n",
    "#  [ 24.6788826  , 24.87939453 , 25.07999802,  25.28060722 , 25.48117638,\n",
    "#    25.68186188 , 25.88243866 , 26.08312035 , 26.28370094 , 26.48443604,\n",
    "#    26.68505287 , 26.88575363 , 27.08674812 , 27.2883358  , 27.49008369,\n",
    "#    27.69023705 , 27.87995338 , 28.22002792 , 28.61616516 , 28.93346214],\n",
    "#  [ 24.66562653 , 24.86592484 , 25.06619453 , 25.26650429 , 25.4668808,\n",
    "#    25.66721725 , 25.86752701 , 26.06794167 , 26.26830673 , 26.46874237,\n",
    "#    26.66911507 , 26.86951637 , 27.07017708 , 27.27131462 , 27.47266197,\n",
    "#    27.67278481,  27.86296654,  28.092659  ,  28.53930855 , 28.85771751],\n",
    "#  [ 24.65052795 , 24.85054398 , 25.05057335 , 25.25064468 , 25.45073128,\n",
    "#    25.650774   , 25.85088348 , 26.05101013 , 26.25109482 , 26.451231,\n",
    "#    26.65131187 , 26.85151482 , 27.05180931 , 27.25252151 , 27.45347404,\n",
    "#    27.6534996  , 27.84414101 , 28.05034637 , 28.46330833  ,28.7783432 ],\n",
    "#  [ 24.63355637 , 24.83339119 , 25.03311157 , 25.23295021 , 25.43276787,\n",
    "#    25.6325531   ,25.83239174 , 26.03218651 , 26.2320385  , 26.43192673,\n",
    "#    26.6317749  , 26.83172035 , 27.03166008 , 27.23199844 , 27.43253708,\n",
    "#    27.63247681 , 27.8237114  , 28.01834106 , 28.38858414 , 28.69993019],\n",
    "#  [ 24.61491394  ,24.81440163 , 25.01390266 , 25.21342468 , 25.41304207,\n",
    "#    25.61253357  ,25.81213379 , 26.01170158 , 26.21125984 , 26.41089249,\n",
    "#    26.61052895  ,26.81011772 , 27.00978851 , 27.20977402 , 27.40987968,\n",
    "#    27.60972595 , 27.80182266 , 27.98947525 , 28.3213501  , 28.62238312],\n",
    "#  [ 24.59440041 , 24.79360771 , 24.99295044  ,25.19223595 , 25.39147949,\n",
    "#    25.59079361  ,25.7900753  , 25.98940468 , 26.18877029 , 26.38808823,\n",
    "#    26.58743286 , 26.78684998 , 26.98615265 , 27.18586349 , 27.38550377,\n",
    "#    27.58516312 , 27.77878189 , 27.96234894 , 28.26257133 , 28.54547119],\n",
    "#  [ 24.57218361 , 24.7711277  , 24.97018242 , 25.16918755 , 25.36826134,\n",
    "#    25.56728363 , 25.76635742 , 25.96536827 , 26.16444778 , 26.36356735,\n",
    "#    26.56266975 , 26.76180458  ,26.96086311 , 27.16026306 , 27.35944557,\n",
    "#    27.55879211 , 27.7533474 ,  27.93611526 , 28.20168877 , 28.46933365],\n",
    "#  [ 24.5481987 ,  24.74694443 , 24.94569016,  25.14442062 , 25.34326935,\n",
    "#    25.54204369 , 25.74079895 , 25.9396553 ,  26.13848686 , 26.33733177,\n",
    "#    26.53620338 , 26.73507118  ,26.93390083 , 27.13297081 , 27.33171082,\n",
    "#    27.53074837 , 27.72612572  ,27.90915489 , 28.13986015 , 28.39437103],\n",
    "#  [ 24.52243805 , 24.72093964 , 24.91951561 , 25.1179657  , 25.31651878,\n",
    "#    25.51508522 , 25.71369553 , 25.91222572 , 26.11079597 , 26.30937958,\n",
    "#    26.50796318 , 26.70662689,  26.90526772 , 27.10399818 , 27.30233574,\n",
    "#    27.5010643  , 27.69707489 , 27.88111115 , 28.08379745 , 28.33390808],\n",
    "#  [ 24.49506569 , 24.69329834 , 24.89158249 , 25.08985901 , 25.28813934,\n",
    "#    25.48644066 , 25.68478012 , 25.88305855 , 26.08143044 , 26.27975845,\n",
    "#    26.47814751 , 26.67650795 , 26.87494278 , 27.0733223  , 27.27133751,\n",
    "#    27.4697628  , 27.66625595 , 27.85202599 , 28.04242706 , 28.28282928],\n",
    "#  [ 24.46591759 , 24.66394806 , 24.86195183 , 25.05997849 , 25.25805283,\n",
    "#    25.45612907  ,25.65417862 , 25.85229301 , 26.05039787,  26.24848557,\n",
    "#    26.44663048 , 26.64472771 , 26.84292603 , 27.04101944 , 27.2387886,\n",
    "#    27.43680763 , 27.63369942 , 27.82089424 , 28.00405693 , 28.23462677],\n",
    "#  [ 24.43512344,  24.63295555 , 24.83068848  ,25.02856064 , 25.22626686,\n",
    "#    25.42415428  ,25.62194633,  25.81985092 , 26.01771355 , 26.21559525,\n",
    "#    26.41346169  ,26.61138916 , 26.80927467 , 27.00706482 , 27.20471191,\n",
    "#    27.4022541  , 27.59948921 , 27.78889084 , 27.96739769,  28.18323135],\n",
    "#  [ 24.40274429 , 24.60030937 , 24.79779625 , 24.99540329 , 25.19295502,\n",
    "#    25.39055443 , 25.58813667 , 25.78577805 , 25.98334312 , 26.18100548,\n",
    "#    26.37866402 , 26.5763855  , 26.77403831 , 26.97160721 , 27.16907501,\n",
    "#    27.36613083 , 27.5632534  , 27.7547226 ,  27.93291092 , 28.13616371]])"
   ]
  },
  {
   "cell_type": "code",
   "execution_count": 11,
   "id": "1f9ecec1",
   "metadata": {},
   "outputs": [
    {
     "data": {
      "text/plain": [
       "array([-3.        , -2.66842105, -2.33684211, -2.00526316, -1.67368421,\n",
       "       -1.34210526, -1.01052632, -0.67894737, -0.34736842, -0.01578947,\n",
       "        0.31578947,  0.64736842,  0.97894737,  1.31052632,  1.64210526,\n",
       "        1.97368421,  2.30526316,  2.63684211,  2.96842105,  3.3       ])"
      ]
     },
     "execution_count": 11,
     "metadata": {},
     "output_type": "execute_result"
    }
   ],
   "source": [
    "ti"
   ]
  },
  {
   "cell_type": "markdown",
   "id": "286cd7d6",
   "metadata": {},
   "source": [
    "## Define limits of salinity and temperature"
   ]
  },
  {
   "cell_type": "code",
   "execution_count": 12,
   "id": "f32d62f4",
   "metadata": {},
   "outputs": [],
   "source": [
    "salt_limit = np.arange(34.25,34.75,0.25)\n",
    "temp_limit = np.arange(-1.7,-2,0.1)"
   ]
  },
  {
   "cell_type": "markdown",
   "id": "525f2193",
   "metadata": {},
   "source": [
    "## For each index released at release times, is it within the TS limits"
   ]
  },
  {
   "cell_type": "code",
   "execution_count": 13,
   "id": "54a2cb8a",
   "metadata": {},
   "outputs": [],
   "source": [
    "x = (ds.variables['Xgrid'].values)"
   ]
  },
  {
   "cell_type": "code",
   "execution_count": 14,
   "id": "1f72c412",
   "metadata": {},
   "outputs": [
    {
     "name": "stdout",
     "output_type": "stream",
     "text": [
      "3.990697896299028\n"
     ]
    }
   ],
   "source": [
    "# Gade line: WDW (Weddell Deep Water)\n",
    "T_wdw = -2\n",
    "S_wdw = 34.5\n",
    "Lf = 334 # kJ/kg\n",
    "Cp = gsw.cp_t_exact(S_wdw,T_wdw,0)/1000\n",
    "print(Cp)\n",
    "\n",
    "Tgade = T_wdw + (Lf/Cp)*(1 - (S_wdw/si))"
   ]
  },
  {
   "cell_type": "markdown",
   "id": "53bb1048",
   "metadata": {},
   "source": [
    "## Plotting all points with polygons"
   ]
  },
  {
   "cell_type": "code",
   "execution_count": 15,
   "id": "e2a7160f",
   "metadata": {},
   "outputs": [
    {
     "name": "stdout",
     "output_type": "stream",
     "text": [
      "tmin, tmax, smin, smax sizes=, -3.3 3.63 32.67 35.35\n"
     ]
    }
   ],
   "source": [
    "# # make grid for density contours\n",
    "# ax.set_xlim([34,34.7])\n",
    "# # ax.set_ylim([-2.7,-1])\n",
    "\n",
    "smin = 33 - (0.01 * 33)    #salt_ctrl_subregR.min - (0.01 * salt_ctrl_subregR.min)\n",
    "smax = 35. + (0.01 * 35.)    #salt_ctrl_subregR.max + (0.01 * salt_ctrl_subregR.max)\n",
    "tmin = -3 + (0.1 * -3)       #temp_ctrl_subregR.min - (0.1 * temp_ctrl_subregR.max)\n",
    "tmax = 3.3 + (0.1 * 3.3)       #temp_ctrl_subregR.max + (0.1 * temp_ctrl_subregR.max)\n",
    "print('tmin, tmax, smin, smax sizes=,', tmin, tmax, smin, smax)\n",
    "# Calculate how many gridcells we need in the x and y dimensions\n",
    "xdim = 20\n",
    "ydim = 20\n",
    "# Create empty grid of zeros\n",
    "dens = np.zeros((ydim,xdim))\n",
    "# Create temp and salt vectors of appropiate dimensions\n",
    "ti = np.linspace(-3,3.3,ydim)\n",
    "si = np.linspace(33,35,xdim)\n",
    "\n",
    "Si, Ti = np.meshgrid(si, ti, sparse=False, indexing='ij')\n",
    "# Loop to fill in grid with densities\n",
    "for j in range(0,int(ydim)):\n",
    "    for i in range(0, int(xdim)):\n",
    "        #print(si[i],ti[j])\n",
    "        dens[j,i]=gsw.rho(si[i],ti[j],0)\n",
    "        # Substract 1000 to convert to sigma-0\n",
    "dens = dens - 1000\n",
    "#print(np.max(dens),np.min(dens))"
   ]
  },
  {
   "cell_type": "code",
   "execution_count": 16,
   "id": "3c8d0234",
   "metadata": {},
   "outputs": [],
   "source": [
    "depth = ds.variables['depth'].values\n",
    "rho = ds.variables['rho'].values"
   ]
  },
  {
   "cell_type": "code",
   "execution_count": 17,
   "id": "1372286b",
   "metadata": {},
   "outputs": [],
   "source": [
    "# the mask will be based on rho, salt, and temp\n",
    "\n",
    "# use the values from portella"
   ]
  },
  {
   "cell_type": "code",
   "execution_count": 18,
   "id": "a43fe532",
   "metadata": {},
   "outputs": [
    {
     "data": {
      "text/plain": [
       "array([   0,    1,    2, ..., 5457, 5458, 5459])"
      ]
     },
     "execution_count": 18,
     "metadata": {},
     "output_type": "execute_result"
    }
   ],
   "source": [
    "allpts = np.arange(0,rho.shape[1],1)\n",
    "allpts"
   ]
  },
  {
   "cell_type": "code",
   "execution_count": null,
   "id": "aacf23a6",
   "metadata": {},
   "outputs": [],
   "source": []
  },
  {
   "cell_type": "code",
   "execution_count": 19,
   "id": "a6a927f3",
   "metadata": {},
   "outputs": [
    {
     "name": "stdout",
     "output_type": "stream",
     "text": [
      "1445\n"
     ]
    }
   ],
   "source": [
    "# for each index in each month, find the first values of T and S\n",
    "hssw_idxs = np.array([],dtype=np.int64)\n",
    "for idx in allpts:\n",
    "    thisrow_T = temp[:,int(idx)]\n",
    "    thisrow_salt = salt[:,int(idx)]\n",
    "    thisrow_depth = depth[:,int(idx)]\n",
    "    \n",
    "    # remove nan values\n",
    "    thisrow_T = thisrow_T[~np.isnan(thisrow_T)]\n",
    "    thisrow_salt = thisrow_salt[~np.isnan(thisrow_salt)]\n",
    "    thisrow_depth = thisrow_depth[~np.isnan(thisrow_depth)]\n",
    "    \n",
    "    # test if the first value is within TS limits\n",
    "    if (len(thisrow_T)>0):\n",
    "        t1 = thisrow_T[0]\n",
    "        s1 = thisrow_salt[0]\n",
    "        if (t1 <= -1.7 and t1 >= -2) and (s1 >= 34.5):\n",
    "            # add it to the list of indices of interest\n",
    "            hssw_idxs = np.append(hssw_idxs,int(idx))\n",
    "print(len(hssw_idxs))"
   ]
  },
  {
   "cell_type": "code",
   "execution_count": 20,
   "id": "c670cafd",
   "metadata": {},
   "outputs": [],
   "source": [
    "all_salt = ds.variables['salt'].values[:,hssw_idxs]\n",
    "all_temp = ds.variables['temp'].values[:,hssw_idxs]"
   ]
  },
  {
   "cell_type": "code",
   "execution_count": 21,
   "id": "6326a7a3",
   "metadata": {},
   "outputs": [],
   "source": [
    "all_depth = ds.variables['depth'].values[:,hssw_idxs]"
   ]
  },
  {
   "cell_type": "code",
   "execution_count": 22,
   "id": "4aa66cea",
   "metadata": {},
   "outputs": [],
   "source": [
    "Freez_temp = gsw.CT_freezing(si,0,0)"
   ]
  },
  {
   "cell_type": "markdown",
   "id": "c0c041ee",
   "metadata": {},
   "source": [
    "# Get an array of last T and S values of the hssw_idxs"
   ]
  },
  {
   "cell_type": "code",
   "execution_count": 23,
   "id": "c6bee65a",
   "metadata": {},
   "outputs": [],
   "source": [
    "final_s = all_salt[-1]\n",
    "final_t = all_temp[-1]"
   ]
  },
  {
   "cell_type": "code",
   "execution_count": 29,
   "id": "95d2857a",
   "metadata": {},
   "outputs": [],
   "source": [
    "with open('/scratch/project_2000789/muramarg/statistics/pygamman_f2py-master/pygamman_f2py-master/TS_nums.txt', 'w') as f:\n",
    "    for i,j in zip(final_s,final_t):\n",
    "        f.write(str(i)+\"   \"+str(j)+\"   \\n\")\n",
    "f.close()"
   ]
  },
  {
   "cell_type": "code",
   "execution_count": 24,
   "id": "f9b73132",
   "metadata": {},
   "outputs": [],
   "source": [
    "with open(\"/scratch/project_2000789/muramarg/statistics/pygamman_f2py-master/pygamman_f2py-master/neutral_densities.txt\",\"r\") as g:\n",
    "    gamma_n = g.read().splitlines() \n",
    "    gamma_n = [float(x) for x in gamma_n]"
   ]
  },
  {
   "cell_type": "markdown",
   "id": "2ef1befe",
   "metadata": {},
   "source": [
    "# Looping method of collecting indexes"
   ]
  },
  {
   "cell_type": "markdown",
   "id": "989f3873",
   "metadata": {},
   "source": [
    "#### Identify AABW points based on the definition in Descriptive Oceanography"
   ]
  },
  {
   "cell_type": "code",
   "execution_count": 25,
   "id": "4afe139a",
   "metadata": {},
   "outputs": [
    {
     "data": {
      "text/plain": [
       "1445"
      ]
     },
     "execution_count": 25,
     "metadata": {},
     "output_type": "execute_result"
    }
   ],
   "source": [
    "len(gamma_n)\n",
    "#len(hssw_idxs)"
   ]
  },
  {
   "cell_type": "code",
   "execution_count": 26,
   "id": "9d34bd38",
   "metadata": {},
   "outputs": [
    {
     "data": {
      "text/plain": [
       "array([-1.79085645, -1.79694006, -1.80302639, -1.80911543, -1.81520719,\n",
       "       -1.82130168, -1.8273989 , -1.83349884, -1.83960152, -1.84570694,\n",
       "       -1.8518151 , -1.857926  , -1.86403964, -1.87015604, -1.87627519,\n",
       "       -1.88239709, -1.88852176, -1.89464919, -1.90077938, -1.90691234])"
      ]
     },
     "execution_count": 26,
     "metadata": {},
     "output_type": "execute_result"
    }
   ],
   "source": [
    "Freez_temp"
   ]
  },
  {
   "cell_type": "code",
   "execution_count": 27,
   "id": "780c9cc2",
   "metadata": {},
   "outputs": [
    {
     "data": {
      "text/plain": [
       "27.897488"
      ]
     },
     "execution_count": 27,
     "metadata": {},
     "output_type": "execute_result"
    }
   ],
   "source": [
    "(gamma_n[0])"
   ]
  },
  {
   "cell_type": "code",
   "execution_count": 30,
   "id": "d2aa37a1",
   "metadata": {},
   "outputs": [
    {
     "name": "stdout",
     "output_type": "stream",
     "text": [
      "349\n"
     ]
    }
   ],
   "source": [
    "# color the points only if their endpoint is within AASW\n",
    "# salinity < 34.5 and temperature greater than freezing line\n",
    "# for each index in the previous figure\n",
    "aabw_idx = np.array([],dtype=np.int64)\n",
    "gi = 0\n",
    "for idx in hssw_idxs:\n",
    "    # get the final point in the row\n",
    "    thisrow_T = temp[:,int(idx)]\n",
    "    thisrow_salt = salt[:,int(idx)]\n",
    "    thisrow_depth = depth[:,int(idx)]\n",
    "    if gamma_n[gi]>28.27:\n",
    "        # convert meters to ft\n",
    "        #print(thisrow_depth[-1])\n",
    "        if thisrow_depth[-1] < (-3500/3.281):\n",
    "            #print(thisrow_salt[-1])\n",
    "            if thisrow_salt[-1]>34.4 and thisrow_salt[-1]<34.75:\n",
    "                # search sorted to find the closest salt value index\n",
    "                #test_idx = np.searchsorted(si,thisrow_salt[-1])\n",
    "                if thisrow_T[-1]<0:\n",
    "                    # it is within AASW\n",
    "                    aabw_idx = np.append(aabw_idx,int(idx))\n",
    "    gi += 1\n",
    "            \n",
    "aabw_salt = ds.variables['salt'].values[:,aabw_idx]\n",
    "aabw_temp = ds.variables['temp'].values[:,aabw_idx]\n",
    "aabw_cmap = ds.variables['depth'].values[:,aabw_idx]\n",
    "# for i in range(len(aasw_cmap)):\n",
    "#      aasw_cmap[i][:]=i\n",
    "print(len(aabw_idx))"
   ]
  },
  {
   "cell_type": "code",
   "execution_count": 31,
   "id": "3bba2d3a",
   "metadata": {},
   "outputs": [],
   "source": [
    "aabw_cmap = ds.variables['depth'].values[:,aabw_idx]"
   ]
  },
  {
   "cell_type": "code",
   "execution_count": 32,
   "id": "8ce79922",
   "metadata": {},
   "outputs": [],
   "source": [
    "aabw_cmap*=-1"
   ]
  },
  {
   "cell_type": "code",
   "execution_count": 33,
   "id": "4704f298",
   "metadata": {},
   "outputs": [],
   "source": [
    "# get first values in the array\n",
    "firstsalts = np.array([],dtype=np.int64)\n",
    "for i in range(len(aabw_salt[0])):\n",
    "    thiscol = aabw_salt[:,i]\n",
    "    firstval = next(x for x in thiscol if not np.isnan(x))\n",
    "    firstsalts = np.append(firstsalts,firstval)\n",
    "firsttemps = np.array([],dtype=np.int64)\n",
    "for i in range(len(aabw_temp[0])):\n",
    "    thiscol = aabw_temp[:,i]\n",
    "    firstval = next(x for x in thiscol if not np.isnan(x))\n",
    "    firsttemps = np.append(firsttemps,firstval)\n",
    "    \n",
    "# get the last values in the array\n",
    "lastsalts = aabw_salt[-1]\n",
    "lasttemps = aabw_temp[-1]"
   ]
  },
  {
   "cell_type": "code",
   "execution_count": 32,
   "id": "0ca00d87",
   "metadata": {},
   "outputs": [
    {
     "name": "stderr",
     "output_type": "stream",
     "text": [
      "\n",
      "KeyboardInterrupt\n",
      "\n"
     ]
    },
    {
     "name": "stdout",
     "output_type": "stream",
     "text": [
      "Error in callback <function flush_figures at 0x7f1831b61700> (for post_execute):\n"
     ]
    },
    {
     "ename": "KeyboardInterrupt",
     "evalue": "",
     "output_type": "error",
     "traceback": [
      "\u001b[0;31m---------------------------------------------------------------------------\u001b[0m",
      "\u001b[0;31mKeyboardInterrupt\u001b[0m                         Traceback (most recent call last)",
      "File \u001b[0;32m/scratch/project_2000789/muramarg/miniconda3/envs/myenv/lib/python3.8/site-packages/matplotlib_inline/backend_inline.py:121\u001b[0m, in \u001b[0;36mflush_figures\u001b[0;34m()\u001b[0m\n\u001b[1;32m    118\u001b[0m \u001b[38;5;28;01mif\u001b[39;00m InlineBackend\u001b[38;5;241m.\u001b[39minstance()\u001b[38;5;241m.\u001b[39mclose_figures:\n\u001b[1;32m    119\u001b[0m     \u001b[38;5;66;03m# ignore the tracking, just draw and close all figures\u001b[39;00m\n\u001b[1;32m    120\u001b[0m     \u001b[38;5;28;01mtry\u001b[39;00m:\n\u001b[0;32m--> 121\u001b[0m         \u001b[38;5;28;01mreturn\u001b[39;00m \u001b[43mshow\u001b[49m\u001b[43m(\u001b[49m\u001b[38;5;28;43;01mTrue\u001b[39;49;00m\u001b[43m)\u001b[49m\n\u001b[1;32m    122\u001b[0m     \u001b[38;5;28;01mexcept\u001b[39;00m \u001b[38;5;167;01mException\u001b[39;00m \u001b[38;5;28;01mas\u001b[39;00m e:\n\u001b[1;32m    123\u001b[0m         \u001b[38;5;66;03m# safely show traceback if in IPython, else raise\u001b[39;00m\n\u001b[1;32m    124\u001b[0m         ip \u001b[38;5;241m=\u001b[39m get_ipython()\n",
      "File \u001b[0;32m/scratch/project_2000789/muramarg/miniconda3/envs/myenv/lib/python3.8/site-packages/matplotlib_inline/backend_inline.py:41\u001b[0m, in \u001b[0;36mshow\u001b[0;34m(close, block)\u001b[0m\n\u001b[1;32m     39\u001b[0m \u001b[38;5;28;01mtry\u001b[39;00m:\n\u001b[1;32m     40\u001b[0m     \u001b[38;5;28;01mfor\u001b[39;00m figure_manager \u001b[38;5;129;01min\u001b[39;00m Gcf\u001b[38;5;241m.\u001b[39mget_all_fig_managers():\n\u001b[0;32m---> 41\u001b[0m         \u001b[43mdisplay\u001b[49m\u001b[43m(\u001b[49m\n\u001b[1;32m     42\u001b[0m \u001b[43m            \u001b[49m\u001b[43mfigure_manager\u001b[49m\u001b[38;5;241;43m.\u001b[39;49m\u001b[43mcanvas\u001b[49m\u001b[38;5;241;43m.\u001b[39;49m\u001b[43mfigure\u001b[49m\u001b[43m,\u001b[49m\n\u001b[1;32m     43\u001b[0m \u001b[43m            \u001b[49m\u001b[43mmetadata\u001b[49m\u001b[38;5;241;43m=\u001b[39;49m\u001b[43m_fetch_figure_metadata\u001b[49m\u001b[43m(\u001b[49m\u001b[43mfigure_manager\u001b[49m\u001b[38;5;241;43m.\u001b[39;49m\u001b[43mcanvas\u001b[49m\u001b[38;5;241;43m.\u001b[39;49m\u001b[43mfigure\u001b[49m\u001b[43m)\u001b[49m\n\u001b[1;32m     44\u001b[0m \u001b[43m        \u001b[49m\u001b[43m)\u001b[49m\n\u001b[1;32m     45\u001b[0m \u001b[38;5;28;01mfinally\u001b[39;00m:\n\u001b[1;32m     46\u001b[0m     show\u001b[38;5;241m.\u001b[39m_to_draw \u001b[38;5;241m=\u001b[39m []\n",
      "File \u001b[0;32m/scratch/project_2000789/muramarg/miniconda3/envs/myenv/lib/python3.8/site-packages/IPython/core/display_functions.py:298\u001b[0m, in \u001b[0;36mdisplay\u001b[0;34m(include, exclude, metadata, transient, display_id, raw, clear, *objs, **kwargs)\u001b[0m\n\u001b[1;32m    296\u001b[0m     publish_display_data(data\u001b[38;5;241m=\u001b[39mobj, metadata\u001b[38;5;241m=\u001b[39mmetadata, \u001b[38;5;241m*\u001b[39m\u001b[38;5;241m*\u001b[39mkwargs)\n\u001b[1;32m    297\u001b[0m \u001b[38;5;28;01melse\u001b[39;00m:\n\u001b[0;32m--> 298\u001b[0m     format_dict, md_dict \u001b[38;5;241m=\u001b[39m \u001b[38;5;28;43mformat\u001b[39;49m\u001b[43m(\u001b[49m\u001b[43mobj\u001b[49m\u001b[43m,\u001b[49m\u001b[43m \u001b[49m\u001b[43minclude\u001b[49m\u001b[38;5;241;43m=\u001b[39;49m\u001b[43minclude\u001b[49m\u001b[43m,\u001b[49m\u001b[43m \u001b[49m\u001b[43mexclude\u001b[49m\u001b[38;5;241;43m=\u001b[39;49m\u001b[43mexclude\u001b[49m\u001b[43m)\u001b[49m\n\u001b[1;32m    299\u001b[0m     \u001b[38;5;28;01mif\u001b[39;00m \u001b[38;5;129;01mnot\u001b[39;00m format_dict:\n\u001b[1;32m    300\u001b[0m         \u001b[38;5;66;03m# nothing to display (e.g. _ipython_display_ took over)\u001b[39;00m\n\u001b[1;32m    301\u001b[0m         \u001b[38;5;28;01mcontinue\u001b[39;00m\n",
      "File \u001b[0;32m/scratch/project_2000789/muramarg/miniconda3/envs/myenv/lib/python3.8/site-packages/IPython/core/formatters.py:178\u001b[0m, in \u001b[0;36mDisplayFormatter.format\u001b[0;34m(self, obj, include, exclude)\u001b[0m\n\u001b[1;32m    176\u001b[0m md \u001b[38;5;241m=\u001b[39m \u001b[38;5;28;01mNone\u001b[39;00m\n\u001b[1;32m    177\u001b[0m \u001b[38;5;28;01mtry\u001b[39;00m:\n\u001b[0;32m--> 178\u001b[0m     data \u001b[38;5;241m=\u001b[39m \u001b[43mformatter\u001b[49m\u001b[43m(\u001b[49m\u001b[43mobj\u001b[49m\u001b[43m)\u001b[49m\n\u001b[1;32m    179\u001b[0m \u001b[38;5;28;01mexcept\u001b[39;00m:\n\u001b[1;32m    180\u001b[0m     \u001b[38;5;66;03m# FIXME: log the exception\u001b[39;00m\n\u001b[1;32m    181\u001b[0m     \u001b[38;5;28;01mraise\u001b[39;00m\n",
      "File \u001b[0;32m/scratch/project_2000789/muramarg/miniconda3/envs/myenv/lib/python3.8/site-packages/decorator.py:232\u001b[0m, in \u001b[0;36mdecorate.<locals>.fun\u001b[0;34m(*args, **kw)\u001b[0m\n\u001b[1;32m    230\u001b[0m \u001b[38;5;28;01mif\u001b[39;00m \u001b[38;5;129;01mnot\u001b[39;00m kwsyntax:\n\u001b[1;32m    231\u001b[0m     args, kw \u001b[38;5;241m=\u001b[39m fix(args, kw, sig)\n\u001b[0;32m--> 232\u001b[0m \u001b[38;5;28;01mreturn\u001b[39;00m \u001b[43mcaller\u001b[49m\u001b[43m(\u001b[49m\u001b[43mfunc\u001b[49m\u001b[43m,\u001b[49m\u001b[43m \u001b[49m\u001b[38;5;241;43m*\u001b[39;49m\u001b[43m(\u001b[49m\u001b[43mextras\u001b[49m\u001b[43m \u001b[49m\u001b[38;5;241;43m+\u001b[39;49m\u001b[43m \u001b[49m\u001b[43margs\u001b[49m\u001b[43m)\u001b[49m\u001b[43m,\u001b[49m\u001b[43m \u001b[49m\u001b[38;5;241;43m*\u001b[39;49m\u001b[38;5;241;43m*\u001b[39;49m\u001b[43mkw\u001b[49m\u001b[43m)\u001b[49m\n",
      "File \u001b[0;32m/scratch/project_2000789/muramarg/miniconda3/envs/myenv/lib/python3.8/site-packages/IPython/core/formatters.py:222\u001b[0m, in \u001b[0;36mcatch_format_error\u001b[0;34m(method, self, *args, **kwargs)\u001b[0m\n\u001b[1;32m    220\u001b[0m \u001b[38;5;124;03m\"\"\"show traceback on failed format call\"\"\"\u001b[39;00m\n\u001b[1;32m    221\u001b[0m \u001b[38;5;28;01mtry\u001b[39;00m:\n\u001b[0;32m--> 222\u001b[0m     r \u001b[38;5;241m=\u001b[39m \u001b[43mmethod\u001b[49m\u001b[43m(\u001b[49m\u001b[38;5;28;43mself\u001b[39;49m\u001b[43m,\u001b[49m\u001b[43m \u001b[49m\u001b[38;5;241;43m*\u001b[39;49m\u001b[43margs\u001b[49m\u001b[43m,\u001b[49m\u001b[43m \u001b[49m\u001b[38;5;241;43m*\u001b[39;49m\u001b[38;5;241;43m*\u001b[39;49m\u001b[43mkwargs\u001b[49m\u001b[43m)\u001b[49m\n\u001b[1;32m    223\u001b[0m \u001b[38;5;28;01mexcept\u001b[39;00m \u001b[38;5;167;01mNotImplementedError\u001b[39;00m:\n\u001b[1;32m    224\u001b[0m     \u001b[38;5;66;03m# don't warn on NotImplementedErrors\u001b[39;00m\n\u001b[1;32m    225\u001b[0m     \u001b[38;5;28;01mreturn\u001b[39;00m \u001b[38;5;28mself\u001b[39m\u001b[38;5;241m.\u001b[39m_check_return(\u001b[38;5;28;01mNone\u001b[39;00m, args[\u001b[38;5;241m0\u001b[39m])\n",
      "File \u001b[0;32m/scratch/project_2000789/muramarg/miniconda3/envs/myenv/lib/python3.8/site-packages/IPython/core/formatters.py:339\u001b[0m, in \u001b[0;36mBaseFormatter.__call__\u001b[0;34m(self, obj)\u001b[0m\n\u001b[1;32m    337\u001b[0m     \u001b[38;5;28;01mpass\u001b[39;00m\n\u001b[1;32m    338\u001b[0m \u001b[38;5;28;01melse\u001b[39;00m:\n\u001b[0;32m--> 339\u001b[0m     \u001b[38;5;28;01mreturn\u001b[39;00m \u001b[43mprinter\u001b[49m\u001b[43m(\u001b[49m\u001b[43mobj\u001b[49m\u001b[43m)\u001b[49m\n\u001b[1;32m    340\u001b[0m \u001b[38;5;66;03m# Finally look for special method names\u001b[39;00m\n\u001b[1;32m    341\u001b[0m method \u001b[38;5;241m=\u001b[39m get_real_method(obj, \u001b[38;5;28mself\u001b[39m\u001b[38;5;241m.\u001b[39mprint_method)\n",
      "File \u001b[0;32m/scratch/project_2000789/muramarg/miniconda3/envs/myenv/lib/python3.8/site-packages/IPython/core/pylabtools.py:151\u001b[0m, in \u001b[0;36mprint_figure\u001b[0;34m(fig, fmt, bbox_inches, base64, **kwargs)\u001b[0m\n\u001b[1;32m    148\u001b[0m     \u001b[38;5;28;01mfrom\u001b[39;00m \u001b[38;5;21;01mmatplotlib\u001b[39;00m\u001b[38;5;21;01m.\u001b[39;00m\u001b[38;5;21;01mbackend_bases\u001b[39;00m \u001b[38;5;28;01mimport\u001b[39;00m FigureCanvasBase\n\u001b[1;32m    149\u001b[0m     FigureCanvasBase(fig)\n\u001b[0;32m--> 151\u001b[0m \u001b[43mfig\u001b[49m\u001b[38;5;241;43m.\u001b[39;49m\u001b[43mcanvas\u001b[49m\u001b[38;5;241;43m.\u001b[39;49m\u001b[43mprint_figure\u001b[49m\u001b[43m(\u001b[49m\u001b[43mbytes_io\u001b[49m\u001b[43m,\u001b[49m\u001b[43m \u001b[49m\u001b[38;5;241;43m*\u001b[39;49m\u001b[38;5;241;43m*\u001b[39;49m\u001b[43mkw\u001b[49m\u001b[43m)\u001b[49m\n\u001b[1;32m    152\u001b[0m data \u001b[38;5;241m=\u001b[39m bytes_io\u001b[38;5;241m.\u001b[39mgetvalue()\n\u001b[1;32m    153\u001b[0m \u001b[38;5;28;01mif\u001b[39;00m fmt \u001b[38;5;241m==\u001b[39m \u001b[38;5;124m'\u001b[39m\u001b[38;5;124msvg\u001b[39m\u001b[38;5;124m'\u001b[39m:\n",
      "File \u001b[0;32m/scratch/project_2000789/muramarg/miniconda3/envs/myenv/lib/python3.8/site-packages/matplotlib/backend_bases.py:2295\u001b[0m, in \u001b[0;36mFigureCanvasBase.print_figure\u001b[0;34m(self, filename, dpi, facecolor, edgecolor, orientation, format, bbox_inches, pad_inches, bbox_extra_artists, backend, **kwargs)\u001b[0m\n\u001b[1;32m   2289\u001b[0m     renderer \u001b[38;5;241m=\u001b[39m _get_renderer(\n\u001b[1;32m   2290\u001b[0m         \u001b[38;5;28mself\u001b[39m\u001b[38;5;241m.\u001b[39mfigure,\n\u001b[1;32m   2291\u001b[0m         functools\u001b[38;5;241m.\u001b[39mpartial(\n\u001b[1;32m   2292\u001b[0m             print_method, orientation\u001b[38;5;241m=\u001b[39morientation)\n\u001b[1;32m   2293\u001b[0m     )\n\u001b[1;32m   2294\u001b[0m     \u001b[38;5;28;01mwith\u001b[39;00m \u001b[38;5;28mgetattr\u001b[39m(renderer, \u001b[38;5;124m\"\u001b[39m\u001b[38;5;124m_draw_disabled\u001b[39m\u001b[38;5;124m\"\u001b[39m, nullcontext)():\n\u001b[0;32m-> 2295\u001b[0m         \u001b[38;5;28;43mself\u001b[39;49m\u001b[38;5;241;43m.\u001b[39;49m\u001b[43mfigure\u001b[49m\u001b[38;5;241;43m.\u001b[39;49m\u001b[43mdraw\u001b[49m\u001b[43m(\u001b[49m\u001b[43mrenderer\u001b[49m\u001b[43m)\u001b[49m\n\u001b[1;32m   2297\u001b[0m \u001b[38;5;28;01mif\u001b[39;00m bbox_inches:\n\u001b[1;32m   2298\u001b[0m     \u001b[38;5;28;01mif\u001b[39;00m bbox_inches \u001b[38;5;241m==\u001b[39m \u001b[38;5;124m\"\u001b[39m\u001b[38;5;124mtight\u001b[39m\u001b[38;5;124m\"\u001b[39m:\n",
      "File \u001b[0;32m/scratch/project_2000789/muramarg/miniconda3/envs/myenv/lib/python3.8/site-packages/matplotlib/artist.py:73\u001b[0m, in \u001b[0;36m_finalize_rasterization.<locals>.draw_wrapper\u001b[0;34m(artist, renderer, *args, **kwargs)\u001b[0m\n\u001b[1;32m     71\u001b[0m \u001b[38;5;129m@wraps\u001b[39m(draw)\n\u001b[1;32m     72\u001b[0m \u001b[38;5;28;01mdef\u001b[39;00m \u001b[38;5;21mdraw_wrapper\u001b[39m(artist, renderer, \u001b[38;5;241m*\u001b[39margs, \u001b[38;5;241m*\u001b[39m\u001b[38;5;241m*\u001b[39mkwargs):\n\u001b[0;32m---> 73\u001b[0m     result \u001b[38;5;241m=\u001b[39m \u001b[43mdraw\u001b[49m\u001b[43m(\u001b[49m\u001b[43martist\u001b[49m\u001b[43m,\u001b[49m\u001b[43m \u001b[49m\u001b[43mrenderer\u001b[49m\u001b[43m,\u001b[49m\u001b[43m \u001b[49m\u001b[38;5;241;43m*\u001b[39;49m\u001b[43margs\u001b[49m\u001b[43m,\u001b[49m\u001b[43m \u001b[49m\u001b[38;5;241;43m*\u001b[39;49m\u001b[38;5;241;43m*\u001b[39;49m\u001b[43mkwargs\u001b[49m\u001b[43m)\u001b[49m\n\u001b[1;32m     74\u001b[0m     \u001b[38;5;28;01mif\u001b[39;00m renderer\u001b[38;5;241m.\u001b[39m_rasterizing:\n\u001b[1;32m     75\u001b[0m         renderer\u001b[38;5;241m.\u001b[39mstop_rasterizing()\n",
      "File \u001b[0;32m/scratch/project_2000789/muramarg/miniconda3/envs/myenv/lib/python3.8/site-packages/matplotlib/artist.py:50\u001b[0m, in \u001b[0;36mallow_rasterization.<locals>.draw_wrapper\u001b[0;34m(artist, renderer)\u001b[0m\n\u001b[1;32m     47\u001b[0m     \u001b[38;5;28;01mif\u001b[39;00m artist\u001b[38;5;241m.\u001b[39mget_agg_filter() \u001b[38;5;129;01mis\u001b[39;00m \u001b[38;5;129;01mnot\u001b[39;00m \u001b[38;5;28;01mNone\u001b[39;00m:\n\u001b[1;32m     48\u001b[0m         renderer\u001b[38;5;241m.\u001b[39mstart_filter()\n\u001b[0;32m---> 50\u001b[0m     \u001b[38;5;28;01mreturn\u001b[39;00m \u001b[43mdraw\u001b[49m\u001b[43m(\u001b[49m\u001b[43martist\u001b[49m\u001b[43m,\u001b[49m\u001b[43m \u001b[49m\u001b[43mrenderer\u001b[49m\u001b[43m)\u001b[49m\n\u001b[1;32m     51\u001b[0m \u001b[38;5;28;01mfinally\u001b[39;00m:\n\u001b[1;32m     52\u001b[0m     \u001b[38;5;28;01mif\u001b[39;00m artist\u001b[38;5;241m.\u001b[39mget_agg_filter() \u001b[38;5;129;01mis\u001b[39;00m \u001b[38;5;129;01mnot\u001b[39;00m \u001b[38;5;28;01mNone\u001b[39;00m:\n",
      "File \u001b[0;32m/scratch/project_2000789/muramarg/miniconda3/envs/myenv/lib/python3.8/site-packages/matplotlib/figure.py:2837\u001b[0m, in \u001b[0;36mFigure.draw\u001b[0;34m(self, renderer)\u001b[0m\n\u001b[1;32m   2834\u001b[0m         \u001b[38;5;66;03m# ValueError can occur when resizing a window.\u001b[39;00m\n\u001b[1;32m   2836\u001b[0m \u001b[38;5;28mself\u001b[39m\u001b[38;5;241m.\u001b[39mpatch\u001b[38;5;241m.\u001b[39mdraw(renderer)\n\u001b[0;32m-> 2837\u001b[0m \u001b[43mmimage\u001b[49m\u001b[38;5;241;43m.\u001b[39;49m\u001b[43m_draw_list_compositing_images\u001b[49m\u001b[43m(\u001b[49m\n\u001b[1;32m   2838\u001b[0m \u001b[43m    \u001b[49m\u001b[43mrenderer\u001b[49m\u001b[43m,\u001b[49m\u001b[43m \u001b[49m\u001b[38;5;28;43mself\u001b[39;49m\u001b[43m,\u001b[49m\u001b[43m \u001b[49m\u001b[43martists\u001b[49m\u001b[43m,\u001b[49m\u001b[43m \u001b[49m\u001b[38;5;28;43mself\u001b[39;49m\u001b[38;5;241;43m.\u001b[39;49m\u001b[43msuppressComposite\u001b[49m\u001b[43m)\u001b[49m\n\u001b[1;32m   2840\u001b[0m \u001b[38;5;28;01mfor\u001b[39;00m sfig \u001b[38;5;129;01min\u001b[39;00m \u001b[38;5;28mself\u001b[39m\u001b[38;5;241m.\u001b[39msubfigs:\n\u001b[1;32m   2841\u001b[0m     sfig\u001b[38;5;241m.\u001b[39mdraw(renderer)\n",
      "File \u001b[0;32m/scratch/project_2000789/muramarg/miniconda3/envs/myenv/lib/python3.8/site-packages/matplotlib/image.py:132\u001b[0m, in \u001b[0;36m_draw_list_compositing_images\u001b[0;34m(renderer, parent, artists, suppress_composite)\u001b[0m\n\u001b[1;32m    130\u001b[0m \u001b[38;5;28;01mif\u001b[39;00m not_composite \u001b[38;5;129;01mor\u001b[39;00m \u001b[38;5;129;01mnot\u001b[39;00m has_images:\n\u001b[1;32m    131\u001b[0m     \u001b[38;5;28;01mfor\u001b[39;00m a \u001b[38;5;129;01min\u001b[39;00m artists:\n\u001b[0;32m--> 132\u001b[0m         \u001b[43ma\u001b[49m\u001b[38;5;241;43m.\u001b[39;49m\u001b[43mdraw\u001b[49m\u001b[43m(\u001b[49m\u001b[43mrenderer\u001b[49m\u001b[43m)\u001b[49m\n\u001b[1;32m    133\u001b[0m \u001b[38;5;28;01melse\u001b[39;00m:\n\u001b[1;32m    134\u001b[0m     \u001b[38;5;66;03m# Composite any adjacent images together\u001b[39;00m\n\u001b[1;32m    135\u001b[0m     image_group \u001b[38;5;241m=\u001b[39m []\n",
      "File \u001b[0;32m/scratch/project_2000789/muramarg/miniconda3/envs/myenv/lib/python3.8/site-packages/matplotlib/artist.py:50\u001b[0m, in \u001b[0;36mallow_rasterization.<locals>.draw_wrapper\u001b[0;34m(artist, renderer)\u001b[0m\n\u001b[1;32m     47\u001b[0m     \u001b[38;5;28;01mif\u001b[39;00m artist\u001b[38;5;241m.\u001b[39mget_agg_filter() \u001b[38;5;129;01mis\u001b[39;00m \u001b[38;5;129;01mnot\u001b[39;00m \u001b[38;5;28;01mNone\u001b[39;00m:\n\u001b[1;32m     48\u001b[0m         renderer\u001b[38;5;241m.\u001b[39mstart_filter()\n\u001b[0;32m---> 50\u001b[0m     \u001b[38;5;28;01mreturn\u001b[39;00m \u001b[43mdraw\u001b[49m\u001b[43m(\u001b[49m\u001b[43martist\u001b[49m\u001b[43m,\u001b[49m\u001b[43m \u001b[49m\u001b[43mrenderer\u001b[49m\u001b[43m)\u001b[49m\n\u001b[1;32m     51\u001b[0m \u001b[38;5;28;01mfinally\u001b[39;00m:\n\u001b[1;32m     52\u001b[0m     \u001b[38;5;28;01mif\u001b[39;00m artist\u001b[38;5;241m.\u001b[39mget_agg_filter() \u001b[38;5;129;01mis\u001b[39;00m \u001b[38;5;129;01mnot\u001b[39;00m \u001b[38;5;28;01mNone\u001b[39;00m:\n",
      "File \u001b[0;32m/scratch/project_2000789/muramarg/miniconda3/envs/myenv/lib/python3.8/site-packages/matplotlib/axes/_base.py:3091\u001b[0m, in \u001b[0;36m_AxesBase.draw\u001b[0;34m(self, renderer)\u001b[0m\n\u001b[1;32m   3088\u001b[0m         a\u001b[38;5;241m.\u001b[39mdraw(renderer)\n\u001b[1;32m   3089\u001b[0m     renderer\u001b[38;5;241m.\u001b[39mstop_rasterizing()\n\u001b[0;32m-> 3091\u001b[0m \u001b[43mmimage\u001b[49m\u001b[38;5;241;43m.\u001b[39;49m\u001b[43m_draw_list_compositing_images\u001b[49m\u001b[43m(\u001b[49m\n\u001b[1;32m   3092\u001b[0m \u001b[43m    \u001b[49m\u001b[43mrenderer\u001b[49m\u001b[43m,\u001b[49m\u001b[43m \u001b[49m\u001b[38;5;28;43mself\u001b[39;49m\u001b[43m,\u001b[49m\u001b[43m \u001b[49m\u001b[43martists\u001b[49m\u001b[43m,\u001b[49m\u001b[43m \u001b[49m\u001b[38;5;28;43mself\u001b[39;49m\u001b[38;5;241;43m.\u001b[39;49m\u001b[43mfigure\u001b[49m\u001b[38;5;241;43m.\u001b[39;49m\u001b[43msuppressComposite\u001b[49m\u001b[43m)\u001b[49m\n\u001b[1;32m   3094\u001b[0m renderer\u001b[38;5;241m.\u001b[39mclose_group(\u001b[38;5;124m'\u001b[39m\u001b[38;5;124maxes\u001b[39m\u001b[38;5;124m'\u001b[39m)\n\u001b[1;32m   3095\u001b[0m \u001b[38;5;28mself\u001b[39m\u001b[38;5;241m.\u001b[39mstale \u001b[38;5;241m=\u001b[39m \u001b[38;5;28;01mFalse\u001b[39;00m\n",
      "File \u001b[0;32m/scratch/project_2000789/muramarg/miniconda3/envs/myenv/lib/python3.8/site-packages/matplotlib/image.py:132\u001b[0m, in \u001b[0;36m_draw_list_compositing_images\u001b[0;34m(renderer, parent, artists, suppress_composite)\u001b[0m\n\u001b[1;32m    130\u001b[0m \u001b[38;5;28;01mif\u001b[39;00m not_composite \u001b[38;5;129;01mor\u001b[39;00m \u001b[38;5;129;01mnot\u001b[39;00m has_images:\n\u001b[1;32m    131\u001b[0m     \u001b[38;5;28;01mfor\u001b[39;00m a \u001b[38;5;129;01min\u001b[39;00m artists:\n\u001b[0;32m--> 132\u001b[0m         \u001b[43ma\u001b[49m\u001b[38;5;241;43m.\u001b[39;49m\u001b[43mdraw\u001b[49m\u001b[43m(\u001b[49m\u001b[43mrenderer\u001b[49m\u001b[43m)\u001b[49m\n\u001b[1;32m    133\u001b[0m \u001b[38;5;28;01melse\u001b[39;00m:\n\u001b[1;32m    134\u001b[0m     \u001b[38;5;66;03m# Composite any adjacent images together\u001b[39;00m\n\u001b[1;32m    135\u001b[0m     image_group \u001b[38;5;241m=\u001b[39m []\n",
      "File \u001b[0;32m/scratch/project_2000789/muramarg/miniconda3/envs/myenv/lib/python3.8/site-packages/matplotlib/artist.py:50\u001b[0m, in \u001b[0;36mallow_rasterization.<locals>.draw_wrapper\u001b[0;34m(artist, renderer)\u001b[0m\n\u001b[1;32m     47\u001b[0m     \u001b[38;5;28;01mif\u001b[39;00m artist\u001b[38;5;241m.\u001b[39mget_agg_filter() \u001b[38;5;129;01mis\u001b[39;00m \u001b[38;5;129;01mnot\u001b[39;00m \u001b[38;5;28;01mNone\u001b[39;00m:\n\u001b[1;32m     48\u001b[0m         renderer\u001b[38;5;241m.\u001b[39mstart_filter()\n\u001b[0;32m---> 50\u001b[0m     \u001b[38;5;28;01mreturn\u001b[39;00m \u001b[43mdraw\u001b[49m\u001b[43m(\u001b[49m\u001b[43martist\u001b[49m\u001b[43m,\u001b[49m\u001b[43m \u001b[49m\u001b[43mrenderer\u001b[49m\u001b[43m)\u001b[49m\n\u001b[1;32m     51\u001b[0m \u001b[38;5;28;01mfinally\u001b[39;00m:\n\u001b[1;32m     52\u001b[0m     \u001b[38;5;28;01mif\u001b[39;00m artist\u001b[38;5;241m.\u001b[39mget_agg_filter() \u001b[38;5;129;01mis\u001b[39;00m \u001b[38;5;129;01mnot\u001b[39;00m \u001b[38;5;28;01mNone\u001b[39;00m:\n",
      "File \u001b[0;32m/scratch/project_2000789/muramarg/miniconda3/envs/myenv/lib/python3.8/site-packages/matplotlib/legend.py:620\u001b[0m, in \u001b[0;36mLegend.draw\u001b[0;34m(self, renderer)\u001b[0m\n\u001b[1;32m    616\u001b[0m     \u001b[38;5;28mself\u001b[39m\u001b[38;5;241m.\u001b[39m_legend_box\u001b[38;5;241m.\u001b[39mset_width(\u001b[38;5;28mself\u001b[39m\u001b[38;5;241m.\u001b[39mget_bbox_to_anchor()\u001b[38;5;241m.\u001b[39mwidth \u001b[38;5;241m-\u001b[39m pad)\n\u001b[1;32m    618\u001b[0m \u001b[38;5;66;03m# update the location and size of the legend. This needs to\u001b[39;00m\n\u001b[1;32m    619\u001b[0m \u001b[38;5;66;03m# be done in any case to clip the figure right.\u001b[39;00m\n\u001b[0;32m--> 620\u001b[0m bbox \u001b[38;5;241m=\u001b[39m \u001b[38;5;28;43mself\u001b[39;49m\u001b[38;5;241;43m.\u001b[39;49m\u001b[43m_legend_box\u001b[49m\u001b[38;5;241;43m.\u001b[39;49m\u001b[43mget_window_extent\u001b[49m\u001b[43m(\u001b[49m\u001b[43mrenderer\u001b[49m\u001b[43m)\u001b[49m\n\u001b[1;32m    621\u001b[0m \u001b[38;5;28mself\u001b[39m\u001b[38;5;241m.\u001b[39mlegendPatch\u001b[38;5;241m.\u001b[39mset_bounds(bbox\u001b[38;5;241m.\u001b[39mx0, bbox\u001b[38;5;241m.\u001b[39my0, bbox\u001b[38;5;241m.\u001b[39mwidth, bbox\u001b[38;5;241m.\u001b[39mheight)\n\u001b[1;32m    622\u001b[0m \u001b[38;5;28mself\u001b[39m\u001b[38;5;241m.\u001b[39mlegendPatch\u001b[38;5;241m.\u001b[39mset_mutation_scale(fontsize)\n",
      "File \u001b[0;32m/scratch/project_2000789/muramarg/miniconda3/envs/myenv/lib/python3.8/site-packages/matplotlib/offsetbox.py:351\u001b[0m, in \u001b[0;36mOffsetBox.get_window_extent\u001b[0;34m(self, renderer)\u001b[0m\n\u001b[1;32m    348\u001b[0m \u001b[38;5;28;01mdef\u001b[39;00m \u001b[38;5;21mget_window_extent\u001b[39m(\u001b[38;5;28mself\u001b[39m, renderer):\n\u001b[1;32m    349\u001b[0m     \u001b[38;5;66;03m# docstring inherited\u001b[39;00m\n\u001b[1;32m    350\u001b[0m     w, h, xd, yd, offsets \u001b[38;5;241m=\u001b[39m \u001b[38;5;28mself\u001b[39m\u001b[38;5;241m.\u001b[39mget_extent_offsets(renderer)\n\u001b[0;32m--> 351\u001b[0m     px, py \u001b[38;5;241m=\u001b[39m \u001b[38;5;28;43mself\u001b[39;49m\u001b[38;5;241;43m.\u001b[39;49m\u001b[43mget_offset\u001b[49m\u001b[43m(\u001b[49m\u001b[43mw\u001b[49m\u001b[43m,\u001b[49m\u001b[43m \u001b[49m\u001b[43mh\u001b[49m\u001b[43m,\u001b[49m\u001b[43m \u001b[49m\u001b[43mxd\u001b[49m\u001b[43m,\u001b[49m\u001b[43m \u001b[49m\u001b[43myd\u001b[49m\u001b[43m,\u001b[49m\u001b[43m \u001b[49m\u001b[43mrenderer\u001b[49m\u001b[43m)\u001b[49m\n\u001b[1;32m    352\u001b[0m     \u001b[38;5;28;01mreturn\u001b[39;00m mtransforms\u001b[38;5;241m.\u001b[39mBbox\u001b[38;5;241m.\u001b[39mfrom_bounds(px \u001b[38;5;241m-\u001b[39m xd, py \u001b[38;5;241m-\u001b[39m yd, w, h)\n",
      "File \u001b[0;32m/scratch/project_2000789/muramarg/miniconda3/envs/myenv/lib/python3.8/site-packages/matplotlib/offsetbox.py:290\u001b[0m, in \u001b[0;36mOffsetBox.get_offset\u001b[0;34m(self, width, height, xdescent, ydescent, renderer)\u001b[0m\n\u001b[1;32m    275\u001b[0m \u001b[38;5;28;01mdef\u001b[39;00m \u001b[38;5;21mget_offset\u001b[39m(\u001b[38;5;28mself\u001b[39m, width, height, xdescent, ydescent, renderer):\n\u001b[1;32m    276\u001b[0m     \u001b[38;5;124;03m\"\"\"\u001b[39;00m\n\u001b[1;32m    277\u001b[0m \u001b[38;5;124;03m    Return the offset as a tuple (x, y).\u001b[39;00m\n\u001b[1;32m    278\u001b[0m \n\u001b[0;32m   (...)\u001b[0m\n\u001b[1;32m    288\u001b[0m \n\u001b[1;32m    289\u001b[0m \u001b[38;5;124;03m    \"\"\"\u001b[39;00m\n\u001b[0;32m--> 290\u001b[0m     \u001b[38;5;28;01mreturn\u001b[39;00m (\u001b[38;5;28;43mself\u001b[39;49m\u001b[38;5;241;43m.\u001b[39;49m\u001b[43m_offset\u001b[49m\u001b[43m(\u001b[49m\u001b[43mwidth\u001b[49m\u001b[43m,\u001b[49m\u001b[43m \u001b[49m\u001b[43mheight\u001b[49m\u001b[43m,\u001b[49m\u001b[43m \u001b[49m\u001b[43mxdescent\u001b[49m\u001b[43m,\u001b[49m\u001b[43m \u001b[49m\u001b[43mydescent\u001b[49m\u001b[43m,\u001b[49m\u001b[43m \u001b[49m\u001b[43mrenderer\u001b[49m\u001b[43m)\u001b[49m\n\u001b[1;32m    291\u001b[0m             \u001b[38;5;28;01mif\u001b[39;00m callable(\u001b[38;5;28mself\u001b[39m\u001b[38;5;241m.\u001b[39m_offset)\n\u001b[1;32m    292\u001b[0m             \u001b[38;5;28;01melse\u001b[39;00m \u001b[38;5;28mself\u001b[39m\u001b[38;5;241m.\u001b[39m_offset)\n",
      "File \u001b[0;32m/scratch/project_2000789/muramarg/miniconda3/envs/myenv/lib/python3.8/site-packages/matplotlib/legend.py:589\u001b[0m, in \u001b[0;36mLegend._findoffset\u001b[0;34m(self, width, height, xdescent, ydescent, renderer)\u001b[0m\n\u001b[1;32m    586\u001b[0m \u001b[38;5;124;03m\"\"\"Helper function to locate the legend.\"\"\"\u001b[39;00m\n\u001b[1;32m    588\u001b[0m \u001b[38;5;28;01mif\u001b[39;00m \u001b[38;5;28mself\u001b[39m\u001b[38;5;241m.\u001b[39m_loc \u001b[38;5;241m==\u001b[39m \u001b[38;5;241m0\u001b[39m:  \u001b[38;5;66;03m# \"best\".\u001b[39;00m\n\u001b[0;32m--> 589\u001b[0m     x, y \u001b[38;5;241m=\u001b[39m \u001b[38;5;28;43mself\u001b[39;49m\u001b[38;5;241;43m.\u001b[39;49m\u001b[43m_find_best_position\u001b[49m\u001b[43m(\u001b[49m\u001b[43mwidth\u001b[49m\u001b[43m,\u001b[49m\u001b[43m \u001b[49m\u001b[43mheight\u001b[49m\u001b[43m,\u001b[49m\u001b[43m \u001b[49m\u001b[43mrenderer\u001b[49m\u001b[43m)\u001b[49m\n\u001b[1;32m    590\u001b[0m \u001b[38;5;28;01melif\u001b[39;00m \u001b[38;5;28mself\u001b[39m\u001b[38;5;241m.\u001b[39m_loc \u001b[38;5;129;01min\u001b[39;00m Legend\u001b[38;5;241m.\u001b[39mcodes\u001b[38;5;241m.\u001b[39mvalues():  \u001b[38;5;66;03m# Fixed location.\u001b[39;00m\n\u001b[1;32m    591\u001b[0m     bbox \u001b[38;5;241m=\u001b[39m Bbox\u001b[38;5;241m.\u001b[39mfrom_bounds(\u001b[38;5;241m0\u001b[39m, \u001b[38;5;241m0\u001b[39m, width, height)\n",
      "File \u001b[0;32m/scratch/project_2000789/muramarg/miniconda3/envs/myenv/lib/python3.8/site-packages/matplotlib/legend.py:1015\u001b[0m, in \u001b[0;36mLegend._find_best_position\u001b[0;34m(self, width, height, renderer, consider)\u001b[0m\n\u001b[1;32m   1011\u001b[0m \u001b[38;5;28;01massert\u001b[39;00m \u001b[38;5;28mself\u001b[39m\u001b[38;5;241m.\u001b[39misaxes  \u001b[38;5;66;03m# always holds, as this is only called internally\u001b[39;00m\n\u001b[1;32m   1013\u001b[0m start_time \u001b[38;5;241m=\u001b[39m time\u001b[38;5;241m.\u001b[39mperf_counter()\n\u001b[0;32m-> 1015\u001b[0m bboxes, lines, offsets \u001b[38;5;241m=\u001b[39m \u001b[38;5;28;43mself\u001b[39;49m\u001b[38;5;241;43m.\u001b[39;49m\u001b[43m_auto_legend_data\u001b[49m\u001b[43m(\u001b[49m\u001b[43m)\u001b[49m\n\u001b[1;32m   1017\u001b[0m bbox \u001b[38;5;241m=\u001b[39m Bbox\u001b[38;5;241m.\u001b[39mfrom_bounds(\u001b[38;5;241m0\u001b[39m, \u001b[38;5;241m0\u001b[39m, width, height)\n\u001b[1;32m   1018\u001b[0m \u001b[38;5;28;01mif\u001b[39;00m consider \u001b[38;5;129;01mis\u001b[39;00m \u001b[38;5;28;01mNone\u001b[39;00m:\n",
      "File \u001b[0;32m/scratch/project_2000789/muramarg/miniconda3/envs/myenv/lib/python3.8/site-packages/matplotlib/legend.py:859\u001b[0m, in \u001b[0;36mLegend._auto_legend_data\u001b[0;34m(self)\u001b[0m\n\u001b[1;32m    857\u001b[0m     \u001b[38;5;28;01melif\u001b[39;00m \u001b[38;5;28misinstance\u001b[39m(artist, Collection):\n\u001b[1;32m    858\u001b[0m         _, transOffset, hoffsets, _ \u001b[38;5;241m=\u001b[39m artist\u001b[38;5;241m.\u001b[39m_prepare_points()\n\u001b[0;32m--> 859\u001b[0m         \u001b[38;5;28;01mfor\u001b[39;00m offset \u001b[38;5;129;01min\u001b[39;00m transOffset\u001b[38;5;241m.\u001b[39mtransform(hoffsets):\n\u001b[1;32m    860\u001b[0m             offsets\u001b[38;5;241m.\u001b[39mappend(offset)\n\u001b[1;32m    861\u001b[0m \u001b[38;5;28;01mreturn\u001b[39;00m bboxes, lines, offsets\n",
      "\u001b[0;31mKeyboardInterrupt\u001b[0m: "
     ]
    }
   ],
   "source": [
    "# plot floats ending as AASW colored by time\n",
    "figure = plt.figure(figsize=[25, 25])\n",
    "ax = plt.subplot(1,1,1)\n",
    "plt.title('AABW')\n",
    "plt.rcParams['axes.labelsize']='x-large'\n",
    "plt.scatter(aabw_salt,aabw_temp,s=0.1,marker='o',c=aabw_cmap,cmap='viridis')\n",
    "plt.scatter(firstsalts,firsttemps,marker='X',color='g',label=\"Starting points\")\n",
    "plt.scatter(lastsalts,lasttemps,marker='X',color='r',label=\"Endpoints\")\n",
    "#cbar = plt.colorbar(ticks=[0, 2820, 5640, 8460, 11280, 14100, 16920, 19740, 22560])\n",
    "cbar = plt.colorbar()\n",
    "#cbar.ax.set_yticklabels(['0','30','60','90','120','150','180','210','240'])\n",
    "cbar.set_label('Depth', rotation=270,labelpad=15)\n",
    "plt.plot(si,Freez_temp,'-',color='dimgray',label='Seawater Freezing',alpha=0.5,zorder=1)\n",
    "#plt.plot(si,Tgade,'-',color='steelblue',label='Gade Line',alpha=0.5,zorder=2)\n",
    "plt.ylim([-2.4,0.3])\n",
    "plt.xlim([33.8,35.1])\n",
    "plt.legend(loc=\"best\",fontsize=\"x-large\")\n",
    "cs = ax.contour(si, ti, dens, colors=\"silver\", zorder=1,alpha=0.5)\n",
    "#ax.contour(si,ti,Freez_temp, colors=\"grey\", zorder=1,alpha=0.5)\n",
    "cl=plt.clabel(cs,fontsize=10,inline=False,fmt=\"%.1f\")\n",
    "\n",
    "plt.savefig(\"aabw_points.png\", dpi=300)\n",
    "plt.close()"
   ]
  },
  {
   "cell_type": "markdown",
   "id": "28bba767",
   "metadata": {},
   "source": [
    "### Group similar trajectories together"
   ]
  },
  {
   "cell_type": "code",
   "execution_count": 138,
   "id": "053b933f",
   "metadata": {},
   "outputs": [],
   "source": [
    "# flatten the data to create two x and y lines\n",
    "x_flat = aabw_salt.flatten()\n",
    "y_flat = aabw_temp.flatten()\n",
    "\n",
    "# drop the NaN values from the list\n",
    "x_flat = x_flat[~np.isnan(x_flat)]\n",
    "y_flat = y_flat[~np.isnan(y_flat)]"
   ]
  },
  {
   "cell_type": "code",
   "execution_count": 139,
   "id": "d37e16a8",
   "metadata": {},
   "outputs": [
    {
     "data": {
      "text/plain": [
       "(65717, 349)"
      ]
     },
     "execution_count": 139,
     "metadata": {},
     "output_type": "execute_result"
    }
   ],
   "source": [
    "aabw_salt.shape"
   ]
  },
  {
   "cell_type": "code",
   "execution_count": 140,
   "id": "cdababe8",
   "metadata": {},
   "outputs": [
    {
     "data": {
      "text/plain": [
       "array([34.501606, 34.50235 , 34.50169 , ..., 34.64647 , 34.64194 ,\n",
       "       34.645283], dtype=float32)"
      ]
     },
     "execution_count": 140,
     "metadata": {},
     "output_type": "execute_result"
    }
   ],
   "source": [
    "x_flat"
   ]
  },
  {
   "cell_type": "code",
   "execution_count": 141,
   "id": "53c6c9ec",
   "metadata": {},
   "outputs": [
    {
     "data": {
      "text/plain": [
       "(16117444, 2)"
      ]
     },
     "execution_count": 141,
     "metadata": {},
     "output_type": "execute_result"
    }
   ],
   "source": [
    "\"\"\"\n",
    "    Fit the Data \n",
    "\"\"\"\n",
    "X = [i for i in zip(x_flat,y_flat)]\n",
    "X = StandardScaler().fit_transform(X)\n",
    "X.shape"
   ]
  },
  {
   "cell_type": "code",
   "execution_count": 38,
   "id": "0a454574",
   "metadata": {},
   "outputs": [],
   "source": [
    "X = X[:1000]"
   ]
  },
  {
   "cell_type": "code",
   "execution_count": 39,
   "id": "eead9f62",
   "metadata": {},
   "outputs": [],
   "source": [
    "x = x_flat[:1000]\n",
    "y = y_flat[:1000]"
   ]
  },
  {
   "cell_type": "code",
   "execution_count": 40,
   "id": "6e0d0cd3",
   "metadata": {},
   "outputs": [
    {
     "data": {
      "text/plain": [
       "5"
      ]
     },
     "execution_count": 40,
     "metadata": {},
     "output_type": "execute_result"
    }
   ],
   "source": [
    "\"\"\"\n",
    "    Compute the DBSCAN\n",
    "\"\"\"\n",
    "db = DBSCAN(eps=0.01, min_samples=1).fit(X)\n",
    "labels = db.labels_\n",
    "\n",
    "# Number of clusters in labels, ignoring noise if present.\n",
    "#n_clusters_ = len(set(labels)) - (1 if -1 in labels else 0)\n",
    "n_clusters_ = 5\n",
    "n_clusters_"
   ]
  },
  {
   "cell_type": "code",
   "execution_count": 41,
   "id": "61625a22",
   "metadata": {},
   "outputs": [
    {
     "name": "stdout",
     "output_type": "stream",
     "text": [
      "{0, 1, 2, 3, 4, 5, 6, 7, 8, 9, 10, 11, 12, 13, 14, 15, 16, 17, 18, 19, 20, 21, 22, 23, 24, 25, 26, 27, 28, 29, 30}\n"
     ]
    }
   ],
   "source": [
    "print(set(labels))"
   ]
  },
  {
   "cell_type": "code",
   "execution_count": 42,
   "id": "54b5472e",
   "metadata": {},
   "outputs": [
    {
     "ename": "KeyError",
     "evalue": "4",
     "output_type": "error",
     "traceback": [
      "\u001b[0;31m---------------------------------------------------------------------------\u001b[0m",
      "\u001b[0;31mKeyError\u001b[0m                                  Traceback (most recent call last)",
      "Input \u001b[0;32mIn [42]\u001b[0m, in \u001b[0;36m<cell line: 6>\u001b[0;34m()\u001b[0m\n\u001b[1;32m      4\u001b[0m d\u001b[38;5;241m=\u001b[39m \u001b[38;5;28mdict\u001b[39m(\u001b[38;5;28mzip\u001b[39m(\u001b[38;5;28mset\u001b[39m(labels),[\u001b[38;5;124m'\u001b[39m\u001b[38;5;124mred\u001b[39m\u001b[38;5;124m'\u001b[39m,\u001b[38;5;124m'\u001b[39m\u001b[38;5;124mgreen\u001b[39m\u001b[38;5;124m'\u001b[39m,\u001b[38;5;124m'\u001b[39m\u001b[38;5;124mblue\u001b[39m\u001b[38;5;124m'\u001b[39m,\u001b[38;5;124m'\u001b[39m\u001b[38;5;124myellow\u001b[39m\u001b[38;5;124m'\u001b[39m]))\n\u001b[1;32m      5\u001b[0m d[\u001b[38;5;241m-\u001b[39m\u001b[38;5;241m1\u001b[39m] \u001b[38;5;241m=\u001b[39m \u001b[38;5;124m\"\u001b[39m\u001b[38;5;124mblack\u001b[39m\u001b[38;5;124m\"\u001b[39m\n\u001b[0;32m----> 6\u001b[0m plt\u001b[38;5;241m.\u001b[39mscatter(x,y,color\u001b[38;5;241m=\u001b[39m[ d[i] \u001b[38;5;28;01mfor\u001b[39;00m i \u001b[38;5;129;01min\u001b[39;00m labels])\n\u001b[1;32m      7\u001b[0m plt\u001b[38;5;241m.\u001b[39mshow()\n",
      "Input \u001b[0;32mIn [42]\u001b[0m, in \u001b[0;36m<listcomp>\u001b[0;34m(.0)\u001b[0m\n\u001b[1;32m      4\u001b[0m d\u001b[38;5;241m=\u001b[39m \u001b[38;5;28mdict\u001b[39m(\u001b[38;5;28mzip\u001b[39m(\u001b[38;5;28mset\u001b[39m(labels),[\u001b[38;5;124m'\u001b[39m\u001b[38;5;124mred\u001b[39m\u001b[38;5;124m'\u001b[39m,\u001b[38;5;124m'\u001b[39m\u001b[38;5;124mgreen\u001b[39m\u001b[38;5;124m'\u001b[39m,\u001b[38;5;124m'\u001b[39m\u001b[38;5;124mblue\u001b[39m\u001b[38;5;124m'\u001b[39m,\u001b[38;5;124m'\u001b[39m\u001b[38;5;124myellow\u001b[39m\u001b[38;5;124m'\u001b[39m]))\n\u001b[1;32m      5\u001b[0m d[\u001b[38;5;241m-\u001b[39m\u001b[38;5;241m1\u001b[39m] \u001b[38;5;241m=\u001b[39m \u001b[38;5;124m\"\u001b[39m\u001b[38;5;124mblack\u001b[39m\u001b[38;5;124m\"\u001b[39m\n\u001b[0;32m----> 6\u001b[0m plt\u001b[38;5;241m.\u001b[39mscatter(x,y,color\u001b[38;5;241m=\u001b[39m[ \u001b[43md\u001b[49m\u001b[43m[\u001b[49m\u001b[43mi\u001b[49m\u001b[43m]\u001b[49m \u001b[38;5;28;01mfor\u001b[39;00m i \u001b[38;5;129;01min\u001b[39;00m labels])\n\u001b[1;32m      7\u001b[0m plt\u001b[38;5;241m.\u001b[39mshow()\n",
      "\u001b[0;31mKeyError\u001b[0m: 4"
     ]
    }
   ],
   "source": [
    "\"\"\"\n",
    "    Plot the clusters\n",
    "\"\"\"\n",
    "d= dict(zip(set(labels),['red','green','blue','yellow']))\n",
    "d[-1] = \"black\"\n",
    "plt.scatter(x,y,color=[ d[i] for i in labels])\n",
    "plt.show()"
   ]
  },
  {
   "cell_type": "code",
   "execution_count": 142,
   "id": "3a325dae",
   "metadata": {},
   "outputs": [],
   "source": [
    "# try creating a number based on the variation and sum of the values in each row of aabw_salt and aabw_temp\n",
    "# 3: points that go below the freezing line\n",
    "# 1: points that go straight up (salinity does not become fresh)\n",
    "# 2: points that become fresh then go back to AABW\n",
    "# 0: points that do not fit in these categories\n",
    "\n",
    "# first create an array of zeros to store the color values of the points\n",
    "colors = np.zeros(aabw_salt.shape[1])\n",
    "avg_freez = sum(Freez_temp)/len(Freez_temp)\n",
    "\n",
    "# look at the variances to see what is normal\n",
    "var = np.array([])\n",
    "\n",
    "for i in range(aabw_salt.shape[1]):\n",
    "    pt_salt = aabw_salt[:,i]\n",
    "    pt_temp = aabw_temp[:,i]\n",
    "    pt_salt = pt_salt[~np.isnan(pt_salt)]\n",
    "    pt_temp = pt_temp[~np.isnan(pt_temp)]\n",
    "    var = np.append(var,(np.var(pt_salt)))\n",
    "    \n",
    "    # does it go below the ice shelf\n",
    "    if (min(pt_temp))<=avg_freez-0.2:\n",
    "        colors[i] = 3\n",
    "    # does the salinity not change\n",
    "    elif (np.var(pt_salt)<0.003):\n",
    "        colors[i] = 1\n",
    "    # does it become AASW then go back to AABW\n",
    "    elif (min(pt_salt))<34.4:\n",
    "        colors[i] = 2"
   ]
  },
  {
   "cell_type": "code",
   "execution_count": 45,
   "id": "dbae0a79",
   "metadata": {},
   "outputs": [],
   "source": [
    "d= dict(zip(set(colors),['red','green','blue','yellow']))"
   ]
  },
  {
   "cell_type": "code",
   "execution_count": 46,
   "id": "59ef7bc8",
   "metadata": {},
   "outputs": [
    {
     "data": {
      "text/plain": [
       "(65717, 349)"
      ]
     },
     "execution_count": 46,
     "metadata": {},
     "output_type": "execute_result"
    }
   ],
   "source": [
    "# reshape the color array\n",
    "colors1 = np.tile(colors, (aabw_salt.shape[0], 1))\n",
    "colors1.shape"
   ]
  },
  {
   "cell_type": "code",
   "execution_count": 47,
   "id": "10b2b8f4",
   "metadata": {},
   "outputs": [],
   "source": [
    "# plot floats ending as AASW colored by time\n",
    "figure = plt.figure(figsize=[25, 25])\n",
    "ax = plt.subplot(1,1,1)\n",
    "plt.title('AABW')\n",
    "plt.rcParams['axes.labelsize']='x-large'\n",
    "plt.scatter(aabw_salt,aabw_temp,s=0.1,marker='o',c=colors1)\n",
    "plt.scatter(firstsalts,firsttemps,marker='X',color='g',label=\"Starting points\")\n",
    "plt.scatter(lastsalts,lasttemps,marker='X',color='r',label=\"Endpoints\")\n",
    "#cbar = plt.colorbar(ticks=[0, 2820, 5640, 8460, 11280, 14100, 16920, 19740, 22560])\n",
    "#cbar = plt.colorbar()\n",
    "#cbar.ax.set_yticklabels(['0','30','60','90','120','150','180','210','240'])\n",
    "#cbar.set_label('Depth', rotation=270,labelpad=15)\n",
    "plt.plot(si,Freez_temp,'-',color='dimgray',label='Seawater Freezing',alpha=0.5,zorder=1)\n",
    "#plt.plot(si,Tgade,'-',color='steelblue',label='Gade Line',alpha=0.5,zorder=2)\n",
    "plt.ylim([-2.4,0.3])\n",
    "plt.xlim([33.8,35.1])\n",
    "plt.xlabel(\"Salinity\",fontsize=15)\n",
    "plt.ylabel(\"Temperature\",fontsize=15)\n",
    "plt.legend(loc=\"best\",fontsize=30)\n",
    "cs = ax.contour(si, ti, dens, colors=\"silver\", zorder=1,alpha=0.5)\n",
    "#ax.contour(si,ti,Freez_temp, colors=\"grey\", zorder=1,alpha=0.5)\n",
    "cl=plt.clabel(cs,fontsize=10,inline=False,fmt=\"%.1f\")\n",
    "\n",
    "plt.savefig(\"colored_pts.png\", dpi=300)\n",
    "plt.close()"
   ]
  },
  {
   "cell_type": "markdown",
   "id": "2a36b64d",
   "metadata": {},
   "source": [
    "### Find the mean of the labelled lines and plot them"
   ]
  },
  {
   "cell_type": "code",
   "execution_count": 48,
   "id": "b88641a7",
   "metadata": {},
   "outputs": [],
   "source": [
    "# get indices in colors of interest\n",
    "idx_0 = np.array([],dtype= np.int32)\n",
    "idx_1 = np.array([],dtype= np.int32)\n",
    "idx_2 = np.array([],dtype= np.int32)\n",
    "idx_3 = np.array([],dtype= np.int32)\n",
    "\n",
    "for i in range(len(colors)):\n",
    "    if int(colors[i]) == 0:\n",
    "        idx_0 = np.append(idx_0,i)\n",
    "    elif int(colors[i]) == 1:\n",
    "        idx_1 = np.append(idx_1,i)\n",
    "    elif int(colors[i]) == 2:\n",
    "        idx_2 = np.append(idx_2,i)\n",
    "    elif int(colors[i]) == 3:\n",
    "        idx_3 = np.append(idx_3,i)"
   ]
  },
  {
   "cell_type": "code",
   "execution_count": 49,
   "id": "489355a2",
   "metadata": {},
   "outputs": [],
   "source": [
    "salt_0 = aabw_salt[:,idx_0]\n",
    "salt_1 = aabw_salt[:,idx_1]\n",
    "salt_2 = aabw_salt[:,idx_2]\n",
    "salt_3 = aabw_salt[:,idx_3]\n",
    "\n",
    "temp_0 = aabw_temp[:,idx_0]\n",
    "temp_1 = aabw_temp[:,idx_1]\n",
    "temp_2 = aabw_temp[:,idx_2]\n",
    "temp_3 = aabw_temp[:,idx_3]"
   ]
  },
  {
   "cell_type": "code",
   "execution_count": 50,
   "id": "3e7af8e7",
   "metadata": {},
   "outputs": [],
   "source": [
    "# get the averages for each row\n",
    "as_0 = np.mean(salt_0,axis=1)\n",
    "as_1 = np.mean(salt_1,axis=1)\n",
    "as_2 = np.mean(salt_2,axis=1)\n",
    "as_3 = np.mean(salt_3,axis=1)\n",
    "\n",
    "at_0 = np.mean(temp_0,axis=1)\n",
    "at_1 = np.mean(temp_1,axis=1)\n",
    "at_2 = np.mean(temp_2,axis=1)\n",
    "at_3 = np.mean(temp_3,axis=1)"
   ]
  },
  {
   "cell_type": "code",
   "execution_count": null,
   "id": "269d1381",
   "metadata": {},
   "outputs": [],
   "source": [
    "# plot the average lines in a density plot"
   ]
  },
  {
   "cell_type": "code",
   "execution_count": 53,
   "id": "2955ebad",
   "metadata": {},
   "outputs": [],
   "source": [
    "# plot floats ending as AASW colored by time\n",
    "figure = plt.figure(figsize=[25, 25])\n",
    "ax = plt.subplot(1,1,1)\n",
    "plt.title('AABW')\n",
    "plt.rcParams['axes.labelsize']='x-large'\n",
    "plt.scatter(as_0,at_0,s=0.1,marker='o',c=\"red\")\n",
    "plt.scatter(as_1,at_1,s=0.1,marker='o',c=\"blue\")\n",
    "plt.scatter(as_2,at_2,s=0.1,marker='o',c=\"green\")\n",
    "plt.scatter(as_3,at_3,s=0.1,marker='o',c=\"yellow\")\n",
    "plt.plot(si,Freez_temp,'-',color='dimgray',label='Seawater Freezing',alpha=0.5,zorder=1)\n",
    "#plt.plot(si,Tgade,'-',color='steelblue',label='Gade Line',alpha=0.5,zorder=2)\n",
    "plt.ylim([-2.4,0.3])\n",
    "plt.xlim([33.8,35.1])\n",
    "plt.xlabel(\"Salinity\",fontsize=15)\n",
    "plt.ylabel(\"Temperature\",fontsize=15)\n",
    "plt.legend(loc=\"best\",fontsize=30)\n",
    "cs = ax.contour(si, ti, dens, colors=\"silver\", zorder=1,alpha=0.5)\n",
    "#ax.contour(si,ti,Freez_temp, colors=\"grey\", zorder=1,alpha=0.5)\n",
    "cl=plt.clabel(cs,fontsize=10,inline=False,fmt=\"%.1f\")\n",
    "\n",
    "plt.savefig(\"average_pts.png\", dpi=300)\n",
    "plt.close()"
   ]
  },
  {
   "cell_type": "markdown",
   "id": "80a59d1b",
   "metadata": {},
   "source": [
    "### Group trajectories with DBSCAN"
   ]
  },
  {
   "cell_type": "code",
   "execution_count": 108,
   "id": "2a7f10e1",
   "metadata": {},
   "outputs": [],
   "source": [
    "# get an array of the variability and average salinity\n",
    "# try creating a number based on the variation and sum of the values in each row of aabw_salt and aabw_temp\n",
    "# 3: points that go below the freezing line\n",
    "# 1: points that go straight up (salinity does not become fresh)\n",
    "# 2: points that become fresh then go back to AABW\n",
    "# 0: points that do not fit in these categories\n",
    "\n",
    "# first create an array of zeros to store the color values of the points\n",
    "varbs = np.zeros(aabw_salt.shape[1])\n",
    "avg_sal = np.zeros(aabw_salt.shape[1])\n",
    "\n",
    "for i in range(aabw_salt.shape[1]):\n",
    "    pt_salt = aabw_salt[:,i]\n",
    "    pt_temp = aabw_temp[:,i]\n",
    "    pt_salt = pt_salt[~np.isnan(pt_salt)]\n",
    "    pt_temp = pt_temp[~np.isnan(pt_temp)]\n",
    "    \n",
    "    # create an array of variability in salt\n",
    "    #thisvar = np.var(pt_temp)\n",
    "    #varbs[i]=(np.var(pt_salt) + thisvar)\n",
    "    varbs[i]=(np.var(pt_salt))\n",
    "    # create an array of averages in salt\n",
    "    avg_sal[i] = (sum(pt_salt)/len(pt_salt))"
   ]
  },
  {
   "cell_type": "code",
   "execution_count": 109,
   "id": "d8d94422",
   "metadata": {},
   "outputs": [
    {
     "data": {
      "text/plain": [
       "(349, 2)"
      ]
     },
     "execution_count": 109,
     "metadata": {},
     "output_type": "execute_result"
    }
   ],
   "source": [
    "X = [i for i in zip(varbs,avg_sal)]\n",
    "X = StandardScaler().fit_transform(X)\n",
    "X.shape"
   ]
  },
  {
   "cell_type": "code",
   "execution_count": 110,
   "id": "ee1a22d6",
   "metadata": {},
   "outputs": [
    {
     "name": "stdout",
     "output_type": "stream",
     "text": [
      "[  1  35 145   2  17   6   1   1   6   5   1   1   1   2   1   2   2   1\n",
      "   1   2   1   3   3   3   1   2   1  16   1   1   1   1   1   1   1   2\n",
      "   1   1   1   1   1   1   1   1   2   1   1   1   1   1   1   2   1   1\n",
      "   2   2   1   1   1   2   1   1   1   1   1   1   1   1   1   3   1   1\n",
      "   1   1   1   1   1   1   1   1   1   1   1   1   1   1   1   1   1   1\n",
      "   1   1   1   1   1   1   1   1   1   1   1   1   1   1   1   1]\n"
     ]
    }
   ],
   "source": [
    "\"\"\"\n",
    "    Compute the DBSCAN\n",
    "\"\"\"\n",
    "db = DBSCAN(eps=0.08, min_samples=1).fit(X)\n",
    "labels = db.labels_\n",
    "print(np.bincount(labels))\n",
    "\n",
    "# Number of clusters in labels, ignoring noise if present.\n",
    "n_clusters_ = len(set(labels)) - (1 if -1 in labels else 0)\n",
    "n_noise_ = list(labels).count(-1)\n",
    "\n",
    "# renumber labels as clusters 1-5\n",
    "for i in range(len(labels)):\n",
    "    if labels[i]<=20:\n",
    "        labels[i] = 1\n",
    "    elif labels[i]<=40:\n",
    "        labels[i] = 2\n",
    "    elif labels[i]<=60:\n",
    "        labels[i] = 3\n",
    "    elif labels[i]<=80:\n",
    "        labels[i] = 4\n",
    "    else:\n",
    "        labels[i] = 5"
   ]
  },
  {
   "cell_type": "code",
   "execution_count": 111,
   "id": "b586124d",
   "metadata": {},
   "outputs": [
    {
     "data": {
      "text/plain": [
       "array([1, 1, 1, 1, 1, 1, 1, 1, 1, 1, 1, 1, 1, 1, 1, 1, 1, 1, 1, 1, 1, 1,\n",
       "       1, 1, 1, 1, 1, 1, 1, 1, 1, 1, 1, 1, 1, 1, 1, 1, 1, 1, 1, 1, 1, 1,\n",
       "       1, 1, 1, 1, 1, 1, 1, 1, 1, 1, 1, 1, 1, 1, 2, 2, 2, 1, 1, 1, 1, 1,\n",
       "       1, 1, 1, 2, 1, 2, 1, 2, 1, 1, 1, 1, 1, 1, 1, 1, 1, 1, 2, 1, 2, 2,\n",
       "       1, 1, 1, 1, 1, 1, 2, 2, 2, 1, 2, 1, 2, 2, 2, 2, 2, 1, 2, 2, 1, 1,\n",
       "       2, 1, 2, 2, 1, 1, 2, 2, 1, 1, 1, 1, 2, 3, 3, 1, 2, 1, 1, 3, 1, 1,\n",
       "       2, 2, 1, 3, 3, 3, 3, 3, 1, 2, 1, 1, 1, 1, 1, 3, 1, 3, 1, 3, 1, 3,\n",
       "       2, 1, 1, 1, 3, 1, 1, 1, 1, 1, 1, 3, 1, 3, 3, 1, 1, 3, 1, 3, 3, 1,\n",
       "       1, 1, 1, 2, 1, 3, 2, 1, 1, 1, 1, 3, 1, 4, 4, 1, 1, 4, 4, 2, 4, 1,\n",
       "       1, 1, 4, 1, 4, 2, 4, 1, 1, 1, 1, 1, 1, 2, 1, 1, 4, 1, 1, 1, 4, 4,\n",
       "       1, 1, 4, 1, 1, 4, 4, 4, 2, 4, 1, 1, 4, 1, 4, 1, 4, 4, 1, 3, 5, 1,\n",
       "       1, 1, 1, 1, 1, 1, 1, 5, 1, 5, 5, 5, 5, 5, 1, 3, 2, 1, 3, 1, 5, 5,\n",
       "       1, 1, 1, 1, 1, 5, 1, 1, 1, 1, 1, 5, 1, 5, 5, 1, 1, 1, 4, 1, 1, 1,\n",
       "       1, 1, 5, 1, 1, 1, 2, 1, 1, 1, 1, 5, 1, 1, 1, 1, 2, 1, 1, 1, 1, 1,\n",
       "       1, 1, 1, 1, 1, 3, 1, 1, 1, 1, 1, 5, 5, 4, 1, 5, 5, 1, 1, 1, 5, 1,\n",
       "       1, 5, 1, 2, 5, 1, 2, 1, 5, 5, 1, 2, 1, 1, 1, 1, 5, 1, 1])"
      ]
     },
     "execution_count": 111,
     "metadata": {},
     "output_type": "execute_result"
    }
   ],
   "source": [
    "labels"
   ]
  },
  {
   "cell_type": "code",
   "execution_count": 112,
   "id": "d70998fb",
   "metadata": {},
   "outputs": [
    {
     "data": {
      "text/plain": [
       "(65717, 349)"
      ]
     },
     "execution_count": 112,
     "metadata": {},
     "output_type": "execute_result"
    }
   ],
   "source": [
    "# set the labels as the colors in the plot\n",
    "colors1 = np.tile(labels, (aabw_salt.shape[0], 1))\n",
    "colors1.shape"
   ]
  },
  {
   "cell_type": "code",
   "execution_count": 113,
   "id": "d7602581",
   "metadata": {},
   "outputs": [],
   "source": [
    "# plot floats ending as AASW colored by time\n",
    "figure = plt.figure(figsize=[25, 25])\n",
    "ax = plt.subplot(1,1,1)\n",
    "plt.title('AABW')\n",
    "plt.rcParams['axes.labelsize']='x-large'\n",
    "plt.scatter(aabw_salt,aabw_temp,s=0.1,marker='o',c=colors1)\n",
    "plt.scatter(firstsalts,firsttemps,marker='X',color='g',label=\"Starting points\")\n",
    "plt.scatter(lastsalts,lasttemps,marker='X',color='r',label=\"Endpoints\")\n",
    "plt.plot(si,Freez_temp,'-',color='dimgray',label='Seawater Freezing',alpha=0.5,zorder=1)\n",
    "#plt.plot(si,Tgade,'-',color='steelblue',label='Gade Line',alpha=0.5,zorder=2)\n",
    "plt.ylim([-2.4,0.3])\n",
    "plt.xlim([33.8,35.1])\n",
    "plt.xlabel(\"Salinity\",fontsize=15)\n",
    "plt.ylabel(\"Temperature\",fontsize=15)\n",
    "plt.legend(loc=\"best\",fontsize=30)\n",
    "cs = ax.contour(si, ti, dens, colors=\"silver\", zorder=1,alpha=0.5)\n",
    "#ax.contour(si,ti,Freez_temp, colors=\"grey\", zorder=1,alpha=0.5)\n",
    "cl=plt.clabel(cs,fontsize=10,inline=False,fmt=\"%.1f\")\n",
    "\n",
    "plt.savefig(\"dbscan_pts5_2vars.png\", dpi=300)\n",
    "plt.close()"
   ]
  },
  {
   "cell_type": "code",
   "execution_count": 134,
   "id": "dc046acc",
   "metadata": {},
   "outputs": [],
   "source": [
    "# find the average of each color and plot these 5 trajectories\n",
    "# get indices in colors of interest\n",
    "idx_1 = np.array([],dtype= np.int32)\n",
    "idx_2 = np.array([],dtype= np.int32)\n",
    "idx_3 = np.array([],dtype= np.int32)\n",
    "idx_4 = np.array([],dtype= np.int32)\n",
    "idx_5 = np.array([],dtype= np.int32)\n",
    "for i in range(len(labels)):\n",
    "    if int(colors[i]) == 1:\n",
    "        idx_1 = np.append(idx_1,i)\n",
    "    elif int(colors[i]) == 2:\n",
    "        idx_2 = np.append(idx_2,i)\n",
    "    elif int(colors[i]) == 3:\n",
    "        idx_3 = np.append(idx_3,i)\n",
    "    elif int(colors[i]) == 4:\n",
    "        idx_4 = np.append(idx_4,i)\n",
    "    elif int(colors[i]) == 5:\n",
    "        idx_5 = np.append(idx_5,i)\n",
    "\n",
    "# \n",
    "salt_1 = aabw_salt[:,idx_1]\n",
    "salt_2 = aabw_salt[:,idx_2]\n",
    "salt_3 = aabw_salt[:,idx_3]\n",
    "salt_4 = aabw_salt[:,idx_4]\n",
    "salt_5 = aabw_salt[:,idx_5]\n",
    "temp_1 = aabw_temp[:,idx_1]\n",
    "temp_2 = aabw_temp[:,idx_2]\n",
    "temp_3 = aabw_temp[:,idx_3]\n",
    "temp_4 = aabw_temp[:,idx_4]\n",
    "temp_5 = aabw_temp[:,idx_5]\n",
    "\n",
    "# get the averages for each row\n",
    "as_1 = np.nanmean(salt_1,axis=1)\n",
    "as_2 = np.nanmean(salt_2,axis=1)\n",
    "as_3 = np.nanmean(salt_3,axis=1)\n",
    "as_4 = np.nanmean(salt_4,axis=1)\n",
    "as_5 = np.nanmean(salt_5,axis=1)\n",
    "at_1 = np.nanmean(temp_1,axis=1)\n",
    "at_2 = np.nanmean(temp_2,axis=1)\n",
    "at_3 = np.nanmean(temp_3,axis=1)\n",
    "at_4 = np.nanmean(temp_4,axis=1)\n",
    "at_5 = np.nanmean(temp_5,axis=1)"
   ]
  },
  {
   "cell_type": "code",
   "execution_count": 136,
   "id": "be7b0e6a",
   "metadata": {},
   "outputs": [
    {
     "data": {
      "text/plain": [
       "2.0"
      ]
     },
     "execution_count": 136,
     "metadata": {},
     "output_type": "execute_result"
    }
   ],
   "source": [
    "myarr = np.array([np.nan,1,3])\n",
    "np.nanmean(myarr)"
   ]
  },
  {
   "cell_type": "code",
   "execution_count": 146,
   "id": "caee5f54",
   "metadata": {},
   "outputs": [],
   "source": [
    "# plot floats ending as AASW colored by time\n",
    "figure = plt.figure(figsize=[25, 25])\n",
    "ax = plt.subplot(1,1,1)\n",
    "plt.title('AABW')\n",
    "plt.rcParams['axes.labelsize']='x-large'\n",
    "plt.scatter(as_1,at_1,s=0.1,marker='o')\n",
    "plt.scatter(as_2,at_2,s=0.1,marker='o')\n",
    "plt.scatter(as_3,at_3,s=0.1,marker='o')\n",
    "plt.scatter(as_4,at_4,s=0.1,marker='o')\n",
    "plt.scatter(as_5,at_5,s=0.1,marker='o')\n",
    "plt.plot(si,Freez_temp,'-',color='dimgray',label='Seawater Freezing',alpha=0.5,zorder=1)\n",
    "#plt.plot(si,Tgade,'-',color='steelblue',label='Gade Line',alpha=0.5,zorder=2)\n",
    "plt.ylim([-2.4,0.3])\n",
    "plt.xlim([33.8,35.1])\n",
    "plt.xlabel(\"Salinity\",fontsize=15)\n",
    "plt.ylabel(\"Temperature\",fontsize=15)\n",
    "plt.legend(loc=\"best\",fontsize=30)\n",
    "cs = ax.contour(si, ti, dens, colors=\"silver\", zorder=1,alpha=0.5)\n",
    "#ax.contour(si,ti,Freez_temp, colors=\"grey\", zorder=1,alpha=0.5)\n",
    "cl=plt.clabel(cs,fontsize=10,inline=False,fmt=\"%.1f\")\n",
    "\n",
    "plt.savefig(\"averagepts_db.png\", dpi=300)\n",
    "plt.close()"
   ]
  },
  {
   "cell_type": "markdown",
   "id": "e4067eb9",
   "metadata": {},
   "source": [
    "### Write the indexes to a text file"
   ]
  },
  {
   "cell_type": "code",
   "execution_count": 40,
   "id": "b884b001",
   "metadata": {},
   "outputs": [],
   "source": [
    "#aasw_idx, mcdw_idx, dsw_idx, isw_idx\n",
    "f = open(\"aabw_idxs.txt\", \"w\")\n",
    "\n",
    "content = str(aabw_idx)\n",
    "f.write(content)\n",
    "\n",
    "f.close()"
   ]
  },
  {
   "cell_type": "markdown",
   "id": "d62aeeeb",
   "metadata": {},
   "source": [
    "### Residence time at different depths"
   ]
  },
  {
   "cell_type": "code",
   "execution_count": 24,
   "id": "0b16246b",
   "metadata": {},
   "outputs": [],
   "source": [
    "import math"
   ]
  },
  {
   "cell_type": "code",
   "execution_count": 33,
   "id": "5fdaafe8",
   "metadata": {},
   "outputs": [],
   "source": [
    "aabw_cmap*=-1"
   ]
  },
  {
   "cell_type": "code",
   "execution_count": 34,
   "id": "1ea308c2",
   "metadata": {},
   "outputs": [],
   "source": [
    "# we will chunk the depths into\n",
    "a = (aabw_cmap.flatten())\n",
    "maxa = (max((a[~np.isnan(a)])))\n",
    "mina = (min((a[~np.isnan(a)])))\n",
    "\n",
    "# divide depths into containers of 500\n",
    "mylist = np.r_[math.floor(mina):math.ceil(maxa):500]"
   ]
  },
  {
   "cell_type": "code",
   "execution_count": 35,
   "id": "324d7d76",
   "metadata": {},
   "outputs": [
    {
     "data": {
      "text/plain": [
       "array([   0,  500, 1000, 1500, 2000, 2500, 3000, 3500, 4000, 4500])"
      ]
     },
     "execution_count": 35,
     "metadata": {},
     "output_type": "execute_result"
    }
   ],
   "source": [
    "mylist"
   ]
  },
  {
   "cell_type": "code",
   "execution_count": 36,
   "id": "78380ab0",
   "metadata": {},
   "outputs": [
    {
     "data": {
      "text/plain": [
       "array([[10, 10, 10, ..., 10, 10, 10],\n",
       "       [10, 10, 10, ..., 10, 10, 10],\n",
       "       [10, 10, 10, ..., 10, 10, 10],\n",
       "       ...,\n",
       "       [ 6,  5,  9, ...,  6,  9,  7],\n",
       "       [ 6,  5,  9, ...,  6,  9,  7],\n",
       "       [ 6,  5,  9, ...,  6,  9,  7]])"
      ]
     },
     "execution_count": 36,
     "metadata": {},
     "output_type": "execute_result"
    }
   ],
   "source": [
    "# digitize the numbers in a into the map\n",
    "depth_bins = np.digitize(aabw_cmap,mylist)\n",
    "depth_bins"
   ]
  },
  {
   "cell_type": "code",
   "execution_count": 95,
   "id": "58339624",
   "metadata": {},
   "outputs": [],
   "source": [
    "# divide the normal grid by 10\n",
    "xbins = np.r_[0:5000:1]\n",
    "xbins = np.arange(0,5000,500)\n",
    "\n",
    "# index of bins the particles ending in\n",
    "x_new = np.digitize(aabw_cmap,xbins)"
   ]
  },
  {
   "cell_type": "code",
   "execution_count": 97,
   "id": "ac157bc7",
   "metadata": {},
   "outputs": [
    {
     "data": {
      "text/plain": [
       "array([[10, 10, 10, ..., 10, 10, 10],\n",
       "       [10, 10, 10, ..., 10, 10, 10],\n",
       "       [10, 10, 10, ..., 10, 10, 10],\n",
       "       ...,\n",
       "       [ 6,  5,  9, ...,  6,  9,  7],\n",
       "       [ 6,  5,  9, ...,  6,  9,  7],\n",
       "       [ 6,  5,  9, ...,  6,  9,  7]])"
      ]
     },
     "execution_count": 97,
     "metadata": {},
     "output_type": "execute_result"
    }
   ],
   "source": [
    "x_new"
   ]
  },
  {
   "cell_type": "code",
   "execution_count": 37,
   "id": "28fbd61d",
   "metadata": {},
   "outputs": [
    {
     "data": {
      "text/plain": [
       "array([[0., 0., 0., ..., 0., 0., 0.],\n",
       "       [0., 0., 0., ..., 0., 0., 0.],\n",
       "       [0., 0., 0., ..., 0., 0., 0.],\n",
       "       ...,\n",
       "       [0., 0., 0., ..., 0., 0., 0.],\n",
       "       [0., 0., 0., ..., 0., 0., 0.],\n",
       "       [0., 0., 0., ..., 0., 0., 0.]])"
      ]
     },
     "execution_count": 37,
     "metadata": {},
     "output_type": "execute_result"
    }
   ],
   "source": [
    "mesh"
   ]
  },
  {
   "cell_type": "code",
   "execution_count": null,
   "id": "a9bfd7b6",
   "metadata": {},
   "outputs": [],
   "source": []
  }
 ],
 "metadata": {
  "kernelspec": {
   "display_name": "Python 3",
   "language": "python",
   "name": "python3"
  },
  "language_info": {
   "codemirror_mode": {
    "name": "ipython",
    "version": 3
   },
   "file_extension": ".py",
   "mimetype": "text/x-python",
   "name": "python",
   "nbconvert_exporter": "python",
   "pygments_lexer": "ipython3",
   "version": "3.8.8"
  }
 },
 "nbformat": 4,
 "nbformat_minor": 5
}
