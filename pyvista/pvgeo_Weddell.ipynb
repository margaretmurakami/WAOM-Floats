{
 "cells": [
  {
   "cell_type": "code",
   "execution_count": 2,
   "id": "d9967591",
   "metadata": {},
   "outputs": [],
   "source": [
    "import matplotlib.pyplot as plt\n",
    "import matplotlib.path as mpath\n",
    "import matplotlib\n",
    "from matplotlib.axes import Axes\n",
    "%matplotlib inline\n",
    "\n",
    "import numpy as np\n",
    "import pyvista as pv\n",
    "import pandas as pd\n",
    "import xarray as xr\n",
    "import time\n",
    "\n",
    "import vtk\n",
    "from vtk import *\n",
    "\n",
    "import pyvista as pv\n",
    "from pyvista import examples\n",
    "pv.global_theme.jupyter_backend = 'pythreejs'"
   ]
  },
  {
   "cell_type": "code",
   "execution_count": 3,
   "id": "617781f8",
   "metadata": {},
   "outputs": [],
   "source": [
    "ds = xr.open_dataset('/scratch/project_2000789/muramarg/run_5_31/output_WAOM_check/ocean_flt.nc')\n",
    "dt = xr.open_dataset('/scratch/project_2000789/muramarg/run_5_31/output_WAOM_check/ocean_avg_0001.nc')\n",
    "#dd = xr.open_dataset('/scratch/project_2000789/muramarg/run_5_31/output_WAOM_check/ocean_avg_0001.nc')\n",
    "dg = xr.open_dataset('/scratch/project_2000789/boeiradi/waom10_frc/waom10extend_grd.nc')"
   ]
  },
  {
   "cell_type": "markdown",
   "id": "fdd5775d",
   "metadata": {},
   "source": [
    "### Plotting zice"
   ]
  },
  {
   "cell_type": "code",
   "execution_count": null,
   "id": "7a24821f",
   "metadata": {},
   "outputs": [],
   "source": [
    "#plt.figure(figsize=(10, 10))\n",
    "# masking land points\n",
    "mask_rho = dt.variables['mask_rho']\n",
    "zice = dt.variables['zice']\n",
    "\n",
    "proj = ccrs.SouthPolarStereo(central_longitude=0.0, true_scale_latitude=None, globe=None)\n",
    "fig = plt.figure(figsize=(20,10))\n",
    "ax = fig.add_subplot(1, 1, 1, projection=proj)\n",
    "#plt.scatter(zpts[:, 0], zpts[:, 1], c=zpts[:, 2])\n",
    "# another way\n",
    "plt.pcolormesh(dg.lon_rho,dg.lat_rho, zice*mask_rho,transform=ccrs.PlateCarree(), vmin=-500, vmax=0)\n",
    "plt.axis(\"image\")\n",
    "plt.xlabel(\"X Coordinate\")\n",
    "plt.ylabel(\"Y Coordinate\")\n",
    "plt.colorbar()\n",
    "plt.show()"
   ]
  },
  {
   "cell_type": "code",
   "execution_count": null,
   "id": "cb878db6",
   "metadata": {},
   "outputs": [],
   "source": [
    "plt.figure(figsize=(10, 10))\n",
    "plt.scatter(zpts[:, 0], zpts[:, 1], c=zpts[:, 2])\n",
    "plt.axis(\"image\")\n",
    "plt.xlabel(\"X Coordinate\")\n",
    "plt.ylabel(\"Y Coordinate\")\n",
    "plt.colorbar()\n",
    "plt.show()"
   ]
  },
  {
   "cell_type": "code",
   "execution_count": null,
   "id": "815b9d2a",
   "metadata": {},
   "outputs": [],
   "source": [
    "# zice points\n",
    "def get_zice_points(zice):\n",
    "    x = np.array([])\n",
    "    y = np.array([])\n",
    "    z = np.array([])\n",
    "    for i in range(len(zice)):\n",
    "        for j in range(len(zice[i])):\n",
    "            if zice[i][j] != 0:\n",
    "                x = np.append(x,j)\n",
    "                y = np.append(y,i)\n",
    "                z = np.append(z,zice[i][j])\n",
    "                \n",
    "    return x,y,z\n",
    "test = dt.variables['zice'].values\n",
    "xz,yz,zz = get_zice_points(test)"
   ]
  },
  {
   "cell_type": "code",
   "execution_count": null,
   "id": "fe7f34f9",
   "metadata": {},
   "outputs": [],
   "source": [
    "point_cloud = pv.PolyData(zpts)\n",
    "point_cloud"
   ]
  },
  {
   "cell_type": "code",
   "execution_count": null,
   "id": "9f0d8698",
   "metadata": {},
   "outputs": [],
   "source": [
    "# pv.global_theme.jupyter_backend = 'pythreejs'\n",
    "pv.global_theme.jupyter_backend = 'ipyvtklink'\n",
    "point_cloud.plot(eye_dome_lighting=True)"
   ]
  },
  {
   "cell_type": "markdown",
   "id": "1f6a5109",
   "metadata": {},
   "source": [
    "### Plotting using pyvista"
   ]
  },
  {
   "cell_type": "code",
   "execution_count": 4,
   "id": "a3deb8c2",
   "metadata": {},
   "outputs": [],
   "source": [
    "x = (ds.variables['Xgrid'].values)\n",
    "y = (ds.variables['Ygrid'].values)\n",
    "z = (ds.variables['Zgrid'].values)"
   ]
  },
  {
   "cell_type": "code",
   "execution_count": 4,
   "id": "21082ab0",
   "metadata": {},
   "outputs": [
    {
     "name": "stdout",
     "output_type": "stream",
     "text": [
      "(87601, 15438)\n"
     ]
    }
   ],
   "source": [
    "print(x.shape)"
   ]
  },
  {
   "cell_type": "code",
   "execution_count": 5,
   "id": "fe5f00a7",
   "metadata": {},
   "outputs": [],
   "source": [
    "def make_points(i):\n",
    "    \"\"\"Helper to make XYZ points\"\"\"\n",
    "    z1 = list(z[:,i])\n",
    "    x1 = list(x[:,i])\n",
    "    y1 = list(y[:,i])\n",
    "    return np.column_stack((x1, y1, z1))"
   ]
  },
  {
   "cell_type": "code",
   "execution_count": 6,
   "id": "ba73d6be",
   "metadata": {},
   "outputs": [],
   "source": [
    "points = make_points(5)"
   ]
  },
  {
   "cell_type": "code",
   "execution_count": 7,
   "id": "434e7b02",
   "metadata": {},
   "outputs": [
    {
     "data": {
      "text/html": [
       "\n",
       "<table>\n",
       "<tr><th>PolyData</th><th>Information</th></tr>\n",
       "<tr><td>N Cells</td><td>87600</td></tr>\n",
       "<tr><td>N Points</td><td>87601</td></tr>\n",
       "<tr><td>X Bounds</td><td>4.191e+02, 4.304e+02</td></tr>\n",
       "<tr><td>Y Bounds</td><td>9.690e+02, 1.010e+03</td></tr>\n",
       "<tr><td>Z Bounds</td><td>3.075e+01, 3.084e+01</td></tr>\n",
       "<tr><td>N Arrays</td><td>0</td></tr>\n",
       "</table>\n",
       "\n"
      ],
      "text/plain": [
       "PolyData (0x2800c177f48)\n",
       "  N Cells:\t87600\n",
       "  N Points:\t87601\n",
       "  X Bounds:\t4.191e+02, 4.304e+02\n",
       "  Y Bounds:\t9.690e+02, 1.010e+03\n",
       "  Z Bounds:\t3.075e+01, 3.084e+01\n",
       "  N Arrays:\t0"
      ]
     },
     "execution_count": 7,
     "metadata": {},
     "output_type": "execute_result"
    }
   ],
   "source": [
    "def lines_from_points(points):\n",
    "    \"\"\"Given an array of points, make a line set\"\"\"\n",
    "    poly = pv.PolyData()\n",
    "    poly.points = points\n",
    "    cells = np.full((len(points) - 1, 3), 2, dtype=np.int_)\n",
    "    cells[:, 1] = np.arange(0, len(points) - 1, dtype=np.int_)\n",
    "    cells[:, 2] = np.arange(1, len(points), dtype=np.int_)\n",
    "    poly.lines = cells\n",
    "    return poly\n",
    "\n",
    "\n",
    "line = lines_from_points(points)\n",
    "line"
   ]
  },
  {
   "cell_type": "code",
   "execution_count": 1,
   "id": "290c981c",
   "metadata": {},
   "outputs": [
    {
     "ename": "NameError",
     "evalue": "name 'points' is not defined",
     "output_type": "error",
     "traceback": [
      "\u001b[1;31m---------------------------------------------------------------------------\u001b[0m",
      "\u001b[1;31mNameError\u001b[0m                                 Traceback (most recent call last)",
      "\u001b[1;32m~\\AppData\\Local\\Temp\\ipykernel_15264\\2691631783.py\u001b[0m in \u001b[0;36m<module>\u001b[1;34m\u001b[0m\n\u001b[0;32m     43\u001b[0m     \u001b[0mp\u001b[0m\u001b[1;33m.\u001b[0m\u001b[0mshow\u001b[0m\u001b[1;33m(\u001b[0m\u001b[1;33m)\u001b[0m\u001b[1;33m\u001b[0m\u001b[1;33m\u001b[0m\u001b[0m\n\u001b[0;32m     44\u001b[0m     \u001b[0mprint\u001b[0m\u001b[1;33m(\u001b[0m\u001b[1;34m'total time:'\u001b[0m\u001b[1;33m,\u001b[0m\u001b[1;33m(\u001b[0m\u001b[0mtime\u001b[0m\u001b[1;33m.\u001b[0m\u001b[0mtime\u001b[0m\u001b[1;33m(\u001b[0m\u001b[1;33m)\u001b[0m\u001b[1;33m-\u001b[0m\u001b[0mstart_time\u001b[0m\u001b[1;33m)\u001b[0m\u001b[1;33m/\u001b[0m\u001b[1;36m60\u001b[0m\u001b[1;33m,\u001b[0m\u001b[1;34m'min'\u001b[0m\u001b[1;33m)\u001b[0m\u001b[1;33m\u001b[0m\u001b[1;33m\u001b[0m\u001b[0m\n\u001b[1;32m---> 45\u001b[1;33m \u001b[0mcast_all_points\u001b[0m\u001b[1;33m(\u001b[0m\u001b[0mpoints\u001b[0m\u001b[1;33m)\u001b[0m\u001b[1;33m\u001b[0m\u001b[1;33m\u001b[0m\u001b[0m\n\u001b[0m",
      "\u001b[1;31mNameError\u001b[0m: name 'points' is not defined"
     ]
    }
   ],
   "source": [
    "def cast_all_points(points):\n",
    "    start_time = time.time()\n",
    "    network = pv.MultiBlock()\n",
    "    network.add_field_data(np.arange(x.shape[0]/900),\"time\")\n",
    "    #print(network)\n",
    "    for i in range(0,2573):\n",
    "        if (i%25 ==0):\n",
    "            print(i,'/ 2573','in',(time.time()-start_time)/60)\n",
    "        points = make_points(i)\n",
    "        line = lines_from_points(points)\n",
    "        line[\"days since start\"] = np.arange(line.n_points)\n",
    "        tube = line.tube(radius=0.1)\n",
    "        network.append(tube)\n",
    "        #line['time'] = np.arange(x.shape[0])\n",
    "        \n",
    "        #tube.plot(smooth_shading=True)\n",
    "        \n",
    "    # create the scalar bars and plot\n",
    "    p = pv.Plotter()\n",
    "    \n",
    "    sargs = dict(\n",
    "        n_labels=0,\n",
    "        label_font_size = 14\n",
    "    )\n",
    "    annotations = {\n",
    "        2820: '30', 5640: '60', 8460:'90',11280: '120', 14100:'150', 16920:'180',\n",
    "        19740:'210', 22560:'240',\n",
    "        25380:'270',28200:'300',31020:'330',33840:'360',36660:'390',\n",
    "        39480:'420',42300:'450',45120:'480',47940:'510',50760:'540',\n",
    "        53580:'570',56400:'600',59220:'630',62040:'660',64860:'690',\n",
    "        67680:'720',70500:'750',73320:'780',76140:'810',78960:'840',\n",
    "        81780:'870',84600:'900',87420:'930',\n",
    "        \n",
    "        \n",
    "    }\n",
    "    p.add_mesh(network, smooth_shading=True,annotations=annotations, scalar_bar_args=sargs)\n",
    "    \n",
    "    #_ = p.add_scalar_bar('Time', annotations=annotations, scalar_bar_args=sargs)\n",
    "    \n",
    "    #p.add_mesh(mesh, scalars='Elevation', annotations=annotations)\n",
    "    \n",
    "    _ = p.add_axes(line_width=5, labels_off=False)\n",
    "    p.show()\n",
    "    print('total time:',(time.time()-start_time)/60,'min')\n",
    "cast_all_points(points)"
   ]
  },
  {
   "cell_type": "code",
   "execution_count": null,
   "id": "9295d665",
   "metadata": {},
   "outputs": [],
   "source": []
  },
  {
   "cell_type": "code",
   "execution_count": 9,
   "id": "1bb38374",
   "metadata": {},
   "outputs": [],
   "source": [
    "# def make_points(i):\n",
    "#     \"\"\"Helper to make XYZ points\"\"\"\n",
    "#     z1 = list(z[:,i])\n",
    "#     x1 = list(x[:,i])\n",
    "#     y1 = list(y[:,i])\n",
    "#     return np.column_stack((x1, y1, z1))\n",
    "# points = make_points(1)\n",
    "# line = lines_from_points(points)"
   ]
  },
  {
   "cell_type": "code",
   "execution_count": 10,
   "id": "a3c9d798",
   "metadata": {},
   "outputs": [],
   "source": [
    "# line[\"scalars\"] = np.arange(line.n_points)\n",
    "# tube = line.tube(radius=0.1)\n",
    "# tube.plot(smooth_shading=True)"
   ]
  },
  {
   "cell_type": "code",
   "execution_count": 11,
   "id": "bb080598",
   "metadata": {},
   "outputs": [],
   "source": [
    "# p = pv.Plotter()\n",
    "# p.add_mesh(stream.tube(radius=0.0015))\n",
    "# p.view_xy()\n",
    "# p.show(cpos=cpos)"
   ]
  },
  {
   "cell_type": "code",
   "execution_count": null,
   "id": "9b512ecb",
   "metadata": {},
   "outputs": [],
   "source": []
  }
 ],
 "metadata": {
  "kernelspec": {
   "display_name": "Python 3 (ipykernel)",
   "language": "python",
   "name": "python3"
  },
  "language_info": {
   "codemirror_mode": {
    "name": "ipython",
    "version": 3
   },
   "file_extension": ".py",
   "mimetype": "text/x-python",
   "name": "python",
   "nbconvert_exporter": "python",
   "pygments_lexer": "ipython3",
   "version": "3.9.13"
  }
 },
 "nbformat": 4,
 "nbformat_minor": 5
}
