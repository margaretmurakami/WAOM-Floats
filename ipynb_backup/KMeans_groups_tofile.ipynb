{
 "cells": [
  {
   "cell_type": "markdown",
   "id": "4df95f28",
   "metadata": {},
   "source": [
    "## Finalizing thesis diagrams\n",
    "\n",
    "This notebook will finalize diagrams for the thesis to insure that all use the same grouping of elements. This will slice the dataframe by one year and add the diagrams."
   ]
  },
  {
   "cell_type": "code",
   "execution_count": 1,
   "id": "57ffcdda",
   "metadata": {},
   "outputs": [],
   "source": [
    "# Do not modify import block, all necessary imports are included\n",
    "# Our regular libraries\n",
    "import pandas as pd\n",
    "import numpy as np\n",
    "import matplotlib.pyplot as plt\n",
    "import matplotlib.cm as cm\n",
    "import xarray as xr\n",
    "%matplotlib inline\n",
    "\n",
    "# This is for our hierarchical clustering\n",
    "from scipy.cluster.hierarchy import dendrogram, linkage, cophenet\n",
    "from scipy.spatial.distance import pdist\n",
    "from scipy.spatial.distance import squareform\n",
    "from scipy.cluster.hierarchy import fcluster\n",
    "\n",
    "# For our k-means clustering\n",
    "from sklearn.cluster import KMeans\n",
    "from sklearn.metrics import silhouette_samples\n",
    "from sklearn import datasets\n",
    "import random\n",
    "\n",
    "# for plotting\n",
    "import cartopy.crs as ccrs\n",
    "import cartopy.feature as cfeature\n",
    "\n",
    "# this is for density plotting\n",
    "from matplotlib import colorbar, colors\n",
    "import matplotlib as mpl\n",
    "from matplotlib.colors import ListedColormap, LinearSegmentedColormap\n",
    "# import gsw\n",
    "import math\n",
    "\n",
    "# for the polygon intersections\n",
    "import shapely.geometry as sg\n",
    "import descartes\n",
    "\n",
    "# for plotting\n",
    "import time\n",
    "import warnings\n",
    "warnings.filterwarnings('ignore')\n",
    "\n",
    "#import \"/scratch/project_2000789/muramarg/miniconda3/lib/python3.10/site-packages/gsw\"\n",
    "import sys\n",
    " \n",
    "# appending a path\n",
    "sys.path.append('/scratch/project_2000789/muramarg/miniconda3/lib/python3.10/site-packages/')\n",
    " \n",
    "# importing required module\n",
    "import gsw\n",
    "\n",
    "from scipy.interpolate import interpn\n"
   ]
  },
  {
   "cell_type": "markdown",
   "id": "e55de36f",
   "metadata": {},
   "source": [
    "### Slice the points by one year, load the release points, load the dataframe for KMeans"
   ]
  },
  {
   "cell_type": "code",
   "execution_count": 2,
   "id": "e7ee34ee",
   "metadata": {},
   "outputs": [],
   "source": [
    "# load the libraries\n",
    "ds = xr.open_dataset('/scratch/project_2000789/muramarg/waom_total/output_WAOM_check/ocean_flt.nc')"
   ]
  },
  {
   "cell_type": "code",
   "execution_count": 3,
   "id": "7b0e58ba",
   "metadata": {},
   "outputs": [],
   "source": [
    "# startingidx = np.array([],dtype=int)\n",
    "\n",
    "# # slice the floats by one year\n",
    "# idx_arr = np.empty((2,20332),dtype=int)\n",
    "# x = ds.variables[\"Xgrid\"].values\n",
    "# for i in range(idx_arr.shape[1]):\n",
    "#     # get the indices in that row in the xgrid\n",
    "#     thisrow = x[:,i]\n",
    "#     nonna = thisrow[~np.isnan(thisrow)]\n",
    "#     startidx = len(thisrow)-len(nonna)\n",
    "#     endidx = int(startidx + ((86400/900)*365))\n",
    "#     idx_arr[0][i] = startidx\n",
    "#     idx_arr[1][i] = endidx\n",
    "    \n",
    "    \n",
    "#     # see if the start idx\n",
    "#     startingidx = np.append(startingidx,startidx)"
   ]
  },
  {
   "cell_type": "code",
   "execution_count": 4,
   "id": "45fb66f6",
   "metadata": {},
   "outputs": [],
   "source": [
    "# # slice the floats by one year\n",
    "# idx_arr = np.empty((2,20332),dtype=int)\n",
    "# x = ds.variables[\"Xgrid\"].values\n",
    "# for i in range(idx_arr.shape[1]):\n",
    "#     # get the indices in that row in the xgrid\n",
    "#     thisrow = x[:,i]\n",
    "#     nonna = thisrow[~np.isnan(thisrow)]\n",
    "#     startidx = len(thisrow)-len(nonna)\n",
    "#     endidx = int(startidx + ((86400/900)*365))\n",
    "#     idx_arr[0][i] = startidx\n",
    "#     idx_arr[1][i] = endidx\n",
    "# all_xgrid = ds.variables['Xgrid'].values\n",
    "# all_ygrid = ds.variables['Ygrid'].values\n",
    "# xgrid = np.empty((35040,20332))\n",
    "# ygrid = np.empty((35040,20332))\n",
    "\n",
    "# for i in range(idx_arr.shape[1]):\n",
    "#     idxs = idx_arr[:,i]\n",
    "#     thisx = all_xgrid[:,i][idxs[0]:idxs[1]]\n",
    "#     thisy = all_ygrid[:,i][idxs[0]:idxs[1]]\n",
    "    \n",
    "#     # add these values to our new xgrid and ygrid for one year\n",
    "#     xgrid[:,i] = thisx\n",
    "#     ygrid[:,i] = thisy"
   ]
  },
  {
   "cell_type": "code",
   "execution_count": 5,
   "id": "68c28b37",
   "metadata": {},
   "outputs": [],
   "source": [
    "# # get the recorded times in the history file\n",
    "# ds2 = xr.open_dataset('/scratch/project_2000789/muramarg/waom_total/output_WAOM_check/ocean_his_0001.nc')\n",
    "# his_times = ds2.variables[\"ocean_time\"].values[:12]\n",
    "# # make the array whether it is in a polynya\n",
    "# releasept = np.stack((xgrid[0],ygrid[0])).T                     # points where floats are released\n",
    "# release_time = ds.coords[\"ocean_time\"].values[startingidx]      # corresponding dates of release\n",
    "# # find nearest time value in his_times of release_time\n",
    "# for i in range(len(release_time)):\n",
    "#     value = release_time[i]\n",
    "#     nearest = np.searchsorted(his_times, value, side=\"right\")\n",
    "#     release_time[i] = his_times[nearest]\n",
    "# # get the index in exists for the month in which the point is released\n",
    "# monthi = np.array([int(str(np.datetime64(i,'M'))[-2:])-1 for i in release_time])\n",
    "\n",
    "# exists = np.fromfile(\"/scratch/project_2000789/muramarg/floats_WAOM/polynya_seasons.txt\",sep=\",\").reshape(12,391)   # yes or no does polynya exist\n",
    "# pts = np.fromfile(\"/scratch/project_2000789/muramarg/floats_WAOM/points.txt\",sep=\",\").reshape(391,2)               # points where released\n",
    "\n",
    "# # write if the point is released in a polynya\n",
    "# ispolynya = np.array([])"
   ]
  },
  {
   "cell_type": "code",
   "execution_count": 6,
   "id": "cb12b0b8",
   "metadata": {},
   "outputs": [],
   "source": [
    "# # first see which index of the point we are referring to in pts\n",
    "# for pt,month in zip(releasept,monthi):\n",
    "#     idx = (np.intersect1d(np.where(pts[:,0] == pt[0]),np.where(pts[:,1] == pt[1])))\n",
    "#     thismonth = exists[month]\n",
    "#     ispolynya = np.append(ispolynya,thismonth[idx])"
   ]
  },
  {
   "cell_type": "code",
   "execution_count": 7,
   "id": "750f0acc",
   "metadata": {},
   "outputs": [],
   "source": [
    "# polidx = np.where(ispolynya == 1)[0]\n",
    "# xgrid = xgrid[:,polidx]\n",
    "# ygrid = ygrid[:,polidx]"
   ]
  },
  {
   "cell_type": "code",
   "execution_count": 8,
   "id": "f1f80ba9",
   "metadata": {},
   "outputs": [],
   "source": [
    "# # select the initial columns of values (at all times)\n",
    "# all_salt = ds.variables['salt'].values[:,polidx]\n",
    "# all_temp = ds.variables['temp'].values[:,polidx]\n",
    "# all_depth = ds.variables['depth'].values[:,polidx]"
   ]
  },
  {
   "cell_type": "code",
   "execution_count": 9,
   "id": "ef8077cc",
   "metadata": {},
   "outputs": [],
   "source": [
    "# all_dens = ds.variables['rho'].values[:,polidx]"
   ]
  },
  {
   "cell_type": "code",
   "execution_count": 10,
   "id": "1d52e9e7",
   "metadata": {},
   "outputs": [],
   "source": [
    "# polidx.tofile(\"/scratch/project_2000789/muramarg/floats_WAOM/text_files/polidx.txt\",sep=\",\")"
   ]
  },
  {
   "cell_type": "code",
   "execution_count": 11,
   "id": "5c2bad06",
   "metadata": {},
   "outputs": [],
   "source": [
    "# idx_arr = idx_arr[:,polidx]"
   ]
  },
  {
   "cell_type": "code",
   "execution_count": 12,
   "id": "347e2153",
   "metadata": {},
   "outputs": [],
   "source": [
    "# # create the new grids of only single year values\n",
    "# salt = np.empty((35040,7195))\n",
    "# temp = np.empty((35040,7195))\n",
    "# depth = np.empty((35040,7195))\n",
    "# dens = np.empty((35040,7195))\n",
    "\n",
    "# # select in the ds.xgrid and ds.ygrid based on the values in the idx_arr\n",
    "# for i in range(len(polidx)):\n",
    "#     idxs = idx_arr[:,i]\n",
    "#     thissalt = all_salt[:,i][idxs[0]:idxs[1]]\n",
    "#     thistemp = all_temp[:,i][idxs[0]:idxs[1]]\n",
    "#     thisdept = all_depth[:,i][idxs[0]:idxs[1]]\n",
    "#     thisdens = all_dens[:,i][idxs[0]:idxs[1]]\n",
    "    \n",
    "#     # add these values to our new xgrid and ygrid for one year\n",
    "#     salt[:,i] = thissalt\n",
    "#     temp[:,i] = thistemp\n",
    "#     depth[:,i] = thisdept\n",
    "#     dens[:,i] = thisdens"
   ]
  },
  {
   "cell_type": "code",
   "execution_count": 13,
   "id": "899f12d4",
   "metadata": {},
   "outputs": [],
   "source": [
    "# print(salt[:, ~np.isnan(salt).any(axis=0)].shape)\n",
    "# print(salt.shape)"
   ]
  },
  {
   "cell_type": "code",
   "execution_count": 14,
   "id": "5f00e7af",
   "metadata": {},
   "outputs": [],
   "source": [
    "# nonnaidx = ~np.isnan(salt).any(axis=0) \n",
    "# non0 = ~np.all(salt == 0, axis = 0)\n",
    "# testi = np.logical_and(nonnaidx, non0)\n",
    "# testi"
   ]
  },
  {
   "cell_type": "code",
   "execution_count": 15,
   "id": "29abe8cf",
   "metadata": {},
   "outputs": [],
   "source": [
    "# xgrid = xgrid[:,testi]"
   ]
  },
  {
   "cell_type": "code",
   "execution_count": 16,
   "id": "46debc06",
   "metadata": {},
   "outputs": [],
   "source": [
    "# polidx = polidx[testi]\n",
    "# polidx.tofile(\"/scratch/project_2000789/muramarg/floats_WAOM/text_files/polidx.txt\",sep=\",\")"
   ]
  },
  {
   "cell_type": "code",
   "execution_count": 17,
   "id": "32972843",
   "metadata": {},
   "outputs": [],
   "source": [
    "# ygrid = ygrid[:,testi]\n",
    "# salt = salt[:,testi]\n",
    "# temp = temp[:,testi]\n",
    "# depth = depth[:,testi]\n",
    "# dens = dens[:,testi]"
   ]
  },
  {
   "cell_type": "code",
   "execution_count": 18,
   "id": "1c6a3595",
   "metadata": {},
   "outputs": [],
   "source": [
    "# # write our arrays to a file so we don't hopefully have to redo this\n",
    "# xgrid.tofile(\"/scratch/project_2000789/muramarg/floats_WAOM/text_files/xgrid.txt\",sep=\",\")\n",
    "# ygrid.tofile(\"/scratch/project_2000789/muramarg/floats_WAOM/text_files/ygrid.txt\",sep=\",\")\n",
    "# salt.tofile(\"/scratch/project_2000789/muramarg/floats_WAOM/text_files/salt.txt\",sep=\",\")\n",
    "# temp.tofile(\"/scratch/project_2000789/muramarg/floats_WAOM/text_files/temp.txt\",sep=\",\")\n",
    "# depth.tofile(\"/scratch/project_2000789/muramarg/floats_WAOM/text_files/depth.txt\",sep=\",\")\n",
    "# dens.tofile(\"/scratch/project_2000789/muramarg/floats_WAOM/text_files/dens.txt\",sep=\",\")"
   ]
  },
  {
   "cell_type": "markdown",
   "id": "788fa55c",
   "metadata": {},
   "source": [
    "### Or load from file"
   ]
  },
  {
   "cell_type": "code",
   "execution_count": 19,
   "id": "a45b0511",
   "metadata": {},
   "outputs": [],
   "source": [
    "# write these to files? does this save time\n",
    "xgrid = np.fromfile(\"/scratch/project_2000789/muramarg/floats_WAOM/text_files/xgrid.txt\",sep=\",\")\n",
    "ygrid = np.fromfile(\"/scratch/project_2000789/muramarg/floats_WAOM/text_files/ygrid.txt\",sep=\",\")\n",
    "salt = np.fromfile(\"/scratch/project_2000789/muramarg/floats_WAOM/text_files/salt.txt\",sep=\",\")\n",
    "\n",
    "xgrid = xgrid.reshape((35040,6586))\n",
    "ygrid = ygrid.reshape((35040,6586))\n",
    "salt = salt.reshape((35040,6586))"
   ]
  },
  {
   "cell_type": "code",
   "execution_count": 20,
   "id": "d6378bca",
   "metadata": {},
   "outputs": [],
   "source": [
    "temp = np.fromfile(\"/scratch/project_2000789/muramarg/floats_WAOM/text_files/temp.txt\",sep=\",\")\n",
    "depth = np.fromfile(\"/scratch/project_2000789/muramarg/floats_WAOM/text_files/depth.txt\",sep=\",\")\n",
    "temp = temp.reshape((35040,6586))\n",
    "depth = depth.reshape((35040,6586))"
   ]
  },
  {
   "cell_type": "code",
   "execution_count": 2,
   "id": "481b1d39",
   "metadata": {},
   "outputs": [
    {
     "data": {
      "text/plain": [
       "array([[5., 1., 1., ..., 6., 6., 6.],\n",
       "       [5., 1., 1., ..., 6., 6., 6.],\n",
       "       [5., 1., 1., ..., 6., 6., 6.],\n",
       "       ...,\n",
       "       [1., 1., 6., ..., 6., 6., 1.],\n",
       "       [1., 1., 6., ..., 6., 6., 1.],\n",
       "       [1., 1., 6., ..., 6., 6., 1.]])"
      ]
     },
     "execution_count": 2,
     "metadata": {},
     "output_type": "execute_result"
    }
   ],
   "source": [
    "wmt = np.fromfile(\"/scratch/project_2000789/muramarg/floats_WAOM/text_files/wmt_final.txt\",sep=\",\")\n",
    "wmt = wmt.reshape((35040,-1))\n",
    "wmt"
   ]
  },
  {
   "cell_type": "code",
   "execution_count": 3,
   "id": "f39f5444",
   "metadata": {},
   "outputs": [
    {
     "data": {
      "text/plain": [
       "(35040, 6586)"
      ]
     },
     "execution_count": 3,
     "metadata": {},
     "output_type": "execute_result"
    }
   ],
   "source": [
    "wmt.shape"
   ]
  },
  {
   "cell_type": "markdown",
   "id": "14ec2abc",
   "metadata": {},
   "source": [
    "### CT and SA"
   ]
  },
  {
   "cell_type": "code",
   "execution_count": 22,
   "id": "4c0dcb3d",
   "metadata": {},
   "outputs": [],
   "source": [
    "# convert the waom values to gsw values\n",
    "# convert depth to sea pressure\n",
    "long = 73.5089\n",
    "lat = -66.8245\n",
    "p = gsw.p_from_z(z=depth,lat=-66.8245)\n",
    "\n",
    "\n",
    "# convert the absolute salinity from practical salinity\n",
    "SA = gsw.SA_from_SP(salt,p,long,lat)    # absolute salinity from practical salinity\n",
    "\n",
    "# convert potential T to conservative T\n",
    "CT = gsw.CT_from_pt(SA,temp)   # conservative T from potential T\n",
    "\n",
    "# find the potential density from SA, CT, p\n",
    "rho_pot = gsw.rho(SA,CT,p) - 1000"
   ]
  },
  {
   "cell_type": "markdown",
   "id": "c4e89a05",
   "metadata": {},
   "source": [
    "## Now create the grouping"
   ]
  },
  {
   "cell_type": "code",
   "execution_count": 23,
   "id": "b68f67db",
   "metadata": {},
   "outputs": [
    {
     "data": {
      "text/html": [
       "<div>\n",
       "<style scoped>\n",
       "    .dataframe tbody tr th:only-of-type {\n",
       "        vertical-align: middle;\n",
       "    }\n",
       "\n",
       "    .dataframe tbody tr th {\n",
       "        vertical-align: top;\n",
       "    }\n",
       "\n",
       "    .dataframe thead th {\n",
       "        text-align: right;\n",
       "    }\n",
       "</style>\n",
       "<table border=\"1\" class=\"dataframe\">\n",
       "  <thead>\n",
       "    <tr style=\"text-align: right;\">\n",
       "      <th></th>\n",
       "      <th>dT</th>\n",
       "      <th>dsat</th>\n",
       "      <th>drho</th>\n",
       "    </tr>\n",
       "  </thead>\n",
       "  <tbody>\n",
       "    <tr>\n",
       "      <th>0</th>\n",
       "      <td>-0.013342</td>\n",
       "      <td>0.231283</td>\n",
       "      <td>0.412905</td>\n",
       "    </tr>\n",
       "    <tr>\n",
       "      <th>1</th>\n",
       "      <td>0.479493</td>\n",
       "      <td>0.217374</td>\n",
       "      <td>1.122429</td>\n",
       "    </tr>\n",
       "    <tr>\n",
       "      <th>2</th>\n",
       "      <td>0.458929</td>\n",
       "      <td>0.224650</td>\n",
       "      <td>1.208951</td>\n",
       "    </tr>\n",
       "    <tr>\n",
       "      <th>3</th>\n",
       "      <td>-0.131997</td>\n",
       "      <td>0.028060</td>\n",
       "      <td>0.044213</td>\n",
       "    </tr>\n",
       "    <tr>\n",
       "      <th>4</th>\n",
       "      <td>-0.182401</td>\n",
       "      <td>0.169073</td>\n",
       "      <td>0.262203</td>\n",
       "    </tr>\n",
       "    <tr>\n",
       "      <th>...</th>\n",
       "      <td>...</td>\n",
       "      <td>...</td>\n",
       "      <td>...</td>\n",
       "    </tr>\n",
       "    <tr>\n",
       "      <th>6581</th>\n",
       "      <td>-0.809865</td>\n",
       "      <td>-0.068990</td>\n",
       "      <td>1.949936</td>\n",
       "    </tr>\n",
       "    <tr>\n",
       "      <th>6582</th>\n",
       "      <td>-1.049226</td>\n",
       "      <td>0.009701</td>\n",
       "      <td>2.399629</td>\n",
       "    </tr>\n",
       "    <tr>\n",
       "      <th>6583</th>\n",
       "      <td>-0.033729</td>\n",
       "      <td>-0.038288</td>\n",
       "      <td>1.748677</td>\n",
       "    </tr>\n",
       "    <tr>\n",
       "      <th>6584</th>\n",
       "      <td>-0.352578</td>\n",
       "      <td>-0.136855</td>\n",
       "      <td>0.035242</td>\n",
       "    </tr>\n",
       "    <tr>\n",
       "      <th>6585</th>\n",
       "      <td>-0.230098</td>\n",
       "      <td>-0.180157</td>\n",
       "      <td>1.392013</td>\n",
       "    </tr>\n",
       "  </tbody>\n",
       "</table>\n",
       "<p>6586 rows × 3 columns</p>\n",
       "</div>"
      ],
      "text/plain": [
       "            dT      dsat      drho\n",
       "0    -0.013342  0.231283  0.412905\n",
       "1     0.479493  0.217374  1.122429\n",
       "2     0.458929  0.224650  1.208951\n",
       "3    -0.131997  0.028060  0.044213\n",
       "4    -0.182401  0.169073  0.262203\n",
       "...        ...       ...       ...\n",
       "6581 -0.809865 -0.068990  1.949936\n",
       "6582 -1.049226  0.009701  2.399629\n",
       "6583 -0.033729 -0.038288  1.748677\n",
       "6584 -0.352578 -0.136855  0.035242\n",
       "6585 -0.230098 -0.180157  1.392013\n",
       "\n",
       "[6586 rows x 3 columns]"
      ]
     },
     "execution_count": 23,
     "metadata": {},
     "output_type": "execute_result"
    }
   ],
   "source": [
    "# convert the absolute salinity from practical salinity\n",
    "dSA = SA[-1]-SA[0]\n",
    "\n",
    "# convert potential T to conservative T\n",
    "dCT = CT[-1]-CT[0]\n",
    "\n",
    "# find the potential density from SA, CT, p\n",
    "drho_pot = rho_pot[-1]-rho_pot[0]\n",
    "\n",
    "df = pd.DataFrame()\n",
    "df[\"dT\"] = dCT\n",
    "df[\"dsat\"] = dSA\n",
    "df[\"drho\"] = drho_pot\n",
    "df"
   ]
  },
  {
   "cell_type": "code",
   "execution_count": 24,
   "id": "7041e3ca",
   "metadata": {},
   "outputs": [
    {
     "name": "stdout",
     "output_type": "stream",
     "text": [
      "[2661 1027 4900 1974 2144 5079]\n",
      "Cluster 0:\n",
      "2907\n",
      "Cluster 1:\n",
      "695\n",
      "Cluster 2:\n",
      "1687\n",
      "Cluster 3:\n",
      "412\n",
      "Cluster 4:\n",
      "333\n",
      "Cluster 5:\n",
      "552\n"
     ]
    },
    {
     "data": {
      "image/png": "[encoded data removed]",
      "text/plain": [
       "<Figure size 700x700 with 1 Axes>"
      ]
     },
     "metadata": {},
     "output_type": "display_data"
    }
   ],
   "source": [
    "# Plot the dendrogram for the Ward proximity measure\n",
    "index_names = list(df.index)\n",
    "z = linkage(df,method='ward')\n",
    "plt.figure(figsize = (7,7))\n",
    "plt.suptitle('Dendrogram for Ward Function')\n",
    "plt.xlabel('Particle')\n",
    "plt.ylabel('Height')\n",
    "dendrogramward = dendrogram(Z=z,labels=index_names,get_leaves=True)\n",
    "# plt.show()\n",
    "\n",
    "# set the number of clusters and get the names\n",
    "numclust = 6\n",
    "fl = fcluster(z,numclust,criterion='maxclust')\n",
    "# new dataframe\n",
    "df_clst = pd.DataFrame()\n",
    "df_clst['index']  = index_names\n",
    "df_clst['clust_label']  = fl\n",
    "# get the clusters from fcluster to choose centroids\n",
    "centroids_idx = np.array([],dtype=int)\n",
    "for i in range(6):\n",
    "    # print the values in each group\n",
    "    elements = df_clst[df_clst['clust_label']==i+1]['index'].tolist()  \n",
    "    size = len(elements)    \n",
    "    # get a random number from elements as a centroid\n",
    "    centroids_idx = np.append(centroids_idx, random.choice(elements))\n",
    "print(centroids_idx)\n",
    "\n",
    "# choose the centroids based on the smallest values from the particles\n",
    "# we will choose the centroids at random from the 6 groups\n",
    "# get the initial centroids\n",
    "index_names = list(df.index)\n",
    "c0 = df.iloc[index_names.index(centroids_idx[0])]\n",
    "c1 = df.iloc[index_names.index(centroids_idx[1])]\n",
    "c2 = df.iloc[index_names.index(centroids_idx[2])]\n",
    "c3 = df.iloc[index_names.index(centroids_idx[3])]\n",
    "c4 = df.iloc[index_names.index(centroids_idx[4])]\n",
    "c5 = df.iloc[index_names.index(centroids_idx[5])]\n",
    "\n",
    "centroids = np.array([c0,c1,c2,c3,c4,c5]) #c5,c6,c7,c8])\n",
    "\n",
    "# Compute the k-means clusters and show the listing of the States in each cluster\n",
    "kmeans = KMeans(n_clusters=6,init=centroids,n_init=1,random_state=23).fit(df)\n",
    "centroids = kmeans.cluster_centers_\n",
    "assignment = kmeans.fit_predict(df,centroids)\n",
    "\n",
    "# get the cluster for each state\n",
    "zeroes=[x for x,y in enumerate(assignment) if y == 0]\n",
    "ones=[x for x,y in enumerate(assignment) if y == 1]\n",
    "twos=[x for x,y in enumerate(assignment) if y == 2]\n",
    "threes=[x for x,y in enumerate(assignment) if y == 3]\n",
    "fours=[x for x,y in enumerate(assignment) if y == 4]\n",
    "fives=[x for x,y in enumerate(assignment) if y == 5]\n",
    "\n",
    "clusters = [zeroes,ones,twos,threes,fours,fives] #sevens,eights]\n",
    "states = [[],[],[],[],[],[]] #[],[],[],[]]\n",
    "num = 0\n",
    "for clust in clusters:\n",
    "    # cluster to append to is states[num]\n",
    "    for idx in clust:\n",
    "        state = index_names[idx]\n",
    "        states[num].append(state)\n",
    "    print('Cluster '+str(num)+':')\n",
    "    print(len(states[num]))\n",
    "    num += 1"
   ]
  },
  {
   "cell_type": "code",
   "execution_count": 25,
   "id": "a5d011a0",
   "metadata": {},
   "outputs": [],
   "source": [
    "# # get the indices for each of the groups\n",
    "group1 = states[0]\n",
    "group2 = states[1]\n",
    "group3 = states[2]\n",
    "group4 = states[3]\n",
    "group5 = states[4]\n",
    "group6 = states[5]\n",
    "groups = np.array([group1,group2,group3,group4,group5,group6],dtype=object)"
   ]
  },
  {
   "cell_type": "markdown",
   "id": "5c864bc1",
   "metadata": {},
   "source": [
    "### Check the quality of the grouping"
   ]
  },
  {
   "cell_type": "code",
   "execution_count": 3,
   "id": "f630ab97",
   "metadata": {},
   "outputs": [],
   "source": [
    "group1 = np.fromfile(\"/scratch/project_2000789/muramarg/floats_WAOM/GroupFiles/group3_6586.txt\",sep=\",\")\n",
    "group2 = np.fromfile(\"/scratch/project_2000789/muramarg/floats_WAOM/GroupFiles/group1_6586.txt\",sep=\",\")\n",
    "group3 = np.fromfile(\"/scratch/project_2000789/muramarg/floats_WAOM/GroupFiles/group6_6586.txt\",sep=\",\")\n",
    "group4 = np.fromfile(\"/scratch/project_2000789/muramarg/floats_WAOM/GroupFiles/group2_6586.txt\",sep=\",\")\n",
    "group5 = np.fromfile(\"/scratch/project_2000789/muramarg/floats_WAOM/GroupFiles/group4_6586.txt\",sep=\",\")\n",
    "group6 = np.fromfile(\"/scratch/project_2000789/muramarg/floats_WAOM/GroupFiles/group5_6586.txt\",sep=\",\")\n",
    "\n",
    "group1 = group1.tolist()\n",
    "group1 = [int(x) for x in group1]\n",
    "group2 = group2.tolist()\n",
    "group2 = [int(x) for x in group2]\n",
    "group3 = group3.tolist()\n",
    "group3 = [int(x) for x in group3]\n",
    "group4 = group4.tolist()\n",
    "group4 = [int(x) for x in group4]\n",
    "group5 = group5.tolist()\n",
    "group5 = [int(x) for x in group5]\n",
    "group6 = group6.tolist()\n",
    "group6 = [int(x) for x in group6]\n",
    "\n",
    "groups = np.array([group1,group2,group3,group4,group5,group6],dtype=object)"
   ]
  },
  {
   "cell_type": "code",
   "execution_count": 4,
   "id": "af4cef5a",
   "metadata": {},
   "outputs": [],
   "source": [
    "# quality of the grouping\n",
    "# find the number of values in each group that match each of the water masses\n",
    "# we have the arrays temp, freez_temp, salt, enddens_allvals, depth\n",
    "lengths = np.array([])\n",
    "AABW_percents = np.array([])\n",
    "MCDW_percents = np.array([])\n",
    "ISW_percents = np.array([])\n",
    "DSW_percents = np.array([])\n",
    "AASW_percents = np.array([])\n",
    "WW_percents = np.array([])\n",
    "other_percents = np.array([])\n",
    "\n",
    "#wmt = np.fromfile(\"/scratch/project_2000789/muramarg/floats_WAOM/text_files/wmt_final.txt\",sep=\",\")\n",
    "#wmt = wmt.reshape((35040,6586))\n",
    "wmt = np.fromfile(\"/scratch/project_2000789/muramarg/floats_WAOM/text_files/mass_wmt.txt\",sep=\",\")\n",
    "wmt = wmt.reshape((35040,-1))\n",
    "\n",
    "for group in groups:\n",
    "    # how many particles are in the group\n",
    "    lengths = np.append(lengths,len(group))\n",
    "    \n",
    "    # get the individual quantities of each group from mass and do value counts\n",
    "    #thismass = wmt[-1][group]\n",
    "    \n",
    "    thismass = wmt[-1][group]\n",
    "    unique_elements, counts_elements = np.unique(thismass, return_counts=True)\n",
    "    \n",
    "    # see if any number is not in list and if not then add 0 to the end of the list\n",
    "    for i in range(7):\n",
    "        if not np.any(unique_elements == i):\n",
    "            # append this number and zero to unique,counts\n",
    "            unique_elements = np.append(unique_elements,i)\n",
    "            counts_elements = np.append(counts_elements,0)\n",
    "            \n",
    "    # 0 is aabw, 1 is mcdw, 2 is isw, 3 is dsw, 4 is aasw, 5 is other (ISW shallower than 100m), 6 is msw\n",
    "    \n",
    "    for i in range(len(unique_elements)):\n",
    "        if unique_elements[i] == 0:\n",
    "            AABW_percents =np.append(AABW_percents,counts_elements[i])\n",
    "        elif unique_elements[i] == 1:\n",
    "            MCDW_percents =np.append(MCDW_percents,counts_elements[i])\n",
    "        elif unique_elements[i] == 2:\n",
    "            ISW_percents =np.append(ISW_percents,counts_elements[i])\n",
    "        elif unique_elements[i] == 3:\n",
    "            DSW_percents =np.append(DSW_percents,counts_elements[i])\n",
    "        elif unique_elements[i] == 4:\n",
    "            AASW_percents =np.append(AASW_percents,counts_elements[i])\n",
    "        elif unique_elements[i] == 5:\n",
    "            WW_percents = np.append(WW_percents,counts_elements[i])\n",
    "        elif unique_elements[i] == 6:\n",
    "            other_percents = np.append(other_percents,counts_elements[i])"
   ]
  },
  {
   "cell_type": "code",
   "execution_count": 5,
   "id": "98105aac",
   "metadata": {},
   "outputs": [
    {
     "data": {
      "text/html": [
       "<div>\n",
       "<style scoped>\n",
       "    .dataframe tbody tr th:only-of-type {\n",
       "        vertical-align: middle;\n",
       "    }\n",
       "\n",
       "    .dataframe tbody tr th {\n",
       "        vertical-align: top;\n",
       "    }\n",
       "\n",
       "    .dataframe thead th {\n",
       "        text-align: right;\n",
       "    }\n",
       "</style>\n",
       "<table border=\"1\" class=\"dataframe\">\n",
       "  <thead>\n",
       "    <tr style=\"text-align: right;\">\n",
       "      <th></th>\n",
       "      <th># of particles</th>\n",
       "      <th>AABW</th>\n",
       "      <th>MCDW</th>\n",
       "      <th>ISW</th>\n",
       "      <th>DSW</th>\n",
       "      <th>AASW</th>\n",
       "      <th>WW</th>\n",
       "      <th>mSW</th>\n",
       "    </tr>\n",
       "  </thead>\n",
       "  <tbody>\n",
       "    <tr>\n",
       "      <th>3</th>\n",
       "      <td>552.0</td>\n",
       "      <td>552.0</td>\n",
       "      <td>0.0</td>\n",
       "      <td>0.0</td>\n",
       "      <td>0.0</td>\n",
       "      <td>0.0</td>\n",
       "      <td>0.0</td>\n",
       "      <td>0.0</td>\n",
       "    </tr>\n",
       "    <tr>\n",
       "      <th>1</th>\n",
       "      <td>1687.0</td>\n",
       "      <td>0.0</td>\n",
       "      <td>980.0</td>\n",
       "      <td>385.0</td>\n",
       "      <td>14.0</td>\n",
       "      <td>274.0</td>\n",
       "      <td>17.0</td>\n",
       "      <td>17.0</td>\n",
       "    </tr>\n",
       "    <tr>\n",
       "      <th>6</th>\n",
       "      <td>333.0</td>\n",
       "      <td>333.0</td>\n",
       "      <td>0.0</td>\n",
       "      <td>0.0</td>\n",
       "      <td>0.0</td>\n",
       "      <td>0.0</td>\n",
       "      <td>0.0</td>\n",
       "      <td>0.0</td>\n",
       "    </tr>\n",
       "    <tr>\n",
       "      <th>2</th>\n",
       "      <td>2907.0</td>\n",
       "      <td>0.0</td>\n",
       "      <td>731.0</td>\n",
       "      <td>55.0</td>\n",
       "      <td>75.0</td>\n",
       "      <td>1561.0</td>\n",
       "      <td>461.0</td>\n",
       "      <td>24.0</td>\n",
       "    </tr>\n",
       "    <tr>\n",
       "      <th>4</th>\n",
       "      <td>695.0</td>\n",
       "      <td>420.0</td>\n",
       "      <td>242.0</td>\n",
       "      <td>15.0</td>\n",
       "      <td>0.0</td>\n",
       "      <td>0.0</td>\n",
       "      <td>0.0</td>\n",
       "      <td>18.0</td>\n",
       "    </tr>\n",
       "    <tr>\n",
       "      <th>5</th>\n",
       "      <td>412.0</td>\n",
       "      <td>412.0</td>\n",
       "      <td>0.0</td>\n",
       "      <td>0.0</td>\n",
       "      <td>0.0</td>\n",
       "      <td>0.0</td>\n",
       "      <td>0.0</td>\n",
       "      <td>0.0</td>\n",
       "    </tr>\n",
       "  </tbody>\n",
       "</table>\n",
       "</div>"
      ],
      "text/plain": [
       "   # of particles   AABW   MCDW    ISW   DSW    AASW     WW   mSW\n",
       "3           552.0  552.0    0.0    0.0   0.0     0.0    0.0   0.0\n",
       "1          1687.0    0.0  980.0  385.0  14.0   274.0   17.0  17.0\n",
       "6           333.0  333.0    0.0    0.0   0.0     0.0    0.0   0.0\n",
       "2          2907.0    0.0  731.0   55.0  75.0  1561.0  461.0  24.0\n",
       "4           695.0  420.0  242.0   15.0   0.0     0.0    0.0  18.0\n",
       "5           412.0  412.0    0.0    0.0   0.0     0.0    0.0   0.0"
      ]
     },
     "execution_count": 5,
     "metadata": {},
     "output_type": "execute_result"
    }
   ],
   "source": [
    "wmt_df = pd.DataFrame(index=[\"1\",\"2\",\"3\",\"4\",\"5\",\"6\"])\n",
    "wmt_df[\"# of particles\"] = lengths\n",
    "wmt_df[\"AABW\"] = AABW_percents\n",
    "wmt_df[\"MCDW\"] = MCDW_percents\n",
    "wmt_df[\"ISW\"] = ISW_percents\n",
    "wmt_df[\"DSW\"] = DSW_percents\n",
    "wmt_df[\"AASW\"] = AASW_percents\n",
    "wmt_df[\"WW\"] = WW_percents\n",
    "wmt_df[\"mSW\"] = other_percents\n",
    "\n",
    "# rename the indices\n",
    "# wmt_df.rename()\n",
    "wmt_df = wmt_df.reindex([\"3\",\"1\",\"6\",\"2\",\"4\",\"5\"])\n",
    "# wmt_df = wmt_df.rename(index={\"3\":\"1\",\"1\":\"2\",\"6\":\"3\",\"2\":\"4\",\"4\":\"5\",\"5\":\"6\"})\n",
    "\n",
    "wmt_df"
   ]
  },
  {
   "cell_type": "code",
   "execution_count": 6,
   "id": "d47342c8",
   "metadata": {},
   "outputs": [
    {
     "name": "stdout",
     "output_type": "stream",
     "text": [
      "6586.0\n"
     ]
    }
   ],
   "source": [
    "print(sum(wmt_df[\"# of particles\"]))"
   ]
  },
  {
   "cell_type": "code",
   "execution_count": 7,
   "id": "a8cd614e",
   "metadata": {},
   "outputs": [
    {
     "data": {
      "text/html": [
       "<div>\n",
       "<style scoped>\n",
       "    .dataframe tbody tr th:only-of-type {\n",
       "        vertical-align: middle;\n",
       "    }\n",
       "\n",
       "    .dataframe tbody tr th {\n",
       "        vertical-align: top;\n",
       "    }\n",
       "\n",
       "    .dataframe thead th {\n",
       "        text-align: right;\n",
       "    }\n",
       "</style>\n",
       "<table border=\"1\" class=\"dataframe\">\n",
       "  <thead>\n",
       "    <tr style=\"text-align: right;\">\n",
       "      <th></th>\n",
       "      <th>% of Total</th>\n",
       "      <th>AABW</th>\n",
       "      <th>mCDW</th>\n",
       "      <th>ISW</th>\n",
       "      <th>DSW</th>\n",
       "      <th>AASW</th>\n",
       "      <th>WW</th>\n",
       "      <th>mSW</th>\n",
       "    </tr>\n",
       "  </thead>\n",
       "  <tbody>\n",
       "    <tr>\n",
       "      <th>3</th>\n",
       "      <td>0.083814</td>\n",
       "      <td>1.000000</td>\n",
       "      <td>0.000000</td>\n",
       "      <td>0.000000</td>\n",
       "      <td>0.000000</td>\n",
       "      <td>0.000000</td>\n",
       "      <td>0.000000</td>\n",
       "      <td>0.000000</td>\n",
       "    </tr>\n",
       "    <tr>\n",
       "      <th>1</th>\n",
       "      <td>0.256149</td>\n",
       "      <td>0.000000</td>\n",
       "      <td>0.580913</td>\n",
       "      <td>0.228216</td>\n",
       "      <td>0.008299</td>\n",
       "      <td>0.162418</td>\n",
       "      <td>0.010077</td>\n",
       "      <td>0.010077</td>\n",
       "    </tr>\n",
       "    <tr>\n",
       "      <th>6</th>\n",
       "      <td>0.050562</td>\n",
       "      <td>1.000000</td>\n",
       "      <td>0.000000</td>\n",
       "      <td>0.000000</td>\n",
       "      <td>0.000000</td>\n",
       "      <td>0.000000</td>\n",
       "      <td>0.000000</td>\n",
       "      <td>0.000000</td>\n",
       "    </tr>\n",
       "    <tr>\n",
       "      <th>2</th>\n",
       "      <td>0.441391</td>\n",
       "      <td>0.000000</td>\n",
       "      <td>0.251462</td>\n",
       "      <td>0.018920</td>\n",
       "      <td>0.025800</td>\n",
       "      <td>0.536980</td>\n",
       "      <td>0.158583</td>\n",
       "      <td>0.008256</td>\n",
       "    </tr>\n",
       "    <tr>\n",
       "      <th>4</th>\n",
       "      <td>0.105527</td>\n",
       "      <td>0.604317</td>\n",
       "      <td>0.348201</td>\n",
       "      <td>0.021583</td>\n",
       "      <td>0.000000</td>\n",
       "      <td>0.000000</td>\n",
       "      <td>0.000000</td>\n",
       "      <td>0.025899</td>\n",
       "    </tr>\n",
       "    <tr>\n",
       "      <th>5</th>\n",
       "      <td>0.062557</td>\n",
       "      <td>1.000000</td>\n",
       "      <td>0.000000</td>\n",
       "      <td>0.000000</td>\n",
       "      <td>0.000000</td>\n",
       "      <td>0.000000</td>\n",
       "      <td>0.000000</td>\n",
       "      <td>0.000000</td>\n",
       "    </tr>\n",
       "  </tbody>\n",
       "</table>\n",
       "</div>"
      ],
      "text/plain": [
       "   % of Total      AABW      mCDW       ISW       DSW      AASW        WW  \\\n",
       "3    0.083814  1.000000  0.000000  0.000000  0.000000  0.000000  0.000000   \n",
       "1    0.256149  0.000000  0.580913  0.228216  0.008299  0.162418  0.010077   \n",
       "6    0.050562  1.000000  0.000000  0.000000  0.000000  0.000000  0.000000   \n",
       "2    0.441391  0.000000  0.251462  0.018920  0.025800  0.536980  0.158583   \n",
       "4    0.105527  0.604317  0.348201  0.021583  0.000000  0.000000  0.000000   \n",
       "5    0.062557  1.000000  0.000000  0.000000  0.000000  0.000000  0.000000   \n",
       "\n",
       "        mSW  \n",
       "3  0.000000  \n",
       "1  0.010077  \n",
       "6  0.000000  \n",
       "2  0.008256  \n",
       "4  0.025899  \n",
       "5  0.000000  "
      ]
     },
     "execution_count": 7,
     "metadata": {},
     "output_type": "execute_result"
    }
   ],
   "source": [
    "# remake the above dataframe with percentages\n",
    "df1 = pd.DataFrame(index=[\"1\",\"2\",\"3\",\"4\",\"5\",\"6\"])\n",
    "df1[\"% of Total\"] = wmt_df[\"# of particles\"]/sum(wmt_df[\"# of particles\"])\n",
    "df1[\"AABW\"] = wmt_df[\"AABW\"]/wmt_df[\"# of particles\"]\n",
    "df1[\"mCDW\"] = wmt_df[\"MCDW\"]/wmt_df[\"# of particles\"]\n",
    "df1[\"ISW\"] = wmt_df[\"ISW\"]/wmt_df[\"# of particles\"]\n",
    "df1[\"DSW\"] = wmt_df[\"DSW\"]/wmt_df[\"# of particles\"]\n",
    "df1[\"AASW\"] = wmt_df[\"AASW\"]/wmt_df[\"# of particles\"]\n",
    "df1[\"WW\"] = wmt_df[\"WW\"]/wmt_df[\"# of particles\"]\n",
    "df1[\"mSW\"] = wmt_df[\"mSW\"]/wmt_df[\"# of particles\"]\n",
    "\n",
    "df1 = df1.reindex([\"3\",\"1\",\"6\",\"2\",\"4\",\"5\"])\n",
    "# df1 = df1.rename(index={\"3\":\"1\",\"1\":\"2\",\"6\":\"3\",\"2\":\"4\",\"4\":\"5\",\"5\":\"6\"})\n",
    "\n",
    "df1"
   ]
  },
  {
   "cell_type": "code",
   "execution_count": 41,
   "id": "c508fea5",
   "metadata": {},
   "outputs": [],
   "source": [
    "group3a = np.asarray(group1)\n",
    "group3a.tofile(\"/scratch/project_2000789/muramarg/floats_WAOM/GroupFiles/group1_6586.txt\",sep=\",\")\n",
    "#group0 = np.fromfile(\"/scratch/project_2000789/muramarg/floats_WAOM/GroupFiles/group0.txt\",sep=\",\")\n",
    "\n",
    "group1a = np.asarray(group2)\n",
    "group1a.tofile(\"/scratch/project_2000789/muramarg/floats_WAOM/GroupFiles/group2_6586.txt\",sep=\",\")\n",
    "#group1 = np.fromfile(\"/scratch/project_2000789/muramarg/floats_WAOM/GroupFiles/group1.txt\",sep=\",\")\n",
    "\n",
    "group6a = np.asarray(group3)\n",
    "group6a.tofile(\"/scratch/project_2000789/muramarg/floats_WAOM/GroupFiles/group3_6586.txt\",sep=\",\")\n",
    "#group2 = np.fromfile(\"/scratch/project_2000789/muramarg/floats_WAOM/GroupFiles/group2.txt\",sep=\",\")\n",
    "\n",
    "group2a = np.asarray(group4)\n",
    "group2a.tofile(\"/scratch/project_2000789/muramarg/floats_WAOM/GroupFiles/group4_6586.txt\",sep=\",\")\n",
    "#group3 = np.fromfile(\"/scratch/project_2000789/muramarg/floats_WAOM/GroupFiles/group3.txt\",sep=\",\")\n",
    "\n",
    "group4a = np.asarray(group5)\n",
    "group4a.tofile(\"/scratch/project_2000789/muramarg/floats_WAOM/GroupFiles/group5_6586.txt\",sep=\",\")\n",
    "#group4 = np.fromfile(\"/scratch/project_2000789/muramarg/floats_WAOM/GroupFiles/group4.txt\",sep=\",\")\n",
    "\n",
    "group5a = np.asarray(group6)\n",
    "group5a.tofile(\"/scratch/project_2000789/muramarg/floats_WAOM/GroupFiles/group6_6586.txt\",sep=\",\")\n",
    "#group5 = np.fromfile(\"/scratch/project_2000789/muramarg/floats_WAOM/GroupFiles/group5.txt\",sep=\",\")"
   ]
  },
  {
   "cell_type": "code",
   "execution_count": 60,
   "id": "c790f866",
   "metadata": {},
   "outputs": [],
   "source": [
    "group0 = group0.tolist()\n",
    "group0 = [int(x) for x in group0]\n",
    "\n",
    "group1 = group1.tolist()\n",
    "group1 = [int(x) for x in group1]\n",
    "\n",
    "group2 = group2.tolist()\n",
    "group2 = [int(x) for x in group2]\n",
    "\n",
    "group3 = group3.tolist()\n",
    "group3 = [int(x) for x in group3]\n",
    "\n",
    "group4 = group4.tolist()\n",
    "group4 = [int(x) for x in group4]\n",
    "\n",
    "group5 = group5.tolist()\n",
    "group5 = [int(x) for x in group5]"
   ]
  },
  {
   "cell_type": "code",
   "execution_count": 61,
   "id": "b0fc6a1f",
   "metadata": {},
   "outputs": [
    {
     "name": "stdout",
     "output_type": "stream",
     "text": [
      "509\n"
     ]
    }
   ],
   "source": [
    "print(len(group0))"
   ]
  },
  {
   "cell_type": "code",
   "execution_count": 43,
   "id": "11b0d044",
   "metadata": {},
   "outputs": [
    {
     "data": {
      "text/plain": [
       "2907"
      ]
     },
     "execution_count": 43,
     "metadata": {},
     "output_type": "execute_result"
    }
   ],
   "source": [
    "len(group1)"
   ]
  },
  {
   "cell_type": "code",
   "execution_count": 44,
   "id": "b2a42a23",
   "metadata": {},
   "outputs": [
    {
     "data": {
      "text/plain": [
       "552"
      ]
     },
     "execution_count": 44,
     "metadata": {},
     "output_type": "execute_result"
    }
   ],
   "source": [
    "group6b = np.fromfile(\"/scratch/project_2000789/muramarg/floats_WAOM/GroupFiles/group6_6586.txt\",sep=\",\")\n",
    "len(group6b)"
   ]
  },
  {
   "cell_type": "code",
   "execution_count": null,
   "id": "d7a1e52f",
   "metadata": {},
   "outputs": [],
   "source": []
  }
 ],
 "metadata": {
  "kernelspec": {
   "display_name": "Python 3 (ipykernel)",
   "language": "python",
   "name": "python3"
  },
  "language_info": {
   "codemirror_mode": {
    "name": "ipython",
    "version": 3
   },
   "file_extension": ".py",
   "mimetype": "text/x-python",
   "name": "python",
   "nbconvert_exporter": "python",
   "pygments_lexer": "ipython3",
   "version": "3.10.9"
  }
 },
 "nbformat": 4,
 "nbformat_minor": 5
}
